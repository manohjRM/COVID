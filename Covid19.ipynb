{
  "nbformat": 4,
  "nbformat_minor": 5,
  "metadata": {
    "kernelspec": {
      "display_name": "Python 3",
      "language": "python",
      "name": "python3"
    },
    "language_info": {
      "codemirror_mode": {
        "name": "ipython",
        "version": 3
      },
      "file_extension": ".py",
      "mimetype": "text/x-python",
      "name": "python",
      "nbconvert_exporter": "python",
      "pygments_lexer": "ipython3",
      "version": "3.8.8"
    },
    "colab": {
      "name": "Covid19.ipynb",
      "provenance": [],
      "collapsed_sections": []
    }
  },
  "cells": [
    {
      "cell_type": "code",
      "metadata": {
        "id": "3c0bd3b3"
      },
      "source": [
        "import pandas as pd\n",
        "import matplotlib.pyplot as plt\n",
        "import seaborn as sns\n",
        "import plotly\n",
        "import plotly.express as px\n",
        "import plotly.graph_objects as go"
      ],
      "id": "3c0bd3b3",
      "execution_count": 1,
      "outputs": []
    },
    {
      "cell_type": "code",
      "metadata": {
        "id": "6c6dd163"
      },
      "source": [
        "import warnings\n",
        "warnings.filterwarnings('ignore')"
      ],
      "id": "6c6dd163",
      "execution_count": 2,
      "outputs": []
    },
    {
      "cell_type": "code",
      "metadata": {
        "id": "a290e2b2"
      },
      "source": [
        "covid = pd.read_csv('covid_19_clean_complete.csv', parse_dates=['Date'])"
      ],
      "id": "a290e2b2",
      "execution_count": 3,
      "outputs": []
    },
    {
      "cell_type": "code",
      "metadata": {
        "colab": {
          "base_uri": "https://localhost:8080/",
          "height": 204
        },
        "id": "ff008dbf",
        "outputId": "021f6ec9-a6d8-4ea9-b955-6a56f5ec21c7"
      },
      "source": [
        "covid.head()"
      ],
      "id": "ff008dbf",
      "execution_count": 4,
      "outputs": [
        {
          "output_type": "execute_result",
          "data": {
            "text/html": [
              "<div>\n",
              "<style scoped>\n",
              "    .dataframe tbody tr th:only-of-type {\n",
              "        vertical-align: middle;\n",
              "    }\n",
              "\n",
              "    .dataframe tbody tr th {\n",
              "        vertical-align: top;\n",
              "    }\n",
              "\n",
              "    .dataframe thead th {\n",
              "        text-align: right;\n",
              "    }\n",
              "</style>\n",
              "<table border=\"1\" class=\"dataframe\">\n",
              "  <thead>\n",
              "    <tr style=\"text-align: right;\">\n",
              "      <th></th>\n",
              "      <th>Province/State</th>\n",
              "      <th>Country/Region</th>\n",
              "      <th>Lat</th>\n",
              "      <th>Long</th>\n",
              "      <th>Date</th>\n",
              "      <th>Confirmed</th>\n",
              "      <th>Deaths</th>\n",
              "      <th>Recovered</th>\n",
              "    </tr>\n",
              "  </thead>\n",
              "  <tbody>\n",
              "    <tr>\n",
              "      <th>0</th>\n",
              "      <td>NaN</td>\n",
              "      <td>Thailand</td>\n",
              "      <td>15.0000</td>\n",
              "      <td>101.0000</td>\n",
              "      <td>2020-01-22</td>\n",
              "      <td>2.0</td>\n",
              "      <td>0.0</td>\n",
              "      <td>0.0</td>\n",
              "    </tr>\n",
              "    <tr>\n",
              "      <th>1</th>\n",
              "      <td>NaN</td>\n",
              "      <td>Japan</td>\n",
              "      <td>36.0000</td>\n",
              "      <td>138.0000</td>\n",
              "      <td>2020-01-22</td>\n",
              "      <td>2.0</td>\n",
              "      <td>0.0</td>\n",
              "      <td>0.0</td>\n",
              "    </tr>\n",
              "    <tr>\n",
              "      <th>2</th>\n",
              "      <td>NaN</td>\n",
              "      <td>Singapore</td>\n",
              "      <td>1.2833</td>\n",
              "      <td>103.8333</td>\n",
              "      <td>2020-01-22</td>\n",
              "      <td>0.0</td>\n",
              "      <td>0.0</td>\n",
              "      <td>0.0</td>\n",
              "    </tr>\n",
              "    <tr>\n",
              "      <th>3</th>\n",
              "      <td>NaN</td>\n",
              "      <td>Nepal</td>\n",
              "      <td>28.1667</td>\n",
              "      <td>84.2500</td>\n",
              "      <td>2020-01-22</td>\n",
              "      <td>0.0</td>\n",
              "      <td>0.0</td>\n",
              "      <td>0.0</td>\n",
              "    </tr>\n",
              "    <tr>\n",
              "      <th>4</th>\n",
              "      <td>NaN</td>\n",
              "      <td>Malaysia</td>\n",
              "      <td>2.5000</td>\n",
              "      <td>112.5000</td>\n",
              "      <td>2020-01-22</td>\n",
              "      <td>0.0</td>\n",
              "      <td>0.0</td>\n",
              "      <td>0.0</td>\n",
              "    </tr>\n",
              "  </tbody>\n",
              "</table>\n",
              "</div>"
            ],
            "text/plain": [
              "  Province/State Country/Region      Lat  ...  Confirmed Deaths  Recovered\n",
              "0            NaN       Thailand  15.0000  ...        2.0    0.0        0.0\n",
              "1            NaN          Japan  36.0000  ...        2.0    0.0        0.0\n",
              "2            NaN      Singapore   1.2833  ...        0.0    0.0        0.0\n",
              "3            NaN          Nepal  28.1667  ...        0.0    0.0        0.0\n",
              "4            NaN       Malaysia   2.5000  ...        0.0    0.0        0.0\n",
              "\n",
              "[5 rows x 8 columns]"
            ]
          },
          "metadata": {
            "tags": []
          },
          "execution_count": 4
        }
      ]
    },
    {
      "cell_type": "code",
      "metadata": {
        "id": "dff00489"
      },
      "source": [
        "covid.rename(columns={\n",
        "    'Province/State': 'state',\n",
        "    'Country/Region': 'country',\n",
        "},inplace=True)"
      ],
      "id": "dff00489",
      "execution_count": 5,
      "outputs": []
    },
    {
      "cell_type": "code",
      "metadata": {
        "colab": {
          "base_uri": "https://localhost:8080/",
          "height": 204
        },
        "id": "05e56a0d",
        "outputId": "af4c1e97-3194-4be7-af16-573fa612ec7c"
      },
      "source": [
        "covid.head()"
      ],
      "id": "05e56a0d",
      "execution_count": 6,
      "outputs": [
        {
          "output_type": "execute_result",
          "data": {
            "text/html": [
              "<div>\n",
              "<style scoped>\n",
              "    .dataframe tbody tr th:only-of-type {\n",
              "        vertical-align: middle;\n",
              "    }\n",
              "\n",
              "    .dataframe tbody tr th {\n",
              "        vertical-align: top;\n",
              "    }\n",
              "\n",
              "    .dataframe thead th {\n",
              "        text-align: right;\n",
              "    }\n",
              "</style>\n",
              "<table border=\"1\" class=\"dataframe\">\n",
              "  <thead>\n",
              "    <tr style=\"text-align: right;\">\n",
              "      <th></th>\n",
              "      <th>state</th>\n",
              "      <th>country</th>\n",
              "      <th>Lat</th>\n",
              "      <th>Long</th>\n",
              "      <th>Date</th>\n",
              "      <th>Confirmed</th>\n",
              "      <th>Deaths</th>\n",
              "      <th>Recovered</th>\n",
              "    </tr>\n",
              "  </thead>\n",
              "  <tbody>\n",
              "    <tr>\n",
              "      <th>0</th>\n",
              "      <td>NaN</td>\n",
              "      <td>Thailand</td>\n",
              "      <td>15.0000</td>\n",
              "      <td>101.0000</td>\n",
              "      <td>2020-01-22</td>\n",
              "      <td>2.0</td>\n",
              "      <td>0.0</td>\n",
              "      <td>0.0</td>\n",
              "    </tr>\n",
              "    <tr>\n",
              "      <th>1</th>\n",
              "      <td>NaN</td>\n",
              "      <td>Japan</td>\n",
              "      <td>36.0000</td>\n",
              "      <td>138.0000</td>\n",
              "      <td>2020-01-22</td>\n",
              "      <td>2.0</td>\n",
              "      <td>0.0</td>\n",
              "      <td>0.0</td>\n",
              "    </tr>\n",
              "    <tr>\n",
              "      <th>2</th>\n",
              "      <td>NaN</td>\n",
              "      <td>Singapore</td>\n",
              "      <td>1.2833</td>\n",
              "      <td>103.8333</td>\n",
              "      <td>2020-01-22</td>\n",
              "      <td>0.0</td>\n",
              "      <td>0.0</td>\n",
              "      <td>0.0</td>\n",
              "    </tr>\n",
              "    <tr>\n",
              "      <th>3</th>\n",
              "      <td>NaN</td>\n",
              "      <td>Nepal</td>\n",
              "      <td>28.1667</td>\n",
              "      <td>84.2500</td>\n",
              "      <td>2020-01-22</td>\n",
              "      <td>0.0</td>\n",
              "      <td>0.0</td>\n",
              "      <td>0.0</td>\n",
              "    </tr>\n",
              "    <tr>\n",
              "      <th>4</th>\n",
              "      <td>NaN</td>\n",
              "      <td>Malaysia</td>\n",
              "      <td>2.5000</td>\n",
              "      <td>112.5000</td>\n",
              "      <td>2020-01-22</td>\n",
              "      <td>0.0</td>\n",
              "      <td>0.0</td>\n",
              "      <td>0.0</td>\n",
              "    </tr>\n",
              "  </tbody>\n",
              "</table>\n",
              "</div>"
            ],
            "text/plain": [
              "  state    country      Lat      Long       Date  Confirmed  Deaths  Recovered\n",
              "0   NaN   Thailand  15.0000  101.0000 2020-01-22        2.0     0.0        0.0\n",
              "1   NaN      Japan  36.0000  138.0000 2020-01-22        2.0     0.0        0.0\n",
              "2   NaN  Singapore   1.2833  103.8333 2020-01-22        0.0     0.0        0.0\n",
              "3   NaN      Nepal  28.1667   84.2500 2020-01-22        0.0     0.0        0.0\n",
              "4   NaN   Malaysia   2.5000  112.5000 2020-01-22        0.0     0.0        0.0"
            ]
          },
          "metadata": {
            "tags": []
          },
          "execution_count": 6
        }
      ]
    },
    {
      "cell_type": "code",
      "metadata": {
        "colab": {
          "base_uri": "https://localhost:8080/",
          "height": 204
        },
        "id": "d7f42b44",
        "outputId": "a54a2f85-b3f1-4288-b7d3-bbada7443570"
      },
      "source": [
        "covid['active'] = covid['Confirmed'] - covid['Deaths'] - covid['Recovered']\n",
        "covid.head()"
      ],
      "id": "d7f42b44",
      "execution_count": 7,
      "outputs": [
        {
          "output_type": "execute_result",
          "data": {
            "text/html": [
              "<div>\n",
              "<style scoped>\n",
              "    .dataframe tbody tr th:only-of-type {\n",
              "        vertical-align: middle;\n",
              "    }\n",
              "\n",
              "    .dataframe tbody tr th {\n",
              "        vertical-align: top;\n",
              "    }\n",
              "\n",
              "    .dataframe thead th {\n",
              "        text-align: right;\n",
              "    }\n",
              "</style>\n",
              "<table border=\"1\" class=\"dataframe\">\n",
              "  <thead>\n",
              "    <tr style=\"text-align: right;\">\n",
              "      <th></th>\n",
              "      <th>state</th>\n",
              "      <th>country</th>\n",
              "      <th>Lat</th>\n",
              "      <th>Long</th>\n",
              "      <th>Date</th>\n",
              "      <th>Confirmed</th>\n",
              "      <th>Deaths</th>\n",
              "      <th>Recovered</th>\n",
              "      <th>active</th>\n",
              "    </tr>\n",
              "  </thead>\n",
              "  <tbody>\n",
              "    <tr>\n",
              "      <th>0</th>\n",
              "      <td>NaN</td>\n",
              "      <td>Thailand</td>\n",
              "      <td>15.0000</td>\n",
              "      <td>101.0000</td>\n",
              "      <td>2020-01-22</td>\n",
              "      <td>2.0</td>\n",
              "      <td>0.0</td>\n",
              "      <td>0.0</td>\n",
              "      <td>2.0</td>\n",
              "    </tr>\n",
              "    <tr>\n",
              "      <th>1</th>\n",
              "      <td>NaN</td>\n",
              "      <td>Japan</td>\n",
              "      <td>36.0000</td>\n",
              "      <td>138.0000</td>\n",
              "      <td>2020-01-22</td>\n",
              "      <td>2.0</td>\n",
              "      <td>0.0</td>\n",
              "      <td>0.0</td>\n",
              "      <td>2.0</td>\n",
              "    </tr>\n",
              "    <tr>\n",
              "      <th>2</th>\n",
              "      <td>NaN</td>\n",
              "      <td>Singapore</td>\n",
              "      <td>1.2833</td>\n",
              "      <td>103.8333</td>\n",
              "      <td>2020-01-22</td>\n",
              "      <td>0.0</td>\n",
              "      <td>0.0</td>\n",
              "      <td>0.0</td>\n",
              "      <td>0.0</td>\n",
              "    </tr>\n",
              "    <tr>\n",
              "      <th>3</th>\n",
              "      <td>NaN</td>\n",
              "      <td>Nepal</td>\n",
              "      <td>28.1667</td>\n",
              "      <td>84.2500</td>\n",
              "      <td>2020-01-22</td>\n",
              "      <td>0.0</td>\n",
              "      <td>0.0</td>\n",
              "      <td>0.0</td>\n",
              "      <td>0.0</td>\n",
              "    </tr>\n",
              "    <tr>\n",
              "      <th>4</th>\n",
              "      <td>NaN</td>\n",
              "      <td>Malaysia</td>\n",
              "      <td>2.5000</td>\n",
              "      <td>112.5000</td>\n",
              "      <td>2020-01-22</td>\n",
              "      <td>0.0</td>\n",
              "      <td>0.0</td>\n",
              "      <td>0.0</td>\n",
              "      <td>0.0</td>\n",
              "    </tr>\n",
              "  </tbody>\n",
              "</table>\n",
              "</div>"
            ],
            "text/plain": [
              "  state    country      Lat      Long  ... Confirmed  Deaths  Recovered  active\n",
              "0   NaN   Thailand  15.0000  101.0000  ...       2.0     0.0        0.0     2.0\n",
              "1   NaN      Japan  36.0000  138.0000  ...       2.0     0.0        0.0     2.0\n",
              "2   NaN  Singapore   1.2833  103.8333  ...       0.0     0.0        0.0     0.0\n",
              "3   NaN      Nepal  28.1667   84.2500  ...       0.0     0.0        0.0     0.0\n",
              "4   NaN   Malaysia   2.5000  112.5000  ...       0.0     0.0        0.0     0.0\n",
              "\n",
              "[5 rows x 9 columns]"
            ]
          },
          "metadata": {
            "tags": []
          },
          "execution_count": 7
        }
      ]
    },
    {
      "cell_type": "code",
      "metadata": {
        "id": "72757597"
      },
      "source": [
        "top = covid[covid['Date'] == covid['Date'].max()]\n",
        "world = top.groupby('country')['Confirmed','Deaths','Recovered','active'].sum().reset_index()"
      ],
      "id": "72757597",
      "execution_count": 8,
      "outputs": []
    },
    {
      "cell_type": "code",
      "metadata": {
        "colab": {
          "base_uri": "https://localhost:8080/",
          "height": 204
        },
        "id": "798e5860",
        "outputId": "9aec96c5-f8ea-4116-c8a9-a0a64198e452"
      },
      "source": [
        "world.head()"
      ],
      "id": "798e5860",
      "execution_count": 9,
      "outputs": [
        {
          "output_type": "execute_result",
          "data": {
            "text/html": [
              "<div>\n",
              "<style scoped>\n",
              "    .dataframe tbody tr th:only-of-type {\n",
              "        vertical-align: middle;\n",
              "    }\n",
              "\n",
              "    .dataframe tbody tr th {\n",
              "        vertical-align: top;\n",
              "    }\n",
              "\n",
              "    .dataframe thead th {\n",
              "        text-align: right;\n",
              "    }\n",
              "</style>\n",
              "<table border=\"1\" class=\"dataframe\">\n",
              "  <thead>\n",
              "    <tr style=\"text-align: right;\">\n",
              "      <th></th>\n",
              "      <th>country</th>\n",
              "      <th>Confirmed</th>\n",
              "      <th>Deaths</th>\n",
              "      <th>Recovered</th>\n",
              "      <th>active</th>\n",
              "    </tr>\n",
              "  </thead>\n",
              "  <tbody>\n",
              "    <tr>\n",
              "      <th>0</th>\n",
              "      <td>Afghanistan</td>\n",
              "      <td>40.0</td>\n",
              "      <td>1.0</td>\n",
              "      <td>1.0</td>\n",
              "      <td>38.0</td>\n",
              "    </tr>\n",
              "    <tr>\n",
              "      <th>1</th>\n",
              "      <td>Albania</td>\n",
              "      <td>89.0</td>\n",
              "      <td>2.0</td>\n",
              "      <td>2.0</td>\n",
              "      <td>85.0</td>\n",
              "    </tr>\n",
              "    <tr>\n",
              "      <th>2</th>\n",
              "      <td>Algeria</td>\n",
              "      <td>201.0</td>\n",
              "      <td>17.0</td>\n",
              "      <td>65.0</td>\n",
              "      <td>119.0</td>\n",
              "    </tr>\n",
              "    <tr>\n",
              "      <th>3</th>\n",
              "      <td>Andorra</td>\n",
              "      <td>113.0</td>\n",
              "      <td>1.0</td>\n",
              "      <td>1.0</td>\n",
              "      <td>111.0</td>\n",
              "    </tr>\n",
              "    <tr>\n",
              "      <th>4</th>\n",
              "      <td>Angola</td>\n",
              "      <td>2.0</td>\n",
              "      <td>0.0</td>\n",
              "      <td>0.0</td>\n",
              "      <td>2.0</td>\n",
              "    </tr>\n",
              "  </tbody>\n",
              "</table>\n",
              "</div>"
            ],
            "text/plain": [
              "       country  Confirmed  Deaths  Recovered  active\n",
              "0  Afghanistan       40.0     1.0        1.0    38.0\n",
              "1      Albania       89.0     2.0        2.0    85.0\n",
              "2      Algeria      201.0    17.0       65.0   119.0\n",
              "3      Andorra      113.0     1.0        1.0   111.0\n",
              "4       Angola        2.0     0.0        0.0     2.0"
            ]
          },
          "metadata": {
            "tags": []
          },
          "execution_count": 9
        }
      ]
    },
    {
      "cell_type": "code",
      "metadata": {
        "id": "01ff0f4e"
      },
      "source": [
        "fig = px.choropleth(world,locations='country', locationmode='country names', \n",
        "                    color='active', hover_name='country', range_color=[1,5000], color_continuous_scale='Peach')"
      ],
      "id": "01ff0f4e",
      "execution_count": 10,
      "outputs": []
    },
    {
      "cell_type": "code",
      "metadata": {
        "colab": {
          "base_uri": "https://localhost:8080/",
          "height": 542
        },
        "id": "791a6dc7",
        "outputId": "bd16c32d-3c62-46c1-a036-28385aa7a284"
      },
      "source": [
        "fig.show()"
      ],
      "id": "791a6dc7",
      "execution_count": 11,
      "outputs": [
        {
          "output_type": "display_data",
          "data": {
            "text/html": [
              "<html>\n",
              "<head><meta charset=\"utf-8\" /></head>\n",
              "<body>\n",
              "    <div>\n",
              "            <script src=\"https://cdnjs.cloudflare.com/ajax/libs/mathjax/2.7.5/MathJax.js?config=TeX-AMS-MML_SVG\"></script><script type=\"text/javascript\">if (window.MathJax) {MathJax.Hub.Config({SVG: {font: \"STIX-Web\"}});}</script>\n",
              "                <script type=\"text/javascript\">window.PlotlyConfig = {MathJaxConfig: 'local'};</script>\n",
              "        <script src=\"https://cdn.plot.ly/plotly-latest.min.js\"></script>    \n",
              "            <div id=\"51030c3d-55bc-4229-9875-a966b842d175\" class=\"plotly-graph-div\" style=\"height:525px; width:100%;\"></div>\n",
              "            <script type=\"text/javascript\">\n",
              "                \n",
              "                    window.PLOTLYENV=window.PLOTLYENV || {};\n",
              "                    \n",
              "                if (document.getElementById(\"51030c3d-55bc-4229-9875-a966b842d175\")) {\n",
              "                    Plotly.newPlot(\n",
              "                        '51030c3d-55bc-4229-9875-a966b842d175',\n",
              "                        [{\"coloraxis\": \"coloraxis\", \"geo\": \"geo\", \"hoverlabel\": {\"namelength\": 0}, \"hovertemplate\": \"<b>%{hovertext}</b><br><br>country=%{location}<br>active=%{z}\", \"hovertext\": [\"Afghanistan\", \"Albania\", \"Algeria\", \"Andorra\", \"Angola\", \"Antigua and Barbuda\", \"Argentina\", \"Armenia\", \"Australia\", \"Austria\", \"Azerbaijan\", \"Bahamas, The\", \"Bahrain\", \"Bangladesh\", \"Barbados\", \"Belarus\", \"Belgium\", \"Benin\", \"Bhutan\", \"Bolivia\", \"Bosnia and Herzegovina\", \"Brazil\", \"Brunei\", \"Bulgaria\", \"Burkina Faso\", \"Cabo Verde\", \"Cambodia\", \"Cameroon\", \"Canada\", \"Cape Verde\", \"Central African Republic\", \"Chad\", \"Chile\", \"China\", \"Colombia\", \"Congo (Brazzaville)\", \"Congo (Kinshasa)\", \"Costa Rica\", \"Cote d'Ivoire\", \"Croatia\", \"Cruise Ship\", \"Cuba\", \"Cyprus\", \"Czechia\", \"Denmark\", \"Djibouti\", \"Dominica\", \"Dominican Republic\", \"East Timor\", \"Ecuador\", \"Egypt\", \"El Salvador\", \"Equatorial Guinea\", \"Eritrea\", \"Estonia\", \"Eswatini\", \"Ethiopia\", \"Fiji\", \"Finland\", \"France\", \"French Guiana\", \"Gabon\", \"Gambia, The\", \"Georgia\", \"Germany\", \"Ghana\", \"Greece\", \"Greenland\", \"Grenada\", \"Guadeloupe\", \"Guam\", \"Guatemala\", \"Guernsey\", \"Guinea\", \"Guyana\", \"Haiti\", \"Holy See\", \"Honduras\", \"Hungary\", \"Iceland\", \"India\", \"Indonesia\", \"Iran\", \"Iraq\", \"Ireland\", \"Israel\", \"Italy\", \"Jamaica\", \"Japan\", \"Jersey\", \"Jordan\", \"Kazakhstan\", \"Kenya\", \"Kosovo\", \"Kuwait\", \"Kyrgyzstan\", \"Latvia\", \"Lebanon\", \"Liberia\", \"Liechtenstein\", \"Lithuania\", \"Luxembourg\", \"Madagascar\", \"Malaysia\", \"Maldives\", \"Malta\", \"Martinique\", \"Mauritania\", \"Mauritius\", \"Mayotte\", \"Mexico\", \"Moldova\", \"Monaco\", \"Mongolia\", \"Montenegro\", \"Morocco\", \"Mozambique\", \"Namibia\", \"Nepal\", \"Netherlands\", \"New Zealand\", \"Nicaragua\", \"Niger\", \"Nigeria\", \"North Macedonia\", \"Norway\", \"Oman\", \"Pakistan\", \"Panama\", \"Papua New Guinea\", \"Paraguay\", \"Peru\", \"Philippines\", \"Poland\", \"Portugal\", \"Puerto Rico\", \"Qatar\", \"Republic of the Congo\", \"Reunion\", \"Romania\", \"Russia\", \"Rwanda\", \"Saint Lucia\", \"Saint Vincent and the Grenadines\", \"San Marino\", \"Saudi Arabia\", \"Senegal\", \"Serbia\", \"Seychelles\", \"Singapore\", \"Slovakia\", \"Slovenia\", \"Somalia\", \"South Africa\", \"South Korea\", \"Spain\", \"Sri Lanka\", \"Sudan\", \"Suriname\", \"Sweden\", \"Switzerland\", \"Syria\", \"Taiwan*\", \"Tanzania\", \"Thailand\", \"The Bahamas\", \"The Gambia\", \"Timor-Leste\", \"Togo\", \"Trinidad and Tobago\", \"Tunisia\", \"Turkey\", \"US\", \"Uganda\", \"Ukraine\", \"United Arab Emirates\", \"United Kingdom\", \"Uruguay\", \"Uzbekistan\", \"Venezuela\", \"Vietnam\", \"Zambia\", \"Zimbabwe\"], \"locationmode\": \"country names\", \"locations\": [\"Afghanistan\", \"Albania\", \"Algeria\", \"Andorra\", \"Angola\", \"Antigua and Barbuda\", \"Argentina\", \"Armenia\", \"Australia\", \"Austria\", \"Azerbaijan\", \"Bahamas, The\", \"Bahrain\", \"Bangladesh\", \"Barbados\", \"Belarus\", \"Belgium\", \"Benin\", \"Bhutan\", \"Bolivia\", \"Bosnia and Herzegovina\", \"Brazil\", \"Brunei\", \"Bulgaria\", \"Burkina Faso\", \"Cabo Verde\", \"Cambodia\", \"Cameroon\", \"Canada\", \"Cape Verde\", \"Central African Republic\", \"Chad\", \"Chile\", \"China\", \"Colombia\", \"Congo (Brazzaville)\", \"Congo (Kinshasa)\", \"Costa Rica\", \"Cote d'Ivoire\", \"Croatia\", \"Cruise Ship\", \"Cuba\", \"Cyprus\", \"Czechia\", \"Denmark\", \"Djibouti\", \"Dominica\", \"Dominican Republic\", \"East Timor\", \"Ecuador\", \"Egypt\", \"El Salvador\", \"Equatorial Guinea\", \"Eritrea\", \"Estonia\", \"Eswatini\", \"Ethiopia\", \"Fiji\", \"Finland\", \"France\", \"French Guiana\", \"Gabon\", \"Gambia, The\", \"Georgia\", \"Germany\", \"Ghana\", \"Greece\", \"Greenland\", \"Grenada\", \"Guadeloupe\", \"Guam\", \"Guatemala\", \"Guernsey\", \"Guinea\", \"Guyana\", \"Haiti\", \"Holy See\", \"Honduras\", \"Hungary\", \"Iceland\", \"India\", \"Indonesia\", \"Iran\", \"Iraq\", \"Ireland\", \"Israel\", \"Italy\", \"Jamaica\", \"Japan\", \"Jersey\", \"Jordan\", \"Kazakhstan\", \"Kenya\", \"Kosovo\", \"Kuwait\", \"Kyrgyzstan\", \"Latvia\", \"Lebanon\", \"Liberia\", \"Liechtenstein\", \"Lithuania\", \"Luxembourg\", \"Madagascar\", \"Malaysia\", \"Maldives\", \"Malta\", \"Martinique\", \"Mauritania\", \"Mauritius\", \"Mayotte\", \"Mexico\", \"Moldova\", \"Monaco\", \"Mongolia\", \"Montenegro\", \"Morocco\", \"Mozambique\", \"Namibia\", \"Nepal\", \"Netherlands\", \"New Zealand\", \"Nicaragua\", \"Niger\", \"Nigeria\", \"North Macedonia\", \"Norway\", \"Oman\", \"Pakistan\", \"Panama\", \"Papua New Guinea\", \"Paraguay\", \"Peru\", \"Philippines\", \"Poland\", \"Portugal\", \"Puerto Rico\", \"Qatar\", \"Republic of the Congo\", \"Reunion\", \"Romania\", \"Russia\", \"Rwanda\", \"Saint Lucia\", \"Saint Vincent and the Grenadines\", \"San Marino\", \"Saudi Arabia\", \"Senegal\", \"Serbia\", \"Seychelles\", \"Singapore\", \"Slovakia\", \"Slovenia\", \"Somalia\", \"South Africa\", \"South Korea\", \"Spain\", \"Sri Lanka\", \"Sudan\", \"Suriname\", \"Sweden\", \"Switzerland\", \"Syria\", \"Taiwan*\", \"Tanzania\", \"Thailand\", \"The Bahamas\", \"The Gambia\", \"Timor-Leste\", \"Togo\", \"Trinidad and Tobago\", \"Tunisia\", \"Turkey\", \"US\", \"Uganda\", \"Ukraine\", \"United Arab Emirates\", \"United Kingdom\", \"Uruguay\", \"Uzbekistan\", \"Venezuela\", \"Vietnam\", \"Zambia\", \"Zimbabwe\"], \"name\": \"\", \"type\": \"choropleth\", \"z\": [38.0, 85.0, 119.0, 111.0, 2.0, 1.0, 218.0, 192.0, 1219.0, 3219.0, 54.0, 4.0, 181.0, 22.0, 14.0, 61.0, 3063.0, 2.0, 2.0, 24.0, 123.0, 1566.0, 86.0, 181.0, 66.0, 3.0, 83.0, 40.0, 1439.0, 0.0, 3.0, 1.0, 623.0, 5351.0, 226.0, 3.0, 29.0, 130.0, 13.0, 248.0, 379.0, 34.0, 91.0, 1113.0, 1500.0, 1.0, 1.0, 199.0, 0.0, 772.0, 257.0, 3.0, 6.0, 1.0, 324.0, 4.0, 7.0, 2.0, 615.0, 13170.0, 12.0, 4.0, 1.0, 51.0, 24513.0, 23.0, 590.0, 0.0, 1.0, 56.0, -1.0, 18.0, 0.0, 2.0, 6.0, 2.0, 1.0, 26.0, 109.0, 531.0, 362.0, 437.0, 12022.0, 156.0, 897.0, 1033.0, 46638.0, 13.0, 811.0, 0.0, 111.0, 60.0, 15.0, 2.0, 161.0, 14.0, 138.0, 236.0, 3.0, 37.0, 129.0, 784.0, 3.0, 1157.0, 13.0, 88.0, 36.0, 2.0, 17.0, 11.0, 245.0, 92.0, 22.0, 10.0, 21.0, 108.0, 1.0, 3.0, 1.0, 4034.0, 66.0, 2.0, 2.0, 28.0, 112.0, 2375.0, 38.0, 766.0, 242.0, 1.0, 21.0, 357.0, 338.0, 626.0, 1581.0, -1.0, 461.0, 0.0, 47.0, 366.0, 351.0, 19.0, 2.0, 1.0, 136.0, 495.0, 62.0, 219.0, 7.0, 309.0, 177.0, 412.0, 1.0, 274.0, 5884.0, 24421.0, 79.0, 1.0, 5.0, 1897.0, 7016.0, 1.0, 139.0, 12.0, 554.0, 0.0, 0.0, 1.0, 15.0, 49.0, 71.0, 1206.0, 32681.0, 1.0, 69.0, 113.0, 5392.0, 135.0, 43.0, 55.0, 96.0, 3.0, 3.0]}],\n",
              "                        {\"coloraxis\": {\"cmax\": 5000, \"cmin\": 1, \"colorbar\": {\"title\": {\"text\": \"active\"}}, \"colorscale\": [[0.0, \"rgb(253, 224, 197)\"], [0.16666666666666666, \"rgb(250, 203, 166)\"], [0.3333333333333333, \"rgb(248, 181, 139)\"], [0.5, \"rgb(245, 158, 114)\"], [0.6666666666666666, \"rgb(242, 133, 93)\"], [0.8333333333333334, \"rgb(239, 106, 76)\"], [1.0, \"rgb(235, 74, 64)\"]]}, \"geo\": {\"center\": {}, \"domain\": {\"x\": [0.0, 1.0], \"y\": [0.0, 1.0]}}, \"legend\": {\"tracegroupgap\": 0}, \"margin\": {\"t\": 60}, \"template\": {\"data\": {\"bar\": [{\"error_x\": {\"color\": \"#2a3f5f\"}, \"error_y\": {\"color\": \"#2a3f5f\"}, \"marker\": {\"line\": {\"color\": \"#E5ECF6\", \"width\": 0.5}}, \"type\": \"bar\"}], \"barpolar\": [{\"marker\": {\"line\": {\"color\": \"#E5ECF6\", \"width\": 0.5}}, \"type\": \"barpolar\"}], \"carpet\": [{\"aaxis\": {\"endlinecolor\": \"#2a3f5f\", \"gridcolor\": \"white\", \"linecolor\": \"white\", \"minorgridcolor\": \"white\", \"startlinecolor\": \"#2a3f5f\"}, \"baxis\": {\"endlinecolor\": \"#2a3f5f\", \"gridcolor\": \"white\", \"linecolor\": \"white\", \"minorgridcolor\": \"white\", \"startlinecolor\": \"#2a3f5f\"}, \"type\": \"carpet\"}], \"choropleth\": [{\"colorbar\": {\"outlinewidth\": 0, \"ticks\": \"\"}, \"type\": \"choropleth\"}], \"contour\": [{\"colorbar\": {\"outlinewidth\": 0, \"ticks\": \"\"}, \"colorscale\": [[0.0, \"#0d0887\"], [0.1111111111111111, \"#46039f\"], [0.2222222222222222, \"#7201a8\"], [0.3333333333333333, \"#9c179e\"], [0.4444444444444444, \"#bd3786\"], [0.5555555555555556, \"#d8576b\"], [0.6666666666666666, \"#ed7953\"], [0.7777777777777778, \"#fb9f3a\"], [0.8888888888888888, \"#fdca26\"], [1.0, \"#f0f921\"]], \"type\": \"contour\"}], \"contourcarpet\": [{\"colorbar\": {\"outlinewidth\": 0, \"ticks\": \"\"}, \"type\": \"contourcarpet\"}], \"heatmap\": [{\"colorbar\": {\"outlinewidth\": 0, \"ticks\": \"\"}, \"colorscale\": [[0.0, \"#0d0887\"], [0.1111111111111111, \"#46039f\"], [0.2222222222222222, \"#7201a8\"], [0.3333333333333333, \"#9c179e\"], [0.4444444444444444, \"#bd3786\"], [0.5555555555555556, \"#d8576b\"], [0.6666666666666666, \"#ed7953\"], [0.7777777777777778, \"#fb9f3a\"], [0.8888888888888888, \"#fdca26\"], [1.0, \"#f0f921\"]], \"type\": \"heatmap\"}], \"heatmapgl\": [{\"colorbar\": {\"outlinewidth\": 0, \"ticks\": \"\"}, \"colorscale\": [[0.0, \"#0d0887\"], [0.1111111111111111, \"#46039f\"], [0.2222222222222222, \"#7201a8\"], [0.3333333333333333, \"#9c179e\"], [0.4444444444444444, \"#bd3786\"], [0.5555555555555556, \"#d8576b\"], [0.6666666666666666, \"#ed7953\"], [0.7777777777777778, \"#fb9f3a\"], [0.8888888888888888, \"#fdca26\"], [1.0, \"#f0f921\"]], \"type\": \"heatmapgl\"}], \"histogram\": [{\"marker\": {\"colorbar\": {\"outlinewidth\": 0, \"ticks\": \"\"}}, \"type\": \"histogram\"}], \"histogram2d\": [{\"colorbar\": {\"outlinewidth\": 0, \"ticks\": \"\"}, \"colorscale\": [[0.0, \"#0d0887\"], [0.1111111111111111, \"#46039f\"], [0.2222222222222222, \"#7201a8\"], [0.3333333333333333, \"#9c179e\"], [0.4444444444444444, \"#bd3786\"], [0.5555555555555556, \"#d8576b\"], [0.6666666666666666, \"#ed7953\"], [0.7777777777777778, \"#fb9f3a\"], [0.8888888888888888, \"#fdca26\"], [1.0, \"#f0f921\"]], \"type\": \"histogram2d\"}], \"histogram2dcontour\": [{\"colorbar\": {\"outlinewidth\": 0, \"ticks\": \"\"}, \"colorscale\": [[0.0, \"#0d0887\"], [0.1111111111111111, \"#46039f\"], [0.2222222222222222, \"#7201a8\"], [0.3333333333333333, \"#9c179e\"], [0.4444444444444444, \"#bd3786\"], [0.5555555555555556, \"#d8576b\"], [0.6666666666666666, \"#ed7953\"], [0.7777777777777778, \"#fb9f3a\"], [0.8888888888888888, \"#fdca26\"], [1.0, \"#f0f921\"]], \"type\": \"histogram2dcontour\"}], \"mesh3d\": [{\"colorbar\": {\"outlinewidth\": 0, \"ticks\": \"\"}, \"type\": \"mesh3d\"}], \"parcoords\": [{\"line\": {\"colorbar\": {\"outlinewidth\": 0, \"ticks\": \"\"}}, \"type\": \"parcoords\"}], \"pie\": [{\"automargin\": true, \"type\": \"pie\"}], \"scatter\": [{\"marker\": {\"colorbar\": {\"outlinewidth\": 0, \"ticks\": \"\"}}, \"type\": \"scatter\"}], \"scatter3d\": [{\"line\": {\"colorbar\": {\"outlinewidth\": 0, \"ticks\": \"\"}}, \"marker\": {\"colorbar\": {\"outlinewidth\": 0, \"ticks\": \"\"}}, \"type\": \"scatter3d\"}], \"scattercarpet\": [{\"marker\": {\"colorbar\": {\"outlinewidth\": 0, \"ticks\": \"\"}}, \"type\": \"scattercarpet\"}], \"scattergeo\": [{\"marker\": {\"colorbar\": {\"outlinewidth\": 0, \"ticks\": \"\"}}, \"type\": \"scattergeo\"}], \"scattergl\": [{\"marker\": {\"colorbar\": {\"outlinewidth\": 0, \"ticks\": \"\"}}, \"type\": \"scattergl\"}], \"scattermapbox\": [{\"marker\": {\"colorbar\": {\"outlinewidth\": 0, \"ticks\": \"\"}}, \"type\": \"scattermapbox\"}], \"scatterpolar\": [{\"marker\": {\"colorbar\": {\"outlinewidth\": 0, \"ticks\": \"\"}}, \"type\": \"scatterpolar\"}], \"scatterpolargl\": [{\"marker\": {\"colorbar\": {\"outlinewidth\": 0, \"ticks\": \"\"}}, \"type\": \"scatterpolargl\"}], \"scatterternary\": [{\"marker\": {\"colorbar\": {\"outlinewidth\": 0, \"ticks\": \"\"}}, \"type\": \"scatterternary\"}], \"surface\": [{\"colorbar\": {\"outlinewidth\": 0, \"ticks\": \"\"}, \"colorscale\": [[0.0, \"#0d0887\"], [0.1111111111111111, \"#46039f\"], [0.2222222222222222, \"#7201a8\"], [0.3333333333333333, \"#9c179e\"], [0.4444444444444444, \"#bd3786\"], [0.5555555555555556, \"#d8576b\"], [0.6666666666666666, \"#ed7953\"], [0.7777777777777778, \"#fb9f3a\"], [0.8888888888888888, \"#fdca26\"], [1.0, \"#f0f921\"]], \"type\": \"surface\"}], \"table\": [{\"cells\": {\"fill\": {\"color\": \"#EBF0F8\"}, \"line\": {\"color\": \"white\"}}, \"header\": {\"fill\": {\"color\": \"#C8D4E3\"}, \"line\": {\"color\": \"white\"}}, \"type\": \"table\"}]}, \"layout\": {\"annotationdefaults\": {\"arrowcolor\": \"#2a3f5f\", \"arrowhead\": 0, \"arrowwidth\": 1}, \"coloraxis\": {\"colorbar\": {\"outlinewidth\": 0, \"ticks\": \"\"}}, \"colorscale\": {\"diverging\": [[0, \"#8e0152\"], [0.1, \"#c51b7d\"], [0.2, \"#de77ae\"], [0.3, \"#f1b6da\"], [0.4, \"#fde0ef\"], [0.5, \"#f7f7f7\"], [0.6, \"#e6f5d0\"], [0.7, \"#b8e186\"], [0.8, \"#7fbc41\"], [0.9, \"#4d9221\"], [1, \"#276419\"]], \"sequential\": [[0.0, \"#0d0887\"], [0.1111111111111111, \"#46039f\"], [0.2222222222222222, \"#7201a8\"], [0.3333333333333333, \"#9c179e\"], [0.4444444444444444, \"#bd3786\"], [0.5555555555555556, \"#d8576b\"], [0.6666666666666666, \"#ed7953\"], [0.7777777777777778, \"#fb9f3a\"], [0.8888888888888888, \"#fdca26\"], [1.0, \"#f0f921\"]], \"sequentialminus\": [[0.0, \"#0d0887\"], [0.1111111111111111, \"#46039f\"], [0.2222222222222222, \"#7201a8\"], [0.3333333333333333, \"#9c179e\"], [0.4444444444444444, \"#bd3786\"], [0.5555555555555556, \"#d8576b\"], [0.6666666666666666, \"#ed7953\"], [0.7777777777777778, \"#fb9f3a\"], [0.8888888888888888, \"#fdca26\"], [1.0, \"#f0f921\"]]}, \"colorway\": [\"#636efa\", \"#EF553B\", \"#00cc96\", \"#ab63fa\", \"#FFA15A\", \"#19d3f3\", \"#FF6692\", \"#B6E880\", \"#FF97FF\", \"#FECB52\"], \"font\": {\"color\": \"#2a3f5f\"}, \"geo\": {\"bgcolor\": \"white\", \"lakecolor\": \"white\", \"landcolor\": \"#E5ECF6\", \"showlakes\": true, \"showland\": true, \"subunitcolor\": \"white\"}, \"hoverlabel\": {\"align\": \"left\"}, \"hovermode\": \"closest\", \"mapbox\": {\"style\": \"light\"}, \"paper_bgcolor\": \"white\", \"plot_bgcolor\": \"#E5ECF6\", \"polar\": {\"angularaxis\": {\"gridcolor\": \"white\", \"linecolor\": \"white\", \"ticks\": \"\"}, \"bgcolor\": \"#E5ECF6\", \"radialaxis\": {\"gridcolor\": \"white\", \"linecolor\": \"white\", \"ticks\": \"\"}}, \"scene\": {\"xaxis\": {\"backgroundcolor\": \"#E5ECF6\", \"gridcolor\": \"white\", \"gridwidth\": 2, \"linecolor\": \"white\", \"showbackground\": true, \"ticks\": \"\", \"zerolinecolor\": \"white\"}, \"yaxis\": {\"backgroundcolor\": \"#E5ECF6\", \"gridcolor\": \"white\", \"gridwidth\": 2, \"linecolor\": \"white\", \"showbackground\": true, \"ticks\": \"\", \"zerolinecolor\": \"white\"}, \"zaxis\": {\"backgroundcolor\": \"#E5ECF6\", \"gridcolor\": \"white\", \"gridwidth\": 2, \"linecolor\": \"white\", \"showbackground\": true, \"ticks\": \"\", \"zerolinecolor\": \"white\"}}, \"shapedefaults\": {\"line\": {\"color\": \"#2a3f5f\"}}, \"ternary\": {\"aaxis\": {\"gridcolor\": \"white\", \"linecolor\": \"white\", \"ticks\": \"\"}, \"baxis\": {\"gridcolor\": \"white\", \"linecolor\": \"white\", \"ticks\": \"\"}, \"bgcolor\": \"#E5ECF6\", \"caxis\": {\"gridcolor\": \"white\", \"linecolor\": \"white\", \"ticks\": \"\"}}, \"title\": {\"x\": 0.05}, \"xaxis\": {\"automargin\": true, \"gridcolor\": \"white\", \"linecolor\": \"white\", \"ticks\": \"\", \"title\": {\"standoff\": 15}, \"zerolinecolor\": \"white\", \"zerolinewidth\": 2}, \"yaxis\": {\"automargin\": true, \"gridcolor\": \"white\", \"linecolor\": \"white\", \"ticks\": \"\", \"title\": {\"standoff\": 15}, \"zerolinecolor\": \"white\", \"zerolinewidth\": 2}}}},\n",
              "                        {\"responsive\": true}\n",
              "                    ).then(function(){\n",
              "                            \n",
              "var gd = document.getElementById('51030c3d-55bc-4229-9875-a966b842d175');\n",
              "var x = new MutationObserver(function (mutations, observer) {{\n",
              "        var display = window.getComputedStyle(gd).display;\n",
              "        if (!display || display === 'none') {{\n",
              "            console.log([gd, 'removed!']);\n",
              "            Plotly.purge(gd);\n",
              "            observer.disconnect();\n",
              "        }}\n",
              "}});\n",
              "\n",
              "// Listen for the removal of the full notebook cells\n",
              "var notebookContainer = gd.closest('#notebook-container');\n",
              "if (notebookContainer) {{\n",
              "    x.observe(notebookContainer, {childList: true});\n",
              "}}\n",
              "\n",
              "// Listen for the clearing of the current output cell\n",
              "var outputEl = gd.closest('.output');\n",
              "if (outputEl) {{\n",
              "    x.observe(outputEl, {childList: true});\n",
              "}}\n",
              "\n",
              "                        })\n",
              "                };\n",
              "                \n",
              "            </script>\n",
              "        </div>\n",
              "</body>\n",
              "</html>"
            ]
          },
          "metadata": {
            "tags": []
          }
        }
      ]
    },
    {
      "cell_type": "code",
      "metadata": {
        "id": "1cee719c"
      },
      "source": [
        "total_cases = covid.groupby('Date')['Date','Confirmed'].sum().reset_index()"
      ],
      "id": "1cee719c",
      "execution_count": 12,
      "outputs": []
    },
    {
      "cell_type": "code",
      "metadata": {
        "colab": {
          "base_uri": "https://localhost:8080/",
          "height": 419
        },
        "id": "7f4b4b68",
        "outputId": "a27d2225-7d35-415b-bcdb-3e60e7ca6c42"
      },
      "source": [
        "total_cases"
      ],
      "id": "7f4b4b68",
      "execution_count": 13,
      "outputs": [
        {
          "output_type": "execute_result",
          "data": {
            "text/html": [
              "<div>\n",
              "<style scoped>\n",
              "    .dataframe tbody tr th:only-of-type {\n",
              "        vertical-align: middle;\n",
              "    }\n",
              "\n",
              "    .dataframe tbody tr th {\n",
              "        vertical-align: top;\n",
              "    }\n",
              "\n",
              "    .dataframe thead th {\n",
              "        text-align: right;\n",
              "    }\n",
              "</style>\n",
              "<table border=\"1\" class=\"dataframe\">\n",
              "  <thead>\n",
              "    <tr style=\"text-align: right;\">\n",
              "      <th></th>\n",
              "      <th>Date</th>\n",
              "      <th>Confirmed</th>\n",
              "    </tr>\n",
              "  </thead>\n",
              "  <tbody>\n",
              "    <tr>\n",
              "      <th>0</th>\n",
              "      <td>2020-01-22</td>\n",
              "      <td>554.0</td>\n",
              "    </tr>\n",
              "    <tr>\n",
              "      <th>1</th>\n",
              "      <td>2020-01-23</td>\n",
              "      <td>652.0</td>\n",
              "    </tr>\n",
              "    <tr>\n",
              "      <th>2</th>\n",
              "      <td>2020-01-24</td>\n",
              "      <td>939.0</td>\n",
              "    </tr>\n",
              "    <tr>\n",
              "      <th>3</th>\n",
              "      <td>2020-01-25</td>\n",
              "      <td>1432.0</td>\n",
              "    </tr>\n",
              "    <tr>\n",
              "      <th>4</th>\n",
              "      <td>2020-01-26</td>\n",
              "      <td>2113.0</td>\n",
              "    </tr>\n",
              "    <tr>\n",
              "      <th>...</th>\n",
              "      <td>...</td>\n",
              "      <td>...</td>\n",
              "    </tr>\n",
              "    <tr>\n",
              "      <th>57</th>\n",
              "      <td>2020-03-19</td>\n",
              "      <td>242708.0</td>\n",
              "    </tr>\n",
              "    <tr>\n",
              "      <th>58</th>\n",
              "      <td>2020-03-20</td>\n",
              "      <td>272166.0</td>\n",
              "    </tr>\n",
              "    <tr>\n",
              "      <th>59</th>\n",
              "      <td>2020-03-21</td>\n",
              "      <td>304524.0</td>\n",
              "    </tr>\n",
              "    <tr>\n",
              "      <th>60</th>\n",
              "      <td>2020-03-22</td>\n",
              "      <td>335955.0</td>\n",
              "    </tr>\n",
              "    <tr>\n",
              "      <th>61</th>\n",
              "      <td>2020-03-23</td>\n",
              "      <td>336004.0</td>\n",
              "    </tr>\n",
              "  </tbody>\n",
              "</table>\n",
              "<p>62 rows × 2 columns</p>\n",
              "</div>"
            ],
            "text/plain": [
              "         Date  Confirmed\n",
              "0  2020-01-22      554.0\n",
              "1  2020-01-23      652.0\n",
              "2  2020-01-24      939.0\n",
              "3  2020-01-25     1432.0\n",
              "4  2020-01-26     2113.0\n",
              "..        ...        ...\n",
              "57 2020-03-19   242708.0\n",
              "58 2020-03-20   272166.0\n",
              "59 2020-03-21   304524.0\n",
              "60 2020-03-22   335955.0\n",
              "61 2020-03-23   336004.0\n",
              "\n",
              "[62 rows x 2 columns]"
            ]
          },
          "metadata": {
            "tags": []
          },
          "execution_count": 13
        }
      ]
    },
    {
      "cell_type": "code",
      "metadata": {
        "colab": {
          "base_uri": "https://localhost:8080/",
          "height": 419
        },
        "id": "eb4d1b53",
        "outputId": "c186f887-00cd-4119-a81e-ef3406ca26e3"
      },
      "source": [
        "total_cases['Date'] = pd.to_datetime(total_cases['Date'])\n",
        "total_cases"
      ],
      "id": "eb4d1b53",
      "execution_count": 14,
      "outputs": [
        {
          "output_type": "execute_result",
          "data": {
            "text/html": [
              "<div>\n",
              "<style scoped>\n",
              "    .dataframe tbody tr th:only-of-type {\n",
              "        vertical-align: middle;\n",
              "    }\n",
              "\n",
              "    .dataframe tbody tr th {\n",
              "        vertical-align: top;\n",
              "    }\n",
              "\n",
              "    .dataframe thead th {\n",
              "        text-align: right;\n",
              "    }\n",
              "</style>\n",
              "<table border=\"1\" class=\"dataframe\">\n",
              "  <thead>\n",
              "    <tr style=\"text-align: right;\">\n",
              "      <th></th>\n",
              "      <th>Date</th>\n",
              "      <th>Confirmed</th>\n",
              "    </tr>\n",
              "  </thead>\n",
              "  <tbody>\n",
              "    <tr>\n",
              "      <th>0</th>\n",
              "      <td>2020-01-22</td>\n",
              "      <td>554.0</td>\n",
              "    </tr>\n",
              "    <tr>\n",
              "      <th>1</th>\n",
              "      <td>2020-01-23</td>\n",
              "      <td>652.0</td>\n",
              "    </tr>\n",
              "    <tr>\n",
              "      <th>2</th>\n",
              "      <td>2020-01-24</td>\n",
              "      <td>939.0</td>\n",
              "    </tr>\n",
              "    <tr>\n",
              "      <th>3</th>\n",
              "      <td>2020-01-25</td>\n",
              "      <td>1432.0</td>\n",
              "    </tr>\n",
              "    <tr>\n",
              "      <th>4</th>\n",
              "      <td>2020-01-26</td>\n",
              "      <td>2113.0</td>\n",
              "    </tr>\n",
              "    <tr>\n",
              "      <th>...</th>\n",
              "      <td>...</td>\n",
              "      <td>...</td>\n",
              "    </tr>\n",
              "    <tr>\n",
              "      <th>57</th>\n",
              "      <td>2020-03-19</td>\n",
              "      <td>242708.0</td>\n",
              "    </tr>\n",
              "    <tr>\n",
              "      <th>58</th>\n",
              "      <td>2020-03-20</td>\n",
              "      <td>272166.0</td>\n",
              "    </tr>\n",
              "    <tr>\n",
              "      <th>59</th>\n",
              "      <td>2020-03-21</td>\n",
              "      <td>304524.0</td>\n",
              "    </tr>\n",
              "    <tr>\n",
              "      <th>60</th>\n",
              "      <td>2020-03-22</td>\n",
              "      <td>335955.0</td>\n",
              "    </tr>\n",
              "    <tr>\n",
              "      <th>61</th>\n",
              "      <td>2020-03-23</td>\n",
              "      <td>336004.0</td>\n",
              "    </tr>\n",
              "  </tbody>\n",
              "</table>\n",
              "<p>62 rows × 2 columns</p>\n",
              "</div>"
            ],
            "text/plain": [
              "         Date  Confirmed\n",
              "0  2020-01-22      554.0\n",
              "1  2020-01-23      652.0\n",
              "2  2020-01-24      939.0\n",
              "3  2020-01-25     1432.0\n",
              "4  2020-01-26     2113.0\n",
              "..        ...        ...\n",
              "57 2020-03-19   242708.0\n",
              "58 2020-03-20   272166.0\n",
              "59 2020-03-21   304524.0\n",
              "60 2020-03-22   335955.0\n",
              "61 2020-03-23   336004.0\n",
              "\n",
              "[62 rows x 2 columns]"
            ]
          },
          "metadata": {
            "tags": []
          },
          "execution_count": 14
        }
      ]
    },
    {
      "cell_type": "code",
      "metadata": {
        "colab": {
          "base_uri": "https://localhost:8080/",
          "height": 653
        },
        "id": "30fc1958",
        "outputId": "8c90ac4c-eb57-4cf1-bdd6-64fec1bbebea"
      },
      "source": [
        "plt.figure(figsize=(15,10))\n",
        "plt.xticks(rotation = 90)\n",
        "ax = sns.pointplot(x=total_cases.Date.dt.date, y = total_cases.Confirmed)"
      ],
      "id": "30fc1958",
      "execution_count": 15,
      "outputs": [
        {
          "output_type": "display_data",
          "data": {
            "image/png": "[encoded data removed]",
            "text/plain": [
              "<Figure size 1080x720 with 1 Axes>"
            ]
          },
          "metadata": {
            "tags": [],
            "needs_background": "light"
          }
        }
      ]
    },
    {
      "cell_type": "code",
      "metadata": {
        "colab": {
          "base_uri": "https://localhost:8080/",
          "height": 204
        },
        "id": "1ed9f992",
        "outputId": "0f8b3e03-5f62-48fb-dec7-5f3598b1fd99"
      },
      "source": [
        "top_actives = top.groupby('country')['active'].sum().reset_index().head(20).sort_values(by = 'active',ascending=False)\n",
        "top_actives.head()"
      ],
      "id": "1ed9f992",
      "execution_count": 16,
      "outputs": [
        {
          "output_type": "execute_result",
          "data": {
            "text/html": [
              "<div>\n",
              "<style scoped>\n",
              "    .dataframe tbody tr th:only-of-type {\n",
              "        vertical-align: middle;\n",
              "    }\n",
              "\n",
              "    .dataframe tbody tr th {\n",
              "        vertical-align: top;\n",
              "    }\n",
              "\n",
              "    .dataframe thead th {\n",
              "        text-align: right;\n",
              "    }\n",
              "</style>\n",
              "<table border=\"1\" class=\"dataframe\">\n",
              "  <thead>\n",
              "    <tr style=\"text-align: right;\">\n",
              "      <th></th>\n",
              "      <th>country</th>\n",
              "      <th>active</th>\n",
              "    </tr>\n",
              "  </thead>\n",
              "  <tbody>\n",
              "    <tr>\n",
              "      <th>9</th>\n",
              "      <td>Austria</td>\n",
              "      <td>3219.0</td>\n",
              "    </tr>\n",
              "    <tr>\n",
              "      <th>16</th>\n",
              "      <td>Belgium</td>\n",
              "      <td>3063.0</td>\n",
              "    </tr>\n",
              "    <tr>\n",
              "      <th>8</th>\n",
              "      <td>Australia</td>\n",
              "      <td>1219.0</td>\n",
              "    </tr>\n",
              "    <tr>\n",
              "      <th>6</th>\n",
              "      <td>Argentina</td>\n",
              "      <td>218.0</td>\n",
              "    </tr>\n",
              "    <tr>\n",
              "      <th>7</th>\n",
              "      <td>Armenia</td>\n",
              "      <td>192.0</td>\n",
              "    </tr>\n",
              "  </tbody>\n",
              "</table>\n",
              "</div>"
            ],
            "text/plain": [
              "      country  active\n",
              "9     Austria  3219.0\n",
              "16    Belgium  3063.0\n",
              "8   Australia  1219.0\n",
              "6   Argentina   218.0\n",
              "7     Armenia   192.0"
            ]
          },
          "metadata": {
            "tags": []
          },
          "execution_count": 16
        }
      ]
    },
    {
      "cell_type": "code",
      "metadata": {
        "colab": {
          "base_uri": "https://localhost:8080/",
          "height": 606
        },
        "id": "3f276335",
        "outputId": "e749cfc5-f310-492d-8243-45094a6b26fb"
      },
      "source": [
        "plt.figure(figsize=(15,10))\n",
        "ax1 = sns.barplot(x=top_actives.active, y = top_actives.country)\n",
        "for i, (value, name) in enumerate(zip(top_actives.active, top_actives.country)):\n",
        "    ax.text(value, i-.05, 'pda',size = 10, ha = 'left', va='center')"
      ],
      "id": "3f276335",
      "execution_count": 17,
      "outputs": [
        {
          "output_type": "display_data",
          "data": {
            "image/png": "[encoded data removed]",
            "text/plain": [
              "<Figure size 1080x720 with 1 Axes>"
            ]
          },
          "metadata": {
            "tags": [],
            "needs_background": "light"
          }
        }
      ]
    },
    {
      "cell_type": "code",
      "metadata": {
        "colab": {
          "base_uri": "https://localhost:8080/",
          "height": 204
        },
        "id": "e37fff73",
        "outputId": "644938ba-967f-4904-e8f8-b110358324b6"
      },
      "source": [
        "top_deaths = top.groupby('country')['Deaths'].sum().reset_index().head(20).sort_values(by = 'Deaths',ascending=False)\n",
        "top_deaths.head()"
      ],
      "id": "e37fff73",
      "execution_count": 18,
      "outputs": [
        {
          "output_type": "execute_result",
          "data": {
            "text/html": [
              "<div>\n",
              "<style scoped>\n",
              "    .dataframe tbody tr th:only-of-type {\n",
              "        vertical-align: middle;\n",
              "    }\n",
              "\n",
              "    .dataframe tbody tr th {\n",
              "        vertical-align: top;\n",
              "    }\n",
              "\n",
              "    .dataframe thead th {\n",
              "        text-align: right;\n",
              "    }\n",
              "</style>\n",
              "<table border=\"1\" class=\"dataframe\">\n",
              "  <thead>\n",
              "    <tr style=\"text-align: right;\">\n",
              "      <th></th>\n",
              "      <th>country</th>\n",
              "      <th>Deaths</th>\n",
              "    </tr>\n",
              "  </thead>\n",
              "  <tbody>\n",
              "    <tr>\n",
              "      <th>16</th>\n",
              "      <td>Belgium</td>\n",
              "      <td>75.0</td>\n",
              "    </tr>\n",
              "    <tr>\n",
              "      <th>2</th>\n",
              "      <td>Algeria</td>\n",
              "      <td>17.0</td>\n",
              "    </tr>\n",
              "    <tr>\n",
              "      <th>9</th>\n",
              "      <td>Austria</td>\n",
              "      <td>16.0</td>\n",
              "    </tr>\n",
              "    <tr>\n",
              "      <th>8</th>\n",
              "      <td>Australia</td>\n",
              "      <td>7.0</td>\n",
              "    </tr>\n",
              "    <tr>\n",
              "      <th>6</th>\n",
              "      <td>Argentina</td>\n",
              "      <td>4.0</td>\n",
              "    </tr>\n",
              "  </tbody>\n",
              "</table>\n",
              "</div>"
            ],
            "text/plain": [
              "      country  Deaths\n",
              "16    Belgium    75.0\n",
              "2     Algeria    17.0\n",
              "9     Austria    16.0\n",
              "8   Australia     7.0\n",
              "6   Argentina     4.0"
            ]
          },
          "metadata": {
            "tags": []
          },
          "execution_count": 18
        }
      ]
    },
    {
      "cell_type": "code",
      "metadata": {
        "colab": {
          "base_uri": "https://localhost:8080/",
          "height": 606
        },
        "id": "6d9b4bdf",
        "outputId": "9b74c660-7f89-4c3a-d299-5af548a7f900"
      },
      "source": [
        "plt.figure(figsize=(15,10))\n",
        "ax1 = sns.barplot(x=top_actives.active, y = top_actives.country)\n",
        "for i, (value, name) in enumerate(zip(top_deaths.Deaths, top_deaths.country)):\n",
        "    ax.text(value, i-.05, f'{value:,.0f}',size = 10, ha = 'left', va='center')"
      ],
      "id": "6d9b4bdf",
      "execution_count": 19,
      "outputs": [
        {
          "output_type": "display_data",
          "data": {
            "image/png": "[encoded data removed]",
            "text/plain": [
              "<Figure size 1080x720 with 1 Axes>"
            ]
          },
          "metadata": {
            "tags": [],
            "needs_background": "light"
          }
        }
      ]
    },
    {
      "cell_type": "code",
      "metadata": {
        "colab": {
          "base_uri": "https://localhost:8080/",
          "height": 204
        },
        "id": "59436147",
        "outputId": "9cb1ae9c-abcf-4ed5-e23f-c4dc3f851514"
      },
      "source": [
        "top_recovered = top.groupby('country')['Recovered'].sum().reset_index().head(20).sort_values(by = 'Recovered',ascending=False)\n",
        "top_recovered.head()"
      ],
      "id": "59436147",
      "execution_count": 20,
      "outputs": [
        {
          "output_type": "execute_result",
          "data": {
            "text/html": [
              "<div>\n",
              "<style scoped>\n",
              "    .dataframe tbody tr th:only-of-type {\n",
              "        vertical-align: middle;\n",
              "    }\n",
              "\n",
              "    .dataframe tbody tr th {\n",
              "        vertical-align: top;\n",
              "    }\n",
              "\n",
              "    .dataframe thead th {\n",
              "        text-align: right;\n",
              "    }\n",
              "</style>\n",
              "<table border=\"1\" class=\"dataframe\">\n",
              "  <thead>\n",
              "    <tr style=\"text-align: right;\">\n",
              "      <th></th>\n",
              "      <th>country</th>\n",
              "      <th>Recovered</th>\n",
              "    </tr>\n",
              "  </thead>\n",
              "  <tbody>\n",
              "    <tr>\n",
              "      <th>16</th>\n",
              "      <td>Belgium</td>\n",
              "      <td>263.0</td>\n",
              "    </tr>\n",
              "    <tr>\n",
              "      <th>12</th>\n",
              "      <td>Bahrain</td>\n",
              "      <td>149.0</td>\n",
              "    </tr>\n",
              "    <tr>\n",
              "      <th>8</th>\n",
              "      <td>Australia</td>\n",
              "      <td>88.0</td>\n",
              "    </tr>\n",
              "    <tr>\n",
              "      <th>2</th>\n",
              "      <td>Algeria</td>\n",
              "      <td>65.0</td>\n",
              "    </tr>\n",
              "    <tr>\n",
              "      <th>15</th>\n",
              "      <td>Belarus</td>\n",
              "      <td>15.0</td>\n",
              "    </tr>\n",
              "  </tbody>\n",
              "</table>\n",
              "</div>"
            ],
            "text/plain": [
              "      country  Recovered\n",
              "16    Belgium      263.0\n",
              "12    Bahrain      149.0\n",
              "8   Australia       88.0\n",
              "2     Algeria       65.0\n",
              "15    Belarus       15.0"
            ]
          },
          "metadata": {
            "tags": []
          },
          "execution_count": 20
        }
      ]
    },
    {
      "cell_type": "code",
      "metadata": {
        "colab": {
          "base_uri": "https://localhost:8080/",
          "height": 606
        },
        "id": "067d521b",
        "outputId": "4868b9d4-4c99-4676-8403-cb3438135cae"
      },
      "source": [
        "plt.figure(figsize=(15,10))\n",
        "ax1 = sns.barplot(x=top_actives.active, y = top_actives.country)\n",
        "for i, (value, name) in enumerate(zip(top_recovered.Recovered, top_recovered.country)):\n",
        "    ax.text(value, i-.05, f'{value:,.0f}',size = 10, ha = 'left', va='center')"
      ],
      "id": "067d521b",
      "execution_count": 21,
      "outputs": [
        {
          "output_type": "display_data",
          "data": {
            "image/png": "[encoded data removed]",
            "text/plain": [
              "<Figure size 1080x720 with 1 Axes>"
            ]
          },
          "metadata": {
            "tags": [],
            "needs_background": "light"
          }
        }
      ]
    },
    {
      "cell_type": "code",
      "metadata": {
        "colab": {
          "base_uri": "https://localhost:8080/",
          "height": 419
        },
        "id": "6328e9f1",
        "outputId": "b8fd1150-6708-4570-d53b-2730b0d5254f"
      },
      "source": [
        "china = covid[covid.country == 'China']\n",
        "china = china.groupby('Date')['Recovered', 'Confirmed', 'Deaths', 'active'].sum().reset_index()\n",
        "china"
      ],
      "id": "6328e9f1",
      "execution_count": 22,
      "outputs": [
        {
          "output_type": "execute_result",
          "data": {
            "text/html": [
              "<div>\n",
              "<style scoped>\n",
              "    .dataframe tbody tr th:only-of-type {\n",
              "        vertical-align: middle;\n",
              "    }\n",
              "\n",
              "    .dataframe tbody tr th {\n",
              "        vertical-align: top;\n",
              "    }\n",
              "\n",
              "    .dataframe thead th {\n",
              "        text-align: right;\n",
              "    }\n",
              "</style>\n",
              "<table border=\"1\" class=\"dataframe\">\n",
              "  <thead>\n",
              "    <tr style=\"text-align: right;\">\n",
              "      <th></th>\n",
              "      <th>Date</th>\n",
              "      <th>Recovered</th>\n",
              "      <th>Confirmed</th>\n",
              "      <th>Deaths</th>\n",
              "      <th>active</th>\n",
              "    </tr>\n",
              "  </thead>\n",
              "  <tbody>\n",
              "    <tr>\n",
              "      <th>0</th>\n",
              "      <td>2020-01-22</td>\n",
              "      <td>28.0</td>\n",
              "      <td>548.0</td>\n",
              "      <td>17.0</td>\n",
              "      <td>503.0</td>\n",
              "    </tr>\n",
              "    <tr>\n",
              "      <th>1</th>\n",
              "      <td>2020-01-23</td>\n",
              "      <td>30.0</td>\n",
              "      <td>643.0</td>\n",
              "      <td>18.0</td>\n",
              "      <td>595.0</td>\n",
              "    </tr>\n",
              "    <tr>\n",
              "      <th>2</th>\n",
              "      <td>2020-01-24</td>\n",
              "      <td>36.0</td>\n",
              "      <td>920.0</td>\n",
              "      <td>26.0</td>\n",
              "      <td>858.0</td>\n",
              "    </tr>\n",
              "    <tr>\n",
              "      <th>3</th>\n",
              "      <td>2020-01-25</td>\n",
              "      <td>39.0</td>\n",
              "      <td>1406.0</td>\n",
              "      <td>42.0</td>\n",
              "      <td>1325.0</td>\n",
              "    </tr>\n",
              "    <tr>\n",
              "      <th>4</th>\n",
              "      <td>2020-01-26</td>\n",
              "      <td>49.0</td>\n",
              "      <td>2075.0</td>\n",
              "      <td>56.0</td>\n",
              "      <td>1970.0</td>\n",
              "    </tr>\n",
              "    <tr>\n",
              "      <th>...</th>\n",
              "      <td>...</td>\n",
              "      <td>...</td>\n",
              "      <td>...</td>\n",
              "      <td>...</td>\n",
              "      <td>...</td>\n",
              "    </tr>\n",
              "    <tr>\n",
              "      <th>57</th>\n",
              "      <td>2020-03-19</td>\n",
              "      <td>70535.0</td>\n",
              "      <td>81156.0</td>\n",
              "      <td>3249.0</td>\n",
              "      <td>7372.0</td>\n",
              "    </tr>\n",
              "    <tr>\n",
              "      <th>58</th>\n",
              "      <td>2020-03-20</td>\n",
              "      <td>71266.0</td>\n",
              "      <td>81250.0</td>\n",
              "      <td>3253.0</td>\n",
              "      <td>6731.0</td>\n",
              "    </tr>\n",
              "    <tr>\n",
              "      <th>59</th>\n",
              "      <td>2020-03-21</td>\n",
              "      <td>71857.0</td>\n",
              "      <td>81305.0</td>\n",
              "      <td>3259.0</td>\n",
              "      <td>6189.0</td>\n",
              "    </tr>\n",
              "    <tr>\n",
              "      <th>60</th>\n",
              "      <td>2020-03-22</td>\n",
              "      <td>72362.0</td>\n",
              "      <td>81397.0</td>\n",
              "      <td>3265.0</td>\n",
              "      <td>5770.0</td>\n",
              "    </tr>\n",
              "    <tr>\n",
              "      <th>61</th>\n",
              "      <td>2020-03-23</td>\n",
              "      <td>72814.0</td>\n",
              "      <td>81439.0</td>\n",
              "      <td>3274.0</td>\n",
              "      <td>5351.0</td>\n",
              "    </tr>\n",
              "  </tbody>\n",
              "</table>\n",
              "<p>62 rows × 5 columns</p>\n",
              "</div>"
            ],
            "text/plain": [
              "         Date  Recovered  Confirmed  Deaths  active\n",
              "0  2020-01-22       28.0      548.0    17.0   503.0\n",
              "1  2020-01-23       30.0      643.0    18.0   595.0\n",
              "2  2020-01-24       36.0      920.0    26.0   858.0\n",
              "3  2020-01-25       39.0     1406.0    42.0  1325.0\n",
              "4  2020-01-26       49.0     2075.0    56.0  1970.0\n",
              "..        ...        ...        ...     ...     ...\n",
              "57 2020-03-19    70535.0    81156.0  3249.0  7372.0\n",
              "58 2020-03-20    71266.0    81250.0  3253.0  6731.0\n",
              "59 2020-03-21    71857.0    81305.0  3259.0  6189.0\n",
              "60 2020-03-22    72362.0    81397.0  3265.0  5770.0\n",
              "61 2020-03-23    72814.0    81439.0  3274.0  5351.0\n",
              "\n",
              "[62 rows x 5 columns]"
            ]
          },
          "metadata": {
            "tags": []
          },
          "execution_count": 22
        }
      ]
    },
    {
      "cell_type": "code",
      "metadata": {
        "colab": {
          "base_uri": "https://localhost:8080/",
          "height": 419
        },
        "id": "43feefa0",
        "outputId": "b481eabb-0fd8-4ad1-978c-6d89311e0be2"
      },
      "source": [
        "US = covid[covid.country == 'US']\n",
        "US = US.groupby('Date')['Recovered', 'Confirmed', 'Deaths', 'active'].sum().reset_index()\n",
        "US"
      ],
      "id": "43feefa0",
      "execution_count": 23,
      "outputs": [
        {
          "output_type": "execute_result",
          "data": {
            "text/html": [
              "<div>\n",
              "<style scoped>\n",
              "    .dataframe tbody tr th:only-of-type {\n",
              "        vertical-align: middle;\n",
              "    }\n",
              "\n",
              "    .dataframe tbody tr th {\n",
              "        vertical-align: top;\n",
              "    }\n",
              "\n",
              "    .dataframe thead th {\n",
              "        text-align: right;\n",
              "    }\n",
              "</style>\n",
              "<table border=\"1\" class=\"dataframe\">\n",
              "  <thead>\n",
              "    <tr style=\"text-align: right;\">\n",
              "      <th></th>\n",
              "      <th>Date</th>\n",
              "      <th>Recovered</th>\n",
              "      <th>Confirmed</th>\n",
              "      <th>Deaths</th>\n",
              "      <th>active</th>\n",
              "    </tr>\n",
              "  </thead>\n",
              "  <tbody>\n",
              "    <tr>\n",
              "      <th>0</th>\n",
              "      <td>2020-01-22</td>\n",
              "      <td>0.0</td>\n",
              "      <td>0.0</td>\n",
              "      <td>0.0</td>\n",
              "      <td>0.0</td>\n",
              "    </tr>\n",
              "    <tr>\n",
              "      <th>1</th>\n",
              "      <td>2020-01-23</td>\n",
              "      <td>0.0</td>\n",
              "      <td>0.0</td>\n",
              "      <td>0.0</td>\n",
              "      <td>0.0</td>\n",
              "    </tr>\n",
              "    <tr>\n",
              "      <th>2</th>\n",
              "      <td>2020-01-24</td>\n",
              "      <td>0.0</td>\n",
              "      <td>0.0</td>\n",
              "      <td>0.0</td>\n",
              "      <td>0.0</td>\n",
              "    </tr>\n",
              "    <tr>\n",
              "      <th>3</th>\n",
              "      <td>2020-01-25</td>\n",
              "      <td>0.0</td>\n",
              "      <td>0.0</td>\n",
              "      <td>0.0</td>\n",
              "      <td>0.0</td>\n",
              "    </tr>\n",
              "    <tr>\n",
              "      <th>4</th>\n",
              "      <td>2020-01-26</td>\n",
              "      <td>0.0</td>\n",
              "      <td>0.0</td>\n",
              "      <td>0.0</td>\n",
              "      <td>0.0</td>\n",
              "    </tr>\n",
              "    <tr>\n",
              "      <th>...</th>\n",
              "      <td>...</td>\n",
              "      <td>...</td>\n",
              "      <td>...</td>\n",
              "      <td>...</td>\n",
              "      <td>...</td>\n",
              "    </tr>\n",
              "    <tr>\n",
              "      <th>57</th>\n",
              "      <td>2020-03-19</td>\n",
              "      <td>0.0</td>\n",
              "      <td>13677.0</td>\n",
              "      <td>200.0</td>\n",
              "      <td>13477.0</td>\n",
              "    </tr>\n",
              "    <tr>\n",
              "      <th>58</th>\n",
              "      <td>2020-03-20</td>\n",
              "      <td>0.0</td>\n",
              "      <td>19100.0</td>\n",
              "      <td>244.0</td>\n",
              "      <td>18856.0</td>\n",
              "    </tr>\n",
              "    <tr>\n",
              "      <th>59</th>\n",
              "      <td>2020-03-21</td>\n",
              "      <td>0.0</td>\n",
              "      <td>25489.0</td>\n",
              "      <td>307.0</td>\n",
              "      <td>25182.0</td>\n",
              "    </tr>\n",
              "    <tr>\n",
              "      <th>60</th>\n",
              "      <td>2020-03-22</td>\n",
              "      <td>0.0</td>\n",
              "      <td>33272.0</td>\n",
              "      <td>417.0</td>\n",
              "      <td>32855.0</td>\n",
              "    </tr>\n",
              "    <tr>\n",
              "      <th>61</th>\n",
              "      <td>2020-03-23</td>\n",
              "      <td>178.0</td>\n",
              "      <td>33276.0</td>\n",
              "      <td>417.0</td>\n",
              "      <td>32681.0</td>\n",
              "    </tr>\n",
              "  </tbody>\n",
              "</table>\n",
              "<p>62 rows × 5 columns</p>\n",
              "</div>"
            ],
            "text/plain": [
              "         Date  Recovered  Confirmed  Deaths   active\n",
              "0  2020-01-22        0.0        0.0     0.0      0.0\n",
              "1  2020-01-23        0.0        0.0     0.0      0.0\n",
              "2  2020-01-24        0.0        0.0     0.0      0.0\n",
              "3  2020-01-25        0.0        0.0     0.0      0.0\n",
              "4  2020-01-26        0.0        0.0     0.0      0.0\n",
              "..        ...        ...        ...     ...      ...\n",
              "57 2020-03-19        0.0    13677.0   200.0  13477.0\n",
              "58 2020-03-20        0.0    19100.0   244.0  18856.0\n",
              "59 2020-03-21        0.0    25489.0   307.0  25182.0\n",
              "60 2020-03-22        0.0    33272.0   417.0  32855.0\n",
              "61 2020-03-23      178.0    33276.0   417.0  32681.0\n",
              "\n",
              "[62 rows x 5 columns]"
            ]
          },
          "metadata": {
            "tags": []
          },
          "execution_count": 23
        }
      ]
    },
    {
      "cell_type": "code",
      "metadata": {
        "colab": {
          "base_uri": "https://localhost:8080/",
          "height": 419
        },
        "id": "e310a69e",
        "outputId": "fd0b951c-7787-4d3e-8560-742e1fde7849"
      },
      "source": [
        "Italy = covid[covid.country == 'Italy']\n",
        "Italy = Italy.groupby('Date')['Recovered', 'Confirmed', 'Deaths', 'active'].sum().reset_index()\n",
        "Italy"
      ],
      "id": "e310a69e",
      "execution_count": 24,
      "outputs": [
        {
          "output_type": "execute_result",
          "data": {
            "text/html": [
              "<div>\n",
              "<style scoped>\n",
              "    .dataframe tbody tr th:only-of-type {\n",
              "        vertical-align: middle;\n",
              "    }\n",
              "\n",
              "    .dataframe tbody tr th {\n",
              "        vertical-align: top;\n",
              "    }\n",
              "\n",
              "    .dataframe thead th {\n",
              "        text-align: right;\n",
              "    }\n",
              "</style>\n",
              "<table border=\"1\" class=\"dataframe\">\n",
              "  <thead>\n",
              "    <tr style=\"text-align: right;\">\n",
              "      <th></th>\n",
              "      <th>Date</th>\n",
              "      <th>Recovered</th>\n",
              "      <th>Confirmed</th>\n",
              "      <th>Deaths</th>\n",
              "      <th>active</th>\n",
              "    </tr>\n",
              "  </thead>\n",
              "  <tbody>\n",
              "    <tr>\n",
              "      <th>0</th>\n",
              "      <td>2020-01-22</td>\n",
              "      <td>0.0</td>\n",
              "      <td>0.0</td>\n",
              "      <td>0.0</td>\n",
              "      <td>0.0</td>\n",
              "    </tr>\n",
              "    <tr>\n",
              "      <th>1</th>\n",
              "      <td>2020-01-23</td>\n",
              "      <td>0.0</td>\n",
              "      <td>0.0</td>\n",
              "      <td>0.0</td>\n",
              "      <td>0.0</td>\n",
              "    </tr>\n",
              "    <tr>\n",
              "      <th>2</th>\n",
              "      <td>2020-01-24</td>\n",
              "      <td>0.0</td>\n",
              "      <td>0.0</td>\n",
              "      <td>0.0</td>\n",
              "      <td>0.0</td>\n",
              "    </tr>\n",
              "    <tr>\n",
              "      <th>3</th>\n",
              "      <td>2020-01-25</td>\n",
              "      <td>0.0</td>\n",
              "      <td>0.0</td>\n",
              "      <td>0.0</td>\n",
              "      <td>0.0</td>\n",
              "    </tr>\n",
              "    <tr>\n",
              "      <th>4</th>\n",
              "      <td>2020-01-26</td>\n",
              "      <td>0.0</td>\n",
              "      <td>0.0</td>\n",
              "      <td>0.0</td>\n",
              "      <td>0.0</td>\n",
              "    </tr>\n",
              "    <tr>\n",
              "      <th>...</th>\n",
              "      <td>...</td>\n",
              "      <td>...</td>\n",
              "      <td>...</td>\n",
              "      <td>...</td>\n",
              "      <td>...</td>\n",
              "    </tr>\n",
              "    <tr>\n",
              "      <th>57</th>\n",
              "      <td>2020-03-19</td>\n",
              "      <td>4440.0</td>\n",
              "      <td>41035.0</td>\n",
              "      <td>3405.0</td>\n",
              "      <td>33190.0</td>\n",
              "    </tr>\n",
              "    <tr>\n",
              "      <th>58</th>\n",
              "      <td>2020-03-20</td>\n",
              "      <td>4440.0</td>\n",
              "      <td>47021.0</td>\n",
              "      <td>4032.0</td>\n",
              "      <td>38549.0</td>\n",
              "    </tr>\n",
              "    <tr>\n",
              "      <th>59</th>\n",
              "      <td>2020-03-21</td>\n",
              "      <td>6072.0</td>\n",
              "      <td>53578.0</td>\n",
              "      <td>4825.0</td>\n",
              "      <td>42681.0</td>\n",
              "    </tr>\n",
              "    <tr>\n",
              "      <th>60</th>\n",
              "      <td>2020-03-22</td>\n",
              "      <td>7024.0</td>\n",
              "      <td>59138.0</td>\n",
              "      <td>5476.0</td>\n",
              "      <td>46638.0</td>\n",
              "    </tr>\n",
              "    <tr>\n",
              "      <th>61</th>\n",
              "      <td>2020-03-23</td>\n",
              "      <td>7024.0</td>\n",
              "      <td>59138.0</td>\n",
              "      <td>5476.0</td>\n",
              "      <td>46638.0</td>\n",
              "    </tr>\n",
              "  </tbody>\n",
              "</table>\n",
              "<p>62 rows × 5 columns</p>\n",
              "</div>"
            ],
            "text/plain": [
              "         Date  Recovered  Confirmed  Deaths   active\n",
              "0  2020-01-22        0.0        0.0     0.0      0.0\n",
              "1  2020-01-23        0.0        0.0     0.0      0.0\n",
              "2  2020-01-24        0.0        0.0     0.0      0.0\n",
              "3  2020-01-25        0.0        0.0     0.0      0.0\n",
              "4  2020-01-26        0.0        0.0     0.0      0.0\n",
              "..        ...        ...        ...     ...      ...\n",
              "57 2020-03-19     4440.0    41035.0  3405.0  33190.0\n",
              "58 2020-03-20     4440.0    47021.0  4032.0  38549.0\n",
              "59 2020-03-21     6072.0    53578.0  4825.0  42681.0\n",
              "60 2020-03-22     7024.0    59138.0  5476.0  46638.0\n",
              "61 2020-03-23     7024.0    59138.0  5476.0  46638.0\n",
              "\n",
              "[62 rows x 5 columns]"
            ]
          },
          "metadata": {
            "tags": []
          },
          "execution_count": 24
        }
      ]
    },
    {
      "cell_type": "code",
      "metadata": {
        "colab": {
          "base_uri": "https://localhost:8080/",
          "height": 419
        },
        "id": "0d29761a",
        "outputId": "5acd3f31-3128-4316-8109-c5b223501bac"
      },
      "source": [
        "India = covid[covid.country == 'India']\n",
        "India = India.groupby('Date')['Recovered', 'Confirmed', 'Deaths', 'active'].sum().reset_index()\n",
        "India"
      ],
      "id": "0d29761a",
      "execution_count": 25,
      "outputs": [
        {
          "output_type": "execute_result",
          "data": {
            "text/html": [
              "<div>\n",
              "<style scoped>\n",
              "    .dataframe tbody tr th:only-of-type {\n",
              "        vertical-align: middle;\n",
              "    }\n",
              "\n",
              "    .dataframe tbody tr th {\n",
              "        vertical-align: top;\n",
              "    }\n",
              "\n",
              "    .dataframe thead th {\n",
              "        text-align: right;\n",
              "    }\n",
              "</style>\n",
              "<table border=\"1\" class=\"dataframe\">\n",
              "  <thead>\n",
              "    <tr style=\"text-align: right;\">\n",
              "      <th></th>\n",
              "      <th>Date</th>\n",
              "      <th>Recovered</th>\n",
              "      <th>Confirmed</th>\n",
              "      <th>Deaths</th>\n",
              "      <th>active</th>\n",
              "    </tr>\n",
              "  </thead>\n",
              "  <tbody>\n",
              "    <tr>\n",
              "      <th>0</th>\n",
              "      <td>2020-01-22</td>\n",
              "      <td>0.0</td>\n",
              "      <td>0.0</td>\n",
              "      <td>0.0</td>\n",
              "      <td>0.0</td>\n",
              "    </tr>\n",
              "    <tr>\n",
              "      <th>1</th>\n",
              "      <td>2020-01-23</td>\n",
              "      <td>0.0</td>\n",
              "      <td>0.0</td>\n",
              "      <td>0.0</td>\n",
              "      <td>0.0</td>\n",
              "    </tr>\n",
              "    <tr>\n",
              "      <th>2</th>\n",
              "      <td>2020-01-24</td>\n",
              "      <td>0.0</td>\n",
              "      <td>0.0</td>\n",
              "      <td>0.0</td>\n",
              "      <td>0.0</td>\n",
              "    </tr>\n",
              "    <tr>\n",
              "      <th>3</th>\n",
              "      <td>2020-01-25</td>\n",
              "      <td>0.0</td>\n",
              "      <td>0.0</td>\n",
              "      <td>0.0</td>\n",
              "      <td>0.0</td>\n",
              "    </tr>\n",
              "    <tr>\n",
              "      <th>4</th>\n",
              "      <td>2020-01-26</td>\n",
              "      <td>0.0</td>\n",
              "      <td>0.0</td>\n",
              "      <td>0.0</td>\n",
              "      <td>0.0</td>\n",
              "    </tr>\n",
              "    <tr>\n",
              "      <th>...</th>\n",
              "      <td>...</td>\n",
              "      <td>...</td>\n",
              "      <td>...</td>\n",
              "      <td>...</td>\n",
              "      <td>...</td>\n",
              "    </tr>\n",
              "    <tr>\n",
              "      <th>57</th>\n",
              "      <td>2020-03-19</td>\n",
              "      <td>15.0</td>\n",
              "      <td>194.0</td>\n",
              "      <td>4.0</td>\n",
              "      <td>175.0</td>\n",
              "    </tr>\n",
              "    <tr>\n",
              "      <th>58</th>\n",
              "      <td>2020-03-20</td>\n",
              "      <td>20.0</td>\n",
              "      <td>244.0</td>\n",
              "      <td>5.0</td>\n",
              "      <td>219.0</td>\n",
              "    </tr>\n",
              "    <tr>\n",
              "      <th>59</th>\n",
              "      <td>2020-03-21</td>\n",
              "      <td>23.0</td>\n",
              "      <td>330.0</td>\n",
              "      <td>4.0</td>\n",
              "      <td>303.0</td>\n",
              "    </tr>\n",
              "    <tr>\n",
              "      <th>60</th>\n",
              "      <td>2020-03-22</td>\n",
              "      <td>27.0</td>\n",
              "      <td>396.0</td>\n",
              "      <td>7.0</td>\n",
              "      <td>362.0</td>\n",
              "    </tr>\n",
              "    <tr>\n",
              "      <th>61</th>\n",
              "      <td>2020-03-23</td>\n",
              "      <td>27.0</td>\n",
              "      <td>396.0</td>\n",
              "      <td>7.0</td>\n",
              "      <td>362.0</td>\n",
              "    </tr>\n",
              "  </tbody>\n",
              "</table>\n",
              "<p>62 rows × 5 columns</p>\n",
              "</div>"
            ],
            "text/plain": [
              "         Date  Recovered  Confirmed  Deaths  active\n",
              "0  2020-01-22        0.0        0.0     0.0     0.0\n",
              "1  2020-01-23        0.0        0.0     0.0     0.0\n",
              "2  2020-01-24        0.0        0.0     0.0     0.0\n",
              "3  2020-01-25        0.0        0.0     0.0     0.0\n",
              "4  2020-01-26        0.0        0.0     0.0     0.0\n",
              "..        ...        ...        ...     ...     ...\n",
              "57 2020-03-19       15.0      194.0     4.0   175.0\n",
              "58 2020-03-20       20.0      244.0     5.0   219.0\n",
              "59 2020-03-21       23.0      330.0     4.0   303.0\n",
              "60 2020-03-22       27.0      396.0     7.0   362.0\n",
              "61 2020-03-23       27.0      396.0     7.0   362.0\n",
              "\n",
              "[62 rows x 5 columns]"
            ]
          },
          "metadata": {
            "tags": []
          },
          "execution_count": 25
        }
      ]
    },
    {
      "cell_type": "code",
      "metadata": {
        "colab": {
          "base_uri": "https://localhost:8080/",
          "height": 609
        },
        "id": "9ce43247",
        "outputId": "aa06967f-db60-4ad0-ec58-ba8da2455179"
      },
      "source": [
        "plt.figure(figsize=(15,10))\n",
        "sns.pointplot(china.index, china.Confirmed, color = 'red')\n",
        "sns.pointplot(US.index, US.Confirmed, color = 'blue')\n",
        "sns.pointplot(Italy.index, Italy.Confirmed, color = 'green')\n",
        "sns.pointplot(India.index, India.Confirmed, color = 'm')"
      ],
      "id": "9ce43247",
      "execution_count": 26,
      "outputs": [
        {
          "output_type": "execute_result",
          "data": {
            "text/plain": [
              "<matplotlib.axes._subplots.AxesSubplot at 0x7f1d5a72b890>"
            ]
          },
          "metadata": {
            "tags": []
          },
          "execution_count": 26
        },
        {
          "output_type": "display_data",
          "data": {
            "image/png": "[encoded data removed]",
            "text/plain": [
              "<Figure size 1080x720 with 1 Axes>"
            ]
          },
          "metadata": {
            "tags": [],
            "needs_background": "light"
          }
        }
      ]
    },
    {
      "cell_type": "code",
      "metadata": {
        "colab": {
          "base_uri": "https://localhost:8080/",
          "height": 609
        },
        "id": "1ba792c4",
        "outputId": "f914bd69-d7d2-479d-e1e2-2316854703d9"
      },
      "source": [
        "plt.figure(figsize=(15,10))\n",
        "sns.pointplot(china.index, china.Deaths, color = 'red')\n",
        "sns.pointplot(US.index, US.Deaths, color = 'blue')\n",
        "sns.pointplot(Italy.index, Italy.Deaths, color = 'green')\n",
        "sns.pointplot(India.index, India.Deaths, color = 'm')"
      ],
      "id": "1ba792c4",
      "execution_count": 27,
      "outputs": [
        {
          "output_type": "execute_result",
          "data": {
            "text/plain": [
              "<matplotlib.axes._subplots.AxesSubplot at 0x7f1d5b417190>"
            ]
          },
          "metadata": {
            "tags": []
          },
          "execution_count": 27
        },
        {
          "output_type": "display_data",
          "data": {
            "image/png": "[encoded data removed]",
            "text/plain": [
              "<Figure size 1080x720 with 1 Axes>"
            ]
          },
          "metadata": {
            "tags": [],
            "needs_background": "light"
          }
        }
      ]
    },
    {
      "cell_type": "code",
      "metadata": {
        "colab": {
          "base_uri": "https://localhost:8080/",
          "height": 609
        },
        "id": "7c959935",
        "outputId": "b68ee3af-b0db-4e9e-83ac-2265458c911c"
      },
      "source": [
        "plt.figure(figsize=(15,10))\n",
        "sns.pointplot(china.index, china.active, color = 'red')\n",
        "sns.pointplot(US.index, US.active, color = 'blue')\n",
        "sns.pointplot(Italy.index, Italy.active, color = 'green')\n",
        "sns.pointplot(India.index, India.active, color = 'm')"
      ],
      "id": "7c959935",
      "execution_count": 28,
      "outputs": [
        {
          "output_type": "execute_result",
          "data": {
            "text/plain": [
              "<matplotlib.axes._subplots.AxesSubplot at 0x7f1d5a3d0690>"
            ]
          },
          "metadata": {
            "tags": []
          },
          "execution_count": 28
        },
        {
          "output_type": "display_data",
          "data": {
            "image/png": "[encoded data removed]",
            "text/plain": [
              "<Figure size 1080x720 with 1 Axes>"
            ]
          },
          "metadata": {
            "tags": [],
            "needs_background": "light"
          }
        }
      ]
    },
    {
      "cell_type": "code",
      "metadata": {
        "colab": {
          "base_uri": "https://localhost:8080/",
          "height": 609
        },
        "id": "422d9db3",
        "outputId": "3ec36350-fdd8-418b-fb74-83bce1cca663"
      },
      "source": [
        "plt.figure(figsize=(15,10))\n",
        "sns.pointplot(china.index, china.Recovered, color = 'red')\n",
        "sns.pointplot(US.index, US.Recovered, color = 'blue')\n",
        "sns.pointplot(Italy.index, Italy.Recovered, color = 'green')\n",
        "sns.pointplot(India.index, India.Recovered, color = 'm')"
      ],
      "id": "422d9db3",
      "execution_count": 29,
      "outputs": [
        {
          "output_type": "execute_result",
          "data": {
            "text/plain": [
              "<matplotlib.axes._subplots.AxesSubplot at 0x7f1d5b6c8550>"
            ]
          },
          "metadata": {
            "tags": []
          },
          "execution_count": 29
        },
        {
          "output_type": "display_data",
          "data": {
            "image/png": "[encoded data removed]",
            "text/plain": [
              "<Figure size 1080x720 with 1 Axes>"
            ]
          },
          "metadata": {
            "tags": [],
            "needs_background": "light"
          }
        }
      ]
    },
    {
      "cell_type": "code",
      "metadata": {
        "id": "16cbaba8"
      },
      "source": [
        "total_casesC = covid.groupby('country')['active'].sum().reset_index().sort_values(by='active', ascending = False)"
      ],
      "id": "16cbaba8",
      "execution_count": 30,
      "outputs": []
    },
    {
      "cell_type": "code",
      "metadata": {
        "colab": {
          "base_uri": "https://localhost:8080/",
          "height": 1000
        },
        "id": "92847dc2",
        "outputId": "bf16ad3d-5ee9-4254-dac3-24b4ad7a98e6"
      },
      "source": [
        "total_casesC.style.background_gradient(cmap='Blues_r')"
      ],
      "id": "92847dc2",
      "execution_count": 31,
      "outputs": [
        {
          "output_type": "execute_result",
          "data": {
            "text/html": [
              "<style  type=\"text/css\" >\n",
              "#T_07032d74_f3c3_11eb_882a_0242ac1c0002row0_col1{\n",
              "            background-color:  #f7fbff;\n",
              "            color:  #000000;\n",
              "        }#T_07032d74_f3c3_11eb_882a_0242ac1c0002row1_col1{\n",
              "            background-color:  #2171b5;\n",
              "            color:  #f1f1f1;\n",
              "        }#T_07032d74_f3c3_11eb_882a_0242ac1c0002row2_col1,#T_07032d74_f3c3_11eb_882a_0242ac1c0002row3_col1,#T_07032d74_f3c3_11eb_882a_0242ac1c0002row4_col1{\n",
              "            background-color:  #084a91;\n",
              "            color:  #f1f1f1;\n",
              "        }#T_07032d74_f3c3_11eb_882a_0242ac1c0002row5_col1,#T_07032d74_f3c3_11eb_882a_0242ac1c0002row6_col1{\n",
              "            background-color:  #084990;\n",
              "            color:  #f1f1f1;\n",
              "        }#T_07032d74_f3c3_11eb_882a_0242ac1c0002row7_col1{\n",
              "            background-color:  #084285;\n",
              "            color:  #f1f1f1;\n",
              "        }#T_07032d74_f3c3_11eb_882a_0242ac1c0002row8_col1{\n",
              "            background-color:  #083776;\n",
              "            color:  #f1f1f1;\n",
              "        }#T_07032d74_f3c3_11eb_882a_0242ac1c0002row9_col1{\n",
              "            background-color:  #083573;\n",
              "            color:  #f1f1f1;\n",
              "        }#T_07032d74_f3c3_11eb_882a_0242ac1c0002row10_col1{\n",
              "            background-color:  #083471;\n",
              "            color:  #f1f1f1;\n",
              "        }#T_07032d74_f3c3_11eb_882a_0242ac1c0002row11_col1,#T_07032d74_f3c3_11eb_882a_0242ac1c0002row12_col1,#T_07032d74_f3c3_11eb_882a_0242ac1c0002row13_col1,#T_07032d74_f3c3_11eb_882a_0242ac1c0002row14_col1{\n",
              "            background-color:  #083370;\n",
              "            color:  #f1f1f1;\n",
              "        }#T_07032d74_f3c3_11eb_882a_0242ac1c0002row15_col1,#T_07032d74_f3c3_11eb_882a_0242ac1c0002row16_col1,#T_07032d74_f3c3_11eb_882a_0242ac1c0002row17_col1{\n",
              "            background-color:  #08326e;\n",
              "            color:  #f1f1f1;\n",
              "        }#T_07032d74_f3c3_11eb_882a_0242ac1c0002row18_col1,#T_07032d74_f3c3_11eb_882a_0242ac1c0002row19_col1,#T_07032d74_f3c3_11eb_882a_0242ac1c0002row20_col1,#T_07032d74_f3c3_11eb_882a_0242ac1c0002row21_col1,#T_07032d74_f3c3_11eb_882a_0242ac1c0002row22_col1,#T_07032d74_f3c3_11eb_882a_0242ac1c0002row23_col1,#T_07032d74_f3c3_11eb_882a_0242ac1c0002row24_col1{\n",
              "            background-color:  #08316d;\n",
              "            color:  #f1f1f1;\n",
              "        }#T_07032d74_f3c3_11eb_882a_0242ac1c0002row25_col1,#T_07032d74_f3c3_11eb_882a_0242ac1c0002row26_col1,#T_07032d74_f3c3_11eb_882a_0242ac1c0002row27_col1,#T_07032d74_f3c3_11eb_882a_0242ac1c0002row28_col1,#T_07032d74_f3c3_11eb_882a_0242ac1c0002row29_col1,#T_07032d74_f3c3_11eb_882a_0242ac1c0002row30_col1,#T_07032d74_f3c3_11eb_882a_0242ac1c0002row31_col1,#T_07032d74_f3c3_11eb_882a_0242ac1c0002row32_col1,#T_07032d74_f3c3_11eb_882a_0242ac1c0002row33_col1,#T_07032d74_f3c3_11eb_882a_0242ac1c0002row34_col1,#T_07032d74_f3c3_11eb_882a_0242ac1c0002row35_col1,#T_07032d74_f3c3_11eb_882a_0242ac1c0002row36_col1,#T_07032d74_f3c3_11eb_882a_0242ac1c0002row37_col1,#T_07032d74_f3c3_11eb_882a_0242ac1c0002row38_col1,#T_07032d74_f3c3_11eb_882a_0242ac1c0002row39_col1,#T_07032d74_f3c3_11eb_882a_0242ac1c0002row40_col1,#T_07032d74_f3c3_11eb_882a_0242ac1c0002row41_col1,#T_07032d74_f3c3_11eb_882a_0242ac1c0002row42_col1,#T_07032d74_f3c3_11eb_882a_0242ac1c0002row43_col1,#T_07032d74_f3c3_11eb_882a_0242ac1c0002row44_col1,#T_07032d74_f3c3_11eb_882a_0242ac1c0002row45_col1,#T_07032d74_f3c3_11eb_882a_0242ac1c0002row46_col1,#T_07032d74_f3c3_11eb_882a_0242ac1c0002row47_col1,#T_07032d74_f3c3_11eb_882a_0242ac1c0002row48_col1,#T_07032d74_f3c3_11eb_882a_0242ac1c0002row49_col1,#T_07032d74_f3c3_11eb_882a_0242ac1c0002row50_col1,#T_07032d74_f3c3_11eb_882a_0242ac1c0002row51_col1,#T_07032d74_f3c3_11eb_882a_0242ac1c0002row52_col1,#T_07032d74_f3c3_11eb_882a_0242ac1c0002row53_col1,#T_07032d74_f3c3_11eb_882a_0242ac1c0002row54_col1,#T_07032d74_f3c3_11eb_882a_0242ac1c0002row55_col1,#T_07032d74_f3c3_11eb_882a_0242ac1c0002row56_col1,#T_07032d74_f3c3_11eb_882a_0242ac1c0002row57_col1,#T_07032d74_f3c3_11eb_882a_0242ac1c0002row58_col1,#T_07032d74_f3c3_11eb_882a_0242ac1c0002row59_col1,#T_07032d74_f3c3_11eb_882a_0242ac1c0002row60_col1,#T_07032d74_f3c3_11eb_882a_0242ac1c0002row61_col1,#T_07032d74_f3c3_11eb_882a_0242ac1c0002row62_col1,#T_07032d74_f3c3_11eb_882a_0242ac1c0002row63_col1,#T_07032d74_f3c3_11eb_882a_0242ac1c0002row64_col1,#T_07032d74_f3c3_11eb_882a_0242ac1c0002row65_col1,#T_07032d74_f3c3_11eb_882a_0242ac1c0002row66_col1,#T_07032d74_f3c3_11eb_882a_0242ac1c0002row67_col1,#T_07032d74_f3c3_11eb_882a_0242ac1c0002row68_col1,#T_07032d74_f3c3_11eb_882a_0242ac1c0002row69_col1,#T_07032d74_f3c3_11eb_882a_0242ac1c0002row70_col1,#T_07032d74_f3c3_11eb_882a_0242ac1c0002row71_col1,#T_07032d74_f3c3_11eb_882a_0242ac1c0002row72_col1,#T_07032d74_f3c3_11eb_882a_0242ac1c0002row73_col1,#T_07032d74_f3c3_11eb_882a_0242ac1c0002row74_col1,#T_07032d74_f3c3_11eb_882a_0242ac1c0002row75_col1,#T_07032d74_f3c3_11eb_882a_0242ac1c0002row76_col1,#T_07032d74_f3c3_11eb_882a_0242ac1c0002row77_col1,#T_07032d74_f3c3_11eb_882a_0242ac1c0002row78_col1,#T_07032d74_f3c3_11eb_882a_0242ac1c0002row79_col1,#T_07032d74_f3c3_11eb_882a_0242ac1c0002row80_col1,#T_07032d74_f3c3_11eb_882a_0242ac1c0002row81_col1,#T_07032d74_f3c3_11eb_882a_0242ac1c0002row82_col1,#T_07032d74_f3c3_11eb_882a_0242ac1c0002row83_col1,#T_07032d74_f3c3_11eb_882a_0242ac1c0002row84_col1,#T_07032d74_f3c3_11eb_882a_0242ac1c0002row85_col1,#T_07032d74_f3c3_11eb_882a_0242ac1c0002row86_col1,#T_07032d74_f3c3_11eb_882a_0242ac1c0002row87_col1,#T_07032d74_f3c3_11eb_882a_0242ac1c0002row88_col1,#T_07032d74_f3c3_11eb_882a_0242ac1c0002row89_col1,#T_07032d74_f3c3_11eb_882a_0242ac1c0002row90_col1,#T_07032d74_f3c3_11eb_882a_0242ac1c0002row91_col1,#T_07032d74_f3c3_11eb_882a_0242ac1c0002row92_col1,#T_07032d74_f3c3_11eb_882a_0242ac1c0002row93_col1,#T_07032d74_f3c3_11eb_882a_0242ac1c0002row94_col1,#T_07032d74_f3c3_11eb_882a_0242ac1c0002row95_col1,#T_07032d74_f3c3_11eb_882a_0242ac1c0002row96_col1,#T_07032d74_f3c3_11eb_882a_0242ac1c0002row97_col1,#T_07032d74_f3c3_11eb_882a_0242ac1c0002row98_col1,#T_07032d74_f3c3_11eb_882a_0242ac1c0002row99_col1,#T_07032d74_f3c3_11eb_882a_0242ac1c0002row100_col1,#T_07032d74_f3c3_11eb_882a_0242ac1c0002row101_col1,#T_07032d74_f3c3_11eb_882a_0242ac1c0002row102_col1,#T_07032d74_f3c3_11eb_882a_0242ac1c0002row103_col1,#T_07032d74_f3c3_11eb_882a_0242ac1c0002row104_col1,#T_07032d74_f3c3_11eb_882a_0242ac1c0002row105_col1,#T_07032d74_f3c3_11eb_882a_0242ac1c0002row106_col1,#T_07032d74_f3c3_11eb_882a_0242ac1c0002row107_col1,#T_07032d74_f3c3_11eb_882a_0242ac1c0002row108_col1,#T_07032d74_f3c3_11eb_882a_0242ac1c0002row109_col1,#T_07032d74_f3c3_11eb_882a_0242ac1c0002row110_col1,#T_07032d74_f3c3_11eb_882a_0242ac1c0002row111_col1,#T_07032d74_f3c3_11eb_882a_0242ac1c0002row112_col1,#T_07032d74_f3c3_11eb_882a_0242ac1c0002row113_col1,#T_07032d74_f3c3_11eb_882a_0242ac1c0002row114_col1,#T_07032d74_f3c3_11eb_882a_0242ac1c0002row115_col1,#T_07032d74_f3c3_11eb_882a_0242ac1c0002row116_col1,#T_07032d74_f3c3_11eb_882a_0242ac1c0002row117_col1,#T_07032d74_f3c3_11eb_882a_0242ac1c0002row118_col1,#T_07032d74_f3c3_11eb_882a_0242ac1c0002row119_col1,#T_07032d74_f3c3_11eb_882a_0242ac1c0002row120_col1,#T_07032d74_f3c3_11eb_882a_0242ac1c0002row121_col1,#T_07032d74_f3c3_11eb_882a_0242ac1c0002row122_col1,#T_07032d74_f3c3_11eb_882a_0242ac1c0002row123_col1,#T_07032d74_f3c3_11eb_882a_0242ac1c0002row124_col1,#T_07032d74_f3c3_11eb_882a_0242ac1c0002row125_col1,#T_07032d74_f3c3_11eb_882a_0242ac1c0002row126_col1,#T_07032d74_f3c3_11eb_882a_0242ac1c0002row127_col1,#T_07032d74_f3c3_11eb_882a_0242ac1c0002row128_col1,#T_07032d74_f3c3_11eb_882a_0242ac1c0002row129_col1,#T_07032d74_f3c3_11eb_882a_0242ac1c0002row130_col1,#T_07032d74_f3c3_11eb_882a_0242ac1c0002row131_col1,#T_07032d74_f3c3_11eb_882a_0242ac1c0002row132_col1,#T_07032d74_f3c3_11eb_882a_0242ac1c0002row133_col1,#T_07032d74_f3c3_11eb_882a_0242ac1c0002row134_col1,#T_07032d74_f3c3_11eb_882a_0242ac1c0002row135_col1,#T_07032d74_f3c3_11eb_882a_0242ac1c0002row136_col1,#T_07032d74_f3c3_11eb_882a_0242ac1c0002row137_col1,#T_07032d74_f3c3_11eb_882a_0242ac1c0002row138_col1,#T_07032d74_f3c3_11eb_882a_0242ac1c0002row139_col1,#T_07032d74_f3c3_11eb_882a_0242ac1c0002row140_col1,#T_07032d74_f3c3_11eb_882a_0242ac1c0002row141_col1,#T_07032d74_f3c3_11eb_882a_0242ac1c0002row142_col1,#T_07032d74_f3c3_11eb_882a_0242ac1c0002row143_col1,#T_07032d74_f3c3_11eb_882a_0242ac1c0002row144_col1,#T_07032d74_f3c3_11eb_882a_0242ac1c0002row145_col1,#T_07032d74_f3c3_11eb_882a_0242ac1c0002row146_col1,#T_07032d74_f3c3_11eb_882a_0242ac1c0002row147_col1,#T_07032d74_f3c3_11eb_882a_0242ac1c0002row148_col1,#T_07032d74_f3c3_11eb_882a_0242ac1c0002row149_col1,#T_07032d74_f3c3_11eb_882a_0242ac1c0002row150_col1,#T_07032d74_f3c3_11eb_882a_0242ac1c0002row151_col1,#T_07032d74_f3c3_11eb_882a_0242ac1c0002row152_col1,#T_07032d74_f3c3_11eb_882a_0242ac1c0002row153_col1,#T_07032d74_f3c3_11eb_882a_0242ac1c0002row154_col1,#T_07032d74_f3c3_11eb_882a_0242ac1c0002row155_col1,#T_07032d74_f3c3_11eb_882a_0242ac1c0002row156_col1,#T_07032d74_f3c3_11eb_882a_0242ac1c0002row157_col1,#T_07032d74_f3c3_11eb_882a_0242ac1c0002row158_col1,#T_07032d74_f3c3_11eb_882a_0242ac1c0002row159_col1,#T_07032d74_f3c3_11eb_882a_0242ac1c0002row160_col1,#T_07032d74_f3c3_11eb_882a_0242ac1c0002row161_col1,#T_07032d74_f3c3_11eb_882a_0242ac1c0002row162_col1,#T_07032d74_f3c3_11eb_882a_0242ac1c0002row163_col1,#T_07032d74_f3c3_11eb_882a_0242ac1c0002row164_col1,#T_07032d74_f3c3_11eb_882a_0242ac1c0002row165_col1,#T_07032d74_f3c3_11eb_882a_0242ac1c0002row166_col1,#T_07032d74_f3c3_11eb_882a_0242ac1c0002row167_col1,#T_07032d74_f3c3_11eb_882a_0242ac1c0002row168_col1,#T_07032d74_f3c3_11eb_882a_0242ac1c0002row169_col1,#T_07032d74_f3c3_11eb_882a_0242ac1c0002row170_col1,#T_07032d74_f3c3_11eb_882a_0242ac1c0002row171_col1,#T_07032d74_f3c3_11eb_882a_0242ac1c0002row172_col1,#T_07032d74_f3c3_11eb_882a_0242ac1c0002row173_col1,#T_07032d74_f3c3_11eb_882a_0242ac1c0002row174_col1,#T_07032d74_f3c3_11eb_882a_0242ac1c0002row175_col1,#T_07032d74_f3c3_11eb_882a_0242ac1c0002row176_col1,#T_07032d74_f3c3_11eb_882a_0242ac1c0002row177_col1,#T_07032d74_f3c3_11eb_882a_0242ac1c0002row178_col1,#T_07032d74_f3c3_11eb_882a_0242ac1c0002row179_col1,#T_07032d74_f3c3_11eb_882a_0242ac1c0002row180_col1,#T_07032d74_f3c3_11eb_882a_0242ac1c0002row181_col1,#T_07032d74_f3c3_11eb_882a_0242ac1c0002row182_col1{\n",
              "            background-color:  #08306b;\n",
              "            color:  #f1f1f1;\n",
              "        }</style><table id=\"T_07032d74_f3c3_11eb_882a_0242ac1c0002\" ><thead>    <tr>        <th class=\"blank level0\" ></th>        <th class=\"col_heading level0 col0\" >country</th>        <th class=\"col_heading level0 col1\" >active</th>    </tr></thead><tbody>\n",
              "                <tr>\n",
              "                        <th id=\"T_07032d74_f3c3_11eb_882a_0242ac1c0002level0_row0\" class=\"row_heading level0 row0\" >33</th>\n",
              "                        <td id=\"T_07032d74_f3c3_11eb_882a_0242ac1c0002row0_col0\" class=\"data row0 col0\" >China</td>\n",
              "                        <td id=\"T_07032d74_f3c3_11eb_882a_0242ac1c0002row0_col1\" class=\"data row0 col1\" >1624545.000000</td>\n",
              "            </tr>\n",
              "            <tr>\n",
              "                        <th id=\"T_07032d74_f3c3_11eb_882a_0242ac1c0002level0_row1\" class=\"row_heading level0 row1\" >86</th>\n",
              "                        <td id=\"T_07032d74_f3c3_11eb_882a_0242ac1c0002row1_col0\" class=\"data row1 col0\" >Italy</td>\n",
              "                        <td id=\"T_07032d74_f3c3_11eb_882a_0242ac1c0002row1_col1\" class=\"data row1 col1\" >407570.000000</td>\n",
              "            </tr>\n",
              "            <tr>\n",
              "                        <th id=\"T_07032d74_f3c3_11eb_882a_0242ac1c0002level0_row2\" class=\"row_heading level0 row2\" >155</th>\n",
              "                        <td id=\"T_07032d74_f3c3_11eb_882a_0242ac1c0002row2_col0\" class=\"data row2 col0\" >Spain</td>\n",
              "                        <td id=\"T_07032d74_f3c3_11eb_882a_0242ac1c0002row2_col1\" class=\"data row2 col1\" >162715.000000</td>\n",
              "            </tr>\n",
              "            <tr>\n",
              "                        <th id=\"T_07032d74_f3c3_11eb_882a_0242ac1c0002level0_row3\" class=\"row_heading level0 row3\" >154</th>\n",
              "                        <td id=\"T_07032d74_f3c3_11eb_882a_0242ac1c0002row3_col0\" class=\"data row3 col0\" >South Korea</td>\n",
              "                        <td id=\"T_07032d74_f3c3_11eb_882a_0242ac1c0002row3_col1\" class=\"data row3 col1\" >162275.000000</td>\n",
              "            </tr>\n",
              "            <tr>\n",
              "                        <th id=\"T_07032d74_f3c3_11eb_882a_0242ac1c0002level0_row4\" class=\"row_heading level0 row4\" >64</th>\n",
              "                        <td id=\"T_07032d74_f3c3_11eb_882a_0242ac1c0002row4_col0\" class=\"data row4 col0\" >Germany</td>\n",
              "                        <td id=\"T_07032d74_f3c3_11eb_882a_0242ac1c0002row4_col1\" class=\"data row4 col1\" >158657.000000</td>\n",
              "            </tr>\n",
              "            <tr>\n",
              "                        <th id=\"T_07032d74_f3c3_11eb_882a_0242ac1c0002level0_row5\" class=\"row_heading level0 row5\" >82</th>\n",
              "                        <td id=\"T_07032d74_f3c3_11eb_882a_0242ac1c0002row5_col0\" class=\"data row5 col0\" >Iran</td>\n",
              "                        <td id=\"T_07032d74_f3c3_11eb_882a_0242ac1c0002row5_col1\" class=\"data row5 col1\" >158032.000000</td>\n",
              "            </tr>\n",
              "            <tr>\n",
              "                        <th id=\"T_07032d74_f3c3_11eb_882a_0242ac1c0002level0_row6\" class=\"row_heading level0 row6\" >172</th>\n",
              "                        <td id=\"T_07032d74_f3c3_11eb_882a_0242ac1c0002row6_col0\" class=\"data row6 col0\" >US</td>\n",
              "                        <td id=\"T_07032d74_f3c3_11eb_882a_0242ac1c0002row6_col1\" class=\"data row6 col1\" >154229.000000</td>\n",
              "            </tr>\n",
              "            <tr>\n",
              "                        <th id=\"T_07032d74_f3c3_11eb_882a_0242ac1c0002level0_row7\" class=\"row_heading level0 row7\" >59</th>\n",
              "                        <td id=\"T_07032d74_f3c3_11eb_882a_0242ac1c0002row7_col0\" class=\"data row7 col0\" >France</td>\n",
              "                        <td id=\"T_07032d74_f3c3_11eb_882a_0242ac1c0002row7_col1\" class=\"data row7 col1\" >110216.000000</td>\n",
              "            </tr>\n",
              "            <tr>\n",
              "                        <th id=\"T_07032d74_f3c3_11eb_882a_0242ac1c0002level0_row8\" class=\"row_heading level0 row8\" >160</th>\n",
              "                        <td id=\"T_07032d74_f3c3_11eb_882a_0242ac1c0002row8_col0\" class=\"data row8 col0\" >Switzerland</td>\n",
              "                        <td id=\"T_07032d74_f3c3_11eb_882a_0242ac1c0002row8_col1\" class=\"data row8 col1\" >45549.000000</td>\n",
              "            </tr>\n",
              "            <tr>\n",
              "                        <th id=\"T_07032d74_f3c3_11eb_882a_0242ac1c0002level0_row9\" class=\"row_heading level0 row9\" >176</th>\n",
              "                        <td id=\"T_07032d74_f3c3_11eb_882a_0242ac1c0002row9_col0\" class=\"data row9 col0\" >United Kingdom</td>\n",
              "                        <td id=\"T_07032d74_f3c3_11eb_882a_0242ac1c0002row9_col1\" class=\"data row9 col1\" >33175.000000</td>\n",
              "            </tr>\n",
              "            <tr>\n",
              "                        <th id=\"T_07032d74_f3c3_11eb_882a_0242ac1c0002level0_row10\" class=\"row_heading level0 row10\" >119</th>\n",
              "                        <td id=\"T_07032d74_f3c3_11eb_882a_0242ac1c0002row10_col0\" class=\"data row10 col0\" >Netherlands</td>\n",
              "                        <td id=\"T_07032d74_f3c3_11eb_882a_0242ac1c0002row10_col1\" class=\"data row10 col1\" >27213.000000</td>\n",
              "            </tr>\n",
              "            <tr>\n",
              "                        <th id=\"T_07032d74_f3c3_11eb_882a_0242ac1c0002level0_row11\" class=\"row_heading level0 row11\" >40</th>\n",
              "                        <td id=\"T_07032d74_f3c3_11eb_882a_0242ac1c0002row11_col0\" class=\"data row11 col0\" >Cruise Ship</td>\n",
              "                        <td id=\"T_07032d74_f3c3_11eb_882a_0242ac1c0002row11_col1\" class=\"data row11 col1\" >21520.000000</td>\n",
              "            </tr>\n",
              "            <tr>\n",
              "                        <th id=\"T_07032d74_f3c3_11eb_882a_0242ac1c0002level0_row12\" class=\"row_heading level0 row12\" >9</th>\n",
              "                        <td id=\"T_07032d74_f3c3_11eb_882a_0242ac1c0002row12_col0\" class=\"data row12 col0\" >Austria</td>\n",
              "                        <td id=\"T_07032d74_f3c3_11eb_882a_0242ac1c0002row12_col1\" class=\"data row12 col1\" >20800.000000</td>\n",
              "            </tr>\n",
              "            <tr>\n",
              "                        <th id=\"T_07032d74_f3c3_11eb_882a_0242ac1c0002level0_row13\" class=\"row_heading level0 row13\" >125</th>\n",
              "                        <td id=\"T_07032d74_f3c3_11eb_882a_0242ac1c0002row13_col0\" class=\"data row13 col0\" >Norway</td>\n",
              "                        <td id=\"T_07032d74_f3c3_11eb_882a_0242ac1c0002row13_col1\" class=\"data row13 col1\" >20707.000000</td>\n",
              "            </tr>\n",
              "            <tr>\n",
              "                        <th id=\"T_07032d74_f3c3_11eb_882a_0242ac1c0002level0_row14\" class=\"row_heading level0 row14\" >16</th>\n",
              "                        <td id=\"T_07032d74_f3c3_11eb_882a_0242ac1c0002row14_col0\" class=\"data row14 col0\" >Belgium</td>\n",
              "                        <td id=\"T_07032d74_f3c3_11eb_882a_0242ac1c0002row14_col1\" class=\"data row14 col1\" >20121.000000</td>\n",
              "            </tr>\n",
              "            <tr>\n",
              "                        <th id=\"T_07032d74_f3c3_11eb_882a_0242ac1c0002level0_row15\" class=\"row_heading level0 row15\" >159</th>\n",
              "                        <td id=\"T_07032d74_f3c3_11eb_882a_0242ac1c0002row15_col0\" class=\"data row15 col0\" >Sweden</td>\n",
              "                        <td id=\"T_07032d74_f3c3_11eb_882a_0242ac1c0002row15_col1\" class=\"data row15 col1\" >17268.000000</td>\n",
              "            </tr>\n",
              "            <tr>\n",
              "                        <th id=\"T_07032d74_f3c3_11eb_882a_0242ac1c0002level0_row16\" class=\"row_heading level0 row16\" >88</th>\n",
              "                        <td id=\"T_07032d74_f3c3_11eb_882a_0242ac1c0002row16_col0\" class=\"data row16 col0\" >Japan</td>\n",
              "                        <td id=\"T_07032d74_f3c3_11eb_882a_0242ac1c0002row16_col1\" class=\"data row16 col1\" >14217.000000</td>\n",
              "            </tr>\n",
              "            <tr>\n",
              "                        <th id=\"T_07032d74_f3c3_11eb_882a_0242ac1c0002level0_row17\" class=\"row_heading level0 row17\" >44</th>\n",
              "                        <td id=\"T_07032d74_f3c3_11eb_882a_0242ac1c0002row17_col0\" class=\"data row17 col0\" >Denmark</td>\n",
              "                        <td id=\"T_07032d74_f3c3_11eb_882a_0242ac1c0002row17_col1\" class=\"data row17 col1\" >14056.000000</td>\n",
              "            </tr>\n",
              "            <tr>\n",
              "                        <th id=\"T_07032d74_f3c3_11eb_882a_0242ac1c0002level0_row18\" class=\"row_heading level0 row18\" >103</th>\n",
              "                        <td id=\"T_07032d74_f3c3_11eb_882a_0242ac1c0002row18_col0\" class=\"data row18 col0\" >Malaysia</td>\n",
              "                        <td id=\"T_07032d74_f3c3_11eb_882a_0242ac1c0002row18_col1\" class=\"data row18 col1\" >8852.000000</td>\n",
              "            </tr>\n",
              "            <tr>\n",
              "                        <th id=\"T_07032d74_f3c3_11eb_882a_0242ac1c0002level0_row19\" class=\"row_heading level0 row19\" >28</th>\n",
              "                        <td id=\"T_07032d74_f3c3_11eb_882a_0242ac1c0002row19_col0\" class=\"data row19 col0\" >Canada</td>\n",
              "                        <td id=\"T_07032d74_f3c3_11eb_882a_0242ac1c0002row19_col1\" class=\"data row19 col1\" >8760.000000</td>\n",
              "            </tr>\n",
              "            <tr>\n",
              "                        <th id=\"T_07032d74_f3c3_11eb_882a_0242ac1c0002level0_row20\" class=\"row_heading level0 row20\" >134</th>\n",
              "                        <td id=\"T_07032d74_f3c3_11eb_882a_0242ac1c0002row20_col0\" class=\"data row20 col0\" >Portugal</td>\n",
              "                        <td id=\"T_07032d74_f3c3_11eb_882a_0242ac1c0002row20_col1\" class=\"data row20 col1\" >8218.000000</td>\n",
              "            </tr>\n",
              "            <tr>\n",
              "                        <th id=\"T_07032d74_f3c3_11eb_882a_0242ac1c0002level0_row21\" class=\"row_heading level0 row21\" >8</th>\n",
              "                        <td id=\"T_07032d74_f3c3_11eb_882a_0242ac1c0002row21_col0\" class=\"data row21 col0\" >Australia</td>\n",
              "                        <td id=\"T_07032d74_f3c3_11eb_882a_0242ac1c0002row21_col1\" class=\"data row21 col1\" >7809.000000</td>\n",
              "            </tr>\n",
              "            <tr>\n",
              "                        <th id=\"T_07032d74_f3c3_11eb_882a_0242ac1c0002level0_row22\" class=\"row_heading level0 row22\" >21</th>\n",
              "                        <td id=\"T_07032d74_f3c3_11eb_882a_0242ac1c0002row22_col0\" class=\"data row22 col0\" >Brazil</td>\n",
              "                        <td id=\"T_07032d74_f3c3_11eb_882a_0242ac1c0002row22_col1\" class=\"data row22 col1\" >7088.000000</td>\n",
              "            </tr>\n",
              "            <tr>\n",
              "                        <th id=\"T_07032d74_f3c3_11eb_882a_0242ac1c0002level0_row23\" class=\"row_heading level0 row23\" >43</th>\n",
              "                        <td id=\"T_07032d74_f3c3_11eb_882a_0242ac1c0002row23_col0\" class=\"data row23 col0\" >Czechia</td>\n",
              "                        <td id=\"T_07032d74_f3c3_11eb_882a_0242ac1c0002row23_col1\" class=\"data row23 col1\" >6823.000000</td>\n",
              "            </tr>\n",
              "            <tr>\n",
              "                        <th id=\"T_07032d74_f3c3_11eb_882a_0242ac1c0002level0_row24\" class=\"row_heading level0 row24\" >85</th>\n",
              "                        <td id=\"T_07032d74_f3c3_11eb_882a_0242ac1c0002row24_col0\" class=\"data row24 col0\" >Israel</td>\n",
              "                        <td id=\"T_07032d74_f3c3_11eb_882a_0242ac1c0002row24_col1\" class=\"data row24 col1\" >6446.000000</td>\n",
              "            </tr>\n",
              "            <tr>\n",
              "                        <th id=\"T_07032d74_f3c3_11eb_882a_0242ac1c0002level0_row25\" class=\"row_heading level0 row25\" >136</th>\n",
              "                        <td id=\"T_07032d74_f3c3_11eb_882a_0242ac1c0002row25_col0\" class=\"data row25 col0\" >Qatar</td>\n",
              "                        <td id=\"T_07032d74_f3c3_11eb_882a_0242ac1c0002row25_col1\" class=\"data row25 col1\" >5287.000000</td>\n",
              "            </tr>\n",
              "            <tr>\n",
              "                        <th id=\"T_07032d74_f3c3_11eb_882a_0242ac1c0002level0_row26\" class=\"row_heading level0 row26\" >84</th>\n",
              "                        <td id=\"T_07032d74_f3c3_11eb_882a_0242ac1c0002row26_col0\" class=\"data row26 col0\" >Ireland</td>\n",
              "                        <td id=\"T_07032d74_f3c3_11eb_882a_0242ac1c0002row26_col1\" class=\"data row26 col1\" >5017.000000</td>\n",
              "            </tr>\n",
              "            <tr>\n",
              "                        <th id=\"T_07032d74_f3c3_11eb_882a_0242ac1c0002level0_row27\" class=\"row_heading level0 row27\" >66</th>\n",
              "                        <td id=\"T_07032d74_f3c3_11eb_882a_0242ac1c0002row27_col0\" class=\"data row27 col0\" >Greece</td>\n",
              "                        <td id=\"T_07032d74_f3c3_11eb_882a_0242ac1c0002row27_col1\" class=\"data row27 col1\" >4970.000000</td>\n",
              "            </tr>\n",
              "            <tr>\n",
              "                        <th id=\"T_07032d74_f3c3_11eb_882a_0242ac1c0002level0_row28\" class=\"row_heading level0 row28\" >58</th>\n",
              "                        <td id=\"T_07032d74_f3c3_11eb_882a_0242ac1c0002row28_col0\" class=\"data row28 col0\" >Finland</td>\n",
              "                        <td id=\"T_07032d74_f3c3_11eb_882a_0242ac1c0002row28_col1\" class=\"data row28 col1\" >4372.000000</td>\n",
              "            </tr>\n",
              "            <tr>\n",
              "                        <th id=\"T_07032d74_f3c3_11eb_882a_0242ac1c0002level0_row29\" class=\"row_heading level0 row29\" >127</th>\n",
              "                        <td id=\"T_07032d74_f3c3_11eb_882a_0242ac1c0002row29_col0\" class=\"data row29 col0\" >Pakistan</td>\n",
              "                        <td id=\"T_07032d74_f3c3_11eb_882a_0242ac1c0002row29_col1\" class=\"data row29 col1\" >4046.000000</td>\n",
              "            </tr>\n",
              "            <tr>\n",
              "                        <th id=\"T_07032d74_f3c3_11eb_882a_0242ac1c0002level0_row30\" class=\"row_heading level0 row30\" >149</th>\n",
              "                        <td id=\"T_07032d74_f3c3_11eb_882a_0242ac1c0002row30_col0\" class=\"data row30 col0\" >Singapore</td>\n",
              "                        <td id=\"T_07032d74_f3c3_11eb_882a_0242ac1c0002row30_col1\" class=\"data row30 col1\" >4027.000000</td>\n",
              "            </tr>\n",
              "            <tr>\n",
              "                        <th id=\"T_07032d74_f3c3_11eb_882a_0242ac1c0002level0_row31\" class=\"row_heading level0 row31\" >79</th>\n",
              "                        <td id=\"T_07032d74_f3c3_11eb_882a_0242ac1c0002row31_col0\" class=\"data row31 col0\" >Iceland</td>\n",
              "                        <td id=\"T_07032d74_f3c3_11eb_882a_0242ac1c0002row31_col1\" class=\"data row31 col1\" >3866.000000</td>\n",
              "            </tr>\n",
              "            <tr>\n",
              "                        <th id=\"T_07032d74_f3c3_11eb_882a_0242ac1c0002level0_row32\" class=\"row_heading level0 row32\" >171</th>\n",
              "                        <td id=\"T_07032d74_f3c3_11eb_882a_0242ac1c0002row32_col0\" class=\"data row32 col0\" >Turkey</td>\n",
              "                        <td id=\"T_07032d74_f3c3_11eb_882a_0242ac1c0002row32_col1\" class=\"data row32 col1\" >3796.000000</td>\n",
              "            </tr>\n",
              "            <tr>\n",
              "                        <th id=\"T_07032d74_f3c3_11eb_882a_0242ac1c0002level0_row33\" class=\"row_heading level0 row33\" >101</th>\n",
              "                        <td id=\"T_07032d74_f3c3_11eb_882a_0242ac1c0002row33_col0\" class=\"data row33 col0\" >Luxembourg</td>\n",
              "                        <td id=\"T_07032d74_f3c3_11eb_882a_0242ac1c0002row33_col1\" class=\"data row33 col1\" >3646.000000</td>\n",
              "            </tr>\n",
              "            <tr>\n",
              "                        <th id=\"T_07032d74_f3c3_11eb_882a_0242ac1c0002level0_row34\" class=\"row_heading level0 row34\" >133</th>\n",
              "                        <td id=\"T_07032d74_f3c3_11eb_882a_0242ac1c0002row34_col0\" class=\"data row34 col0\" >Poland</td>\n",
              "                        <td id=\"T_07032d74_f3c3_11eb_882a_0242ac1c0002row34_col1\" class=\"data row34 col1\" >3585.000000</td>\n",
              "            </tr>\n",
              "            <tr>\n",
              "                        <th id=\"T_07032d74_f3c3_11eb_882a_0242ac1c0002level0_row35\" class=\"row_heading level0 row35\" >151</th>\n",
              "                        <td id=\"T_07032d74_f3c3_11eb_882a_0242ac1c0002row35_col0\" class=\"data row35 col0\" >Slovenia</td>\n",
              "                        <td id=\"T_07032d74_f3c3_11eb_882a_0242ac1c0002row35_col1\" class=\"data row35 col1\" >3395.000000</td>\n",
              "            </tr>\n",
              "            <tr>\n",
              "                        <th id=\"T_07032d74_f3c3_11eb_882a_0242ac1c0002level0_row36\" class=\"row_heading level0 row36\" >164</th>\n",
              "                        <td id=\"T_07032d74_f3c3_11eb_882a_0242ac1c0002row36_col0\" class=\"data row36 col0\" >Thailand</td>\n",
              "                        <td id=\"T_07032d74_f3c3_11eb_882a_0242ac1c0002row36_col1\" class=\"data row36 col1\" >3380.000000</td>\n",
              "            </tr>\n",
              "            <tr>\n",
              "                        <th id=\"T_07032d74_f3c3_11eb_882a_0242ac1c0002level0_row37\" class=\"row_heading level0 row37\" >32</th>\n",
              "                        <td id=\"T_07032d74_f3c3_11eb_882a_0242ac1c0002row37_col0\" class=\"data row37 col0\" >Chile</td>\n",
              "                        <td id=\"T_07032d74_f3c3_11eb_882a_0242ac1c0002row37_col1\" class=\"data row37 col1\" >3304.000000</td>\n",
              "            </tr>\n",
              "            <tr>\n",
              "                        <th id=\"T_07032d74_f3c3_11eb_882a_0242ac1c0002level0_row38\" class=\"row_heading level0 row38\" >49</th>\n",
              "                        <td id=\"T_07032d74_f3c3_11eb_882a_0242ac1c0002row38_col0\" class=\"data row38 col0\" >Ecuador</td>\n",
              "                        <td id=\"T_07032d74_f3c3_11eb_882a_0242ac1c0002row38_col1\" class=\"data row38 col1\" >3013.000000</td>\n",
              "            </tr>\n",
              "            <tr>\n",
              "                        <th id=\"T_07032d74_f3c3_11eb_882a_0242ac1c0002level0_row39\" class=\"row_heading level0 row39\" >12</th>\n",
              "                        <td id=\"T_07032d74_f3c3_11eb_882a_0242ac1c0002row39_col0\" class=\"data row39 col0\" >Bahrain</td>\n",
              "                        <td id=\"T_07032d74_f3c3_11eb_882a_0242ac1c0002row39_col1\" class=\"data row39 col1\" >2942.000000</td>\n",
              "            </tr>\n",
              "            <tr>\n",
              "                        <th id=\"T_07032d74_f3c3_11eb_882a_0242ac1c0002level0_row40\" class=\"row_heading level0 row40\" >145</th>\n",
              "                        <td id=\"T_07032d74_f3c3_11eb_882a_0242ac1c0002row40_col0\" class=\"data row40 col0\" >Saudi Arabia</td>\n",
              "                        <td id=\"T_07032d74_f3c3_11eb_882a_0242ac1c0002row40_col1\" class=\"data row40 col1\" >2832.000000</td>\n",
              "            </tr>\n",
              "            <tr>\n",
              "                        <th id=\"T_07032d74_f3c3_11eb_882a_0242ac1c0002level0_row41\" class=\"row_heading level0 row41\" >81</th>\n",
              "                        <td id=\"T_07032d74_f3c3_11eb_882a_0242ac1c0002row41_col0\" class=\"data row41 col0\" >Indonesia</td>\n",
              "                        <td id=\"T_07032d74_f3c3_11eb_882a_0242ac1c0002row41_col1\" class=\"data row41 col1\" >2723.000000</td>\n",
              "            </tr>\n",
              "            <tr>\n",
              "                        <th id=\"T_07032d74_f3c3_11eb_882a_0242ac1c0002level0_row42\" class=\"row_heading level0 row42\" >54</th>\n",
              "                        <td id=\"T_07032d74_f3c3_11eb_882a_0242ac1c0002row42_col0\" class=\"data row42 col0\" >Estonia</td>\n",
              "                        <td id=\"T_07032d74_f3c3_11eb_882a_0242ac1c0002row42_col1\" class=\"data row42 col1\" >2646.000000</td>\n",
              "            </tr>\n",
              "            <tr>\n",
              "                        <th id=\"T_07032d74_f3c3_11eb_882a_0242ac1c0002level0_row43\" class=\"row_heading level0 row43\" >139</th>\n",
              "                        <td id=\"T_07032d74_f3c3_11eb_882a_0242ac1c0002row43_col0\" class=\"data row43 col0\" >Romania</td>\n",
              "                        <td id=\"T_07032d74_f3c3_11eb_882a_0242ac1c0002row43_col1\" class=\"data row43 col1\" >2625.000000</td>\n",
              "            </tr>\n",
              "            <tr>\n",
              "                        <th id=\"T_07032d74_f3c3_11eb_882a_0242ac1c0002level0_row44\" class=\"row_heading level0 row44\" >80</th>\n",
              "                        <td id=\"T_07032d74_f3c3_11eb_882a_0242ac1c0002row44_col0\" class=\"data row44 col0\" >India</td>\n",
              "                        <td id=\"T_07032d74_f3c3_11eb_882a_0242ac1c0002row44_col1\" class=\"data row44 col1\" >2471.000000</td>\n",
              "            </tr>\n",
              "            <tr>\n",
              "                        <th id=\"T_07032d74_f3c3_11eb_882a_0242ac1c0002level0_row45\" class=\"row_heading level0 row45\" >132</th>\n",
              "                        <td id=\"T_07032d74_f3c3_11eb_882a_0242ac1c0002row45_col0\" class=\"data row45 col0\" >Philippines</td>\n",
              "                        <td id=\"T_07032d74_f3c3_11eb_882a_0242ac1c0002row45_col1\" class=\"data row45 col1\" >2306.000000</td>\n",
              "            </tr>\n",
              "            <tr>\n",
              "                        <th id=\"T_07032d74_f3c3_11eb_882a_0242ac1c0002level0_row46\" class=\"row_heading level0 row46\" >94</th>\n",
              "                        <td id=\"T_07032d74_f3c3_11eb_882a_0242ac1c0002row46_col0\" class=\"data row46 col0\" >Kuwait</td>\n",
              "                        <td id=\"T_07032d74_f3c3_11eb_882a_0242ac1c0002row46_col1\" class=\"data row46 col1\" >2285.000000</td>\n",
              "            </tr>\n",
              "            <tr>\n",
              "                        <th id=\"T_07032d74_f3c3_11eb_882a_0242ac1c0002level0_row47\" class=\"row_heading level0 row47\" >50</th>\n",
              "                        <td id=\"T_07032d74_f3c3_11eb_882a_0242ac1c0002row47_col0\" class=\"data row47 col0\" >Egypt</td>\n",
              "                        <td id=\"T_07032d74_f3c3_11eb_882a_0242ac1c0002row47_col1\" class=\"data row47 col1\" >2146.000000</td>\n",
              "            </tr>\n",
              "            <tr>\n",
              "                        <th id=\"T_07032d74_f3c3_11eb_882a_0242ac1c0002level0_row48\" class=\"row_heading level0 row48\" >140</th>\n",
              "                        <td id=\"T_07032d74_f3c3_11eb_882a_0242ac1c0002row48_col0\" class=\"data row48 col0\" >Russia</td>\n",
              "                        <td id=\"T_07032d74_f3c3_11eb_882a_0242ac1c0002row48_col1\" class=\"data row48 col1\" >2040.000000</td>\n",
              "            </tr>\n",
              "            <tr>\n",
              "                        <th id=\"T_07032d74_f3c3_11eb_882a_0242ac1c0002level0_row49\" class=\"row_heading level0 row49\" >131</th>\n",
              "                        <td id=\"T_07032d74_f3c3_11eb_882a_0242ac1c0002row49_col0\" class=\"data row49 col0\" >Peru</td>\n",
              "                        <td id=\"T_07032d74_f3c3_11eb_882a_0242ac1c0002row49_col1\" class=\"data row49 col1\" >1996.000000</td>\n",
              "            </tr>\n",
              "            <tr>\n",
              "                        <th id=\"T_07032d74_f3c3_11eb_882a_0242ac1c0002level0_row50\" class=\"row_heading level0 row50\" >97</th>\n",
              "                        <td id=\"T_07032d74_f3c3_11eb_882a_0242ac1c0002row50_col0\" class=\"data row50 col0\" >Lebanon</td>\n",
              "                        <td id=\"T_07032d74_f3c3_11eb_882a_0242ac1c0002row50_col1\" class=\"data row50 col1\" >1894.000000</td>\n",
              "            </tr>\n",
              "            <tr>\n",
              "                        <th id=\"T_07032d74_f3c3_11eb_882a_0242ac1c0002level0_row51\" class=\"row_heading level0 row51\" >162</th>\n",
              "                        <td id=\"T_07032d74_f3c3_11eb_882a_0242ac1c0002row51_col0\" class=\"data row51 col0\" >Taiwan*</td>\n",
              "                        <td id=\"T_07032d74_f3c3_11eb_882a_0242ac1c0002row51_col1\" class=\"data row51 col1\" >1814.000000</td>\n",
              "            </tr>\n",
              "            <tr>\n",
              "                        <th id=\"T_07032d74_f3c3_11eb_882a_0242ac1c0002level0_row52\" class=\"row_heading level0 row52\" >83</th>\n",
              "                        <td id=\"T_07032d74_f3c3_11eb_882a_0242ac1c0002row52_col0\" class=\"data row52 col0\" >Iraq</td>\n",
              "                        <td id=\"T_07032d74_f3c3_11eb_882a_0242ac1c0002row52_col1\" class=\"data row52 col1\" >1793.000000</td>\n",
              "            </tr>\n",
              "            <tr>\n",
              "                        <th id=\"T_07032d74_f3c3_11eb_882a_0242ac1c0002level0_row53\" class=\"row_heading level0 row53\" >175</th>\n",
              "                        <td id=\"T_07032d74_f3c3_11eb_882a_0242ac1c0002row53_col0\" class=\"data row53 col0\" >United Arab Emirates</td>\n",
              "                        <td id=\"T_07032d74_f3c3_11eb_882a_0242ac1c0002row53_col1\" class=\"data row53 col1\" >1644.000000</td>\n",
              "            </tr>\n",
              "            <tr>\n",
              "                        <th id=\"T_07032d74_f3c3_11eb_882a_0242ac1c0002level0_row54\" class=\"row_heading level0 row54\" >153</th>\n",
              "                        <td id=\"T_07032d74_f3c3_11eb_882a_0242ac1c0002row54_col0\" class=\"data row54 col0\" >South Africa</td>\n",
              "                        <td id=\"T_07032d74_f3c3_11eb_882a_0242ac1c0002row54_col1\" class=\"data row54 col1\" >1539.000000</td>\n",
              "            </tr>\n",
              "            <tr>\n",
              "                        <th id=\"T_07032d74_f3c3_11eb_882a_0242ac1c0002level0_row55\" class=\"row_heading level0 row55\" >144</th>\n",
              "                        <td id=\"T_07032d74_f3c3_11eb_882a_0242ac1c0002row55_col0\" class=\"data row55 col0\" >San Marino</td>\n",
              "                        <td id=\"T_07032d74_f3c3_11eb_882a_0242ac1c0002row55_col1\" class=\"data row55 col1\" >1503.000000</td>\n",
              "            </tr>\n",
              "            <tr>\n",
              "                        <th id=\"T_07032d74_f3c3_11eb_882a_0242ac1c0002level0_row56\" class=\"row_heading level0 row56\" >39</th>\n",
              "                        <td id=\"T_07032d74_f3c3_11eb_882a_0242ac1c0002row56_col0\" class=\"data row56 col0\" >Croatia</td>\n",
              "                        <td id=\"T_07032d74_f3c3_11eb_882a_0242ac1c0002row56_col1\" class=\"data row56 col1\" >1386.000000</td>\n",
              "            </tr>\n",
              "            <tr>\n",
              "                        <th id=\"T_07032d74_f3c3_11eb_882a_0242ac1c0002level0_row57\" class=\"row_heading level0 row57\" >110</th>\n",
              "                        <td id=\"T_07032d74_f3c3_11eb_882a_0242ac1c0002row57_col0\" class=\"data row57 col0\" >Mexico</td>\n",
              "                        <td id=\"T_07032d74_f3c3_11eb_882a_0242ac1c0002row57_col1\" class=\"data row57 col1\" >1306.000000</td>\n",
              "            </tr>\n",
              "            <tr>\n",
              "                        <th id=\"T_07032d74_f3c3_11eb_882a_0242ac1c0002level0_row58\" class=\"row_heading level0 row58\" >128</th>\n",
              "                        <td id=\"T_07032d74_f3c3_11eb_882a_0242ac1c0002row58_col0\" class=\"data row58 col0\" >Panama</td>\n",
              "                        <td id=\"T_07032d74_f3c3_11eb_882a_0242ac1c0002row58_col1\" class=\"data row58 col1\" >1255.000000</td>\n",
              "            </tr>\n",
              "            <tr>\n",
              "                        <th id=\"T_07032d74_f3c3_11eb_882a_0242ac1c0002level0_row59\" class=\"row_heading level0 row59\" >147</th>\n",
              "                        <td id=\"T_07032d74_f3c3_11eb_882a_0242ac1c0002row59_col0\" class=\"data row59 col0\" >Serbia</td>\n",
              "                        <td id=\"T_07032d74_f3c3_11eb_882a_0242ac1c0002row59_col1\" class=\"data row59 col1\" >1211.000000</td>\n",
              "            </tr>\n",
              "            <tr>\n",
              "                        <th id=\"T_07032d74_f3c3_11eb_882a_0242ac1c0002level0_row60\" class=\"row_heading level0 row60\" >150</th>\n",
              "                        <td id=\"T_07032d74_f3c3_11eb_882a_0242ac1c0002row60_col0\" class=\"data row60 col0\" >Slovakia</td>\n",
              "                        <td id=\"T_07032d74_f3c3_11eb_882a_0242ac1c0002row60_col1\" class=\"data row60 col1\" >1199.000000</td>\n",
              "            </tr>\n",
              "            <tr>\n",
              "                        <th id=\"T_07032d74_f3c3_11eb_882a_0242ac1c0002level0_row61\" class=\"row_heading level0 row61\" >6</th>\n",
              "                        <td id=\"T_07032d74_f3c3_11eb_882a_0242ac1c0002row61_col0\" class=\"data row61 col0\" >Argentina</td>\n",
              "                        <td id=\"T_07032d74_f3c3_11eb_882a_0242ac1c0002row61_col1\" class=\"data row61 col1\" >1179.000000</td>\n",
              "            </tr>\n",
              "            <tr>\n",
              "                        <th id=\"T_07032d74_f3c3_11eb_882a_0242ac1c0002level0_row62\" class=\"row_heading level0 row62\" >34</th>\n",
              "                        <td id=\"T_07032d74_f3c3_11eb_882a_0242ac1c0002row62_col0\" class=\"data row62 col0\" >Colombia</td>\n",
              "                        <td id=\"T_07032d74_f3c3_11eb_882a_0242ac1c0002row62_col1\" class=\"data row62 col1\" >1179.000000</td>\n",
              "            </tr>\n",
              "            <tr>\n",
              "                        <th id=\"T_07032d74_f3c3_11eb_882a_0242ac1c0002level0_row63\" class=\"row_heading level0 row63\" >23</th>\n",
              "                        <td id=\"T_07032d74_f3c3_11eb_882a_0242ac1c0002row63_col0\" class=\"data row63 col0\" >Bulgaria</td>\n",
              "                        <td id=\"T_07032d74_f3c3_11eb_882a_0242ac1c0002row63_col1\" class=\"data row63 col1\" >1073.000000</td>\n",
              "            </tr>\n",
              "            <tr>\n",
              "                        <th id=\"T_07032d74_f3c3_11eb_882a_0242ac1c0002level0_row64\" class=\"row_heading level0 row64\" >7</th>\n",
              "                        <td id=\"T_07032d74_f3c3_11eb_882a_0242ac1c0002row64_col0\" class=\"data row64 col0\" >Armenia</td>\n",
              "                        <td id=\"T_07032d74_f3c3_11eb_882a_0242ac1c0002row64_col1\" class=\"data row64 col1\" >1071.000000</td>\n",
              "            </tr>\n",
              "            <tr>\n",
              "                        <th id=\"T_07032d74_f3c3_11eb_882a_0242ac1c0002level0_row65\" class=\"row_heading level0 row65\" >180</th>\n",
              "                        <td id=\"T_07032d74_f3c3_11eb_882a_0242ac1c0002row65_col0\" class=\"data row65 col0\" >Vietnam</td>\n",
              "                        <td id=\"T_07032d74_f3c3_11eb_882a_0242ac1c0002row65_col1\" class=\"data row65 col1\" >967.000000</td>\n",
              "            </tr>\n",
              "            <tr>\n",
              "                        <th id=\"T_07032d74_f3c3_11eb_882a_0242ac1c0002level0_row66\" class=\"row_heading level0 row66\" >96</th>\n",
              "                        <td id=\"T_07032d74_f3c3_11eb_882a_0242ac1c0002row66_col0\" class=\"data row66 col0\" >Latvia</td>\n",
              "                        <td id=\"T_07032d74_f3c3_11eb_882a_0242ac1c0002row66_col1\" class=\"data row66 col1\" >854.000000</td>\n",
              "            </tr>\n",
              "            <tr>\n",
              "                        <th id=\"T_07032d74_f3c3_11eb_882a_0242ac1c0002level0_row67\" class=\"row_heading level0 row67\" >2</th>\n",
              "                        <td id=\"T_07032d74_f3c3_11eb_882a_0242ac1c0002row67_col0\" class=\"data row67 col0\" >Algeria</td>\n",
              "                        <td id=\"T_07032d74_f3c3_11eb_882a_0242ac1c0002row67_col1\" class=\"data row67 col1\" >796.000000</td>\n",
              "            </tr>\n",
              "            <tr>\n",
              "                        <th id=\"T_07032d74_f3c3_11eb_882a_0242ac1c0002level0_row68\" class=\"row_heading level0 row68\" >37</th>\n",
              "                        <td id=\"T_07032d74_f3c3_11eb_882a_0242ac1c0002row68_col0\" class=\"data row68 col0\" >Costa Rica</td>\n",
              "                        <td id=\"T_07032d74_f3c3_11eb_882a_0242ac1c0002row68_col1\" class=\"data row68 col1\" >791.000000</td>\n",
              "            </tr>\n",
              "            <tr>\n",
              "                        <th id=\"T_07032d74_f3c3_11eb_882a_0242ac1c0002level0_row69\" class=\"row_heading level0 row69\" >78</th>\n",
              "                        <td id=\"T_07032d74_f3c3_11eb_882a_0242ac1c0002row69_col0\" class=\"data row69 col0\" >Hungary</td>\n",
              "                        <td id=\"T_07032d74_f3c3_11eb_882a_0242ac1c0002row69_col1\" class=\"data row69 col1\" >738.000000</td>\n",
              "            </tr>\n",
              "            <tr>\n",
              "                        <th id=\"T_07032d74_f3c3_11eb_882a_0242ac1c0002level0_row70\" class=\"row_heading level0 row70\" >22</th>\n",
              "                        <td id=\"T_07032d74_f3c3_11eb_882a_0242ac1c0002row70_col0\" class=\"data row70 col0\" >Brunei</td>\n",
              "                        <td id=\"T_07032d74_f3c3_11eb_882a_0242ac1c0002row70_col1\" class=\"data row70 col1\" >734.000000</td>\n",
              "            </tr>\n",
              "            <tr>\n",
              "                        <th id=\"T_07032d74_f3c3_11eb_882a_0242ac1c0002level0_row71\" class=\"row_heading level0 row71\" >47</th>\n",
              "                        <td id=\"T_07032d74_f3c3_11eb_882a_0242ac1c0002row71_col0\" class=\"data row71 col0\" >Dominican Republic</td>\n",
              "                        <td id=\"T_07032d74_f3c3_11eb_882a_0242ac1c0002row71_col1\" class=\"data row71 col1\" >722.000000</td>\n",
              "            </tr>\n",
              "            <tr>\n",
              "                        <th id=\"T_07032d74_f3c3_11eb_882a_0242ac1c0002level0_row72\" class=\"row_heading level0 row72\" >1</th>\n",
              "                        <td id=\"T_07032d74_f3c3_11eb_882a_0242ac1c0002row72_col0\" class=\"data row72 col0\" >Albania</td>\n",
              "                        <td id=\"T_07032d74_f3c3_11eb_882a_0242ac1c0002row72_col1\" class=\"data row72 col1\" >688.000000</td>\n",
              "            </tr>\n",
              "            <tr>\n",
              "                        <th id=\"T_07032d74_f3c3_11eb_882a_0242ac1c0002level0_row73\" class=\"row_heading level0 row73\" >20</th>\n",
              "                        <td id=\"T_07032d74_f3c3_11eb_882a_0242ac1c0002row73_col0\" class=\"data row73 col0\" >Bosnia and Herzegovina</td>\n",
              "                        <td id=\"T_07032d74_f3c3_11eb_882a_0242ac1c0002row73_col1\" class=\"data row73 col1\" >660.000000</td>\n",
              "            </tr>\n",
              "            <tr>\n",
              "                        <th id=\"T_07032d74_f3c3_11eb_882a_0242ac1c0002level0_row74\" class=\"row_heading level0 row74\" >177</th>\n",
              "                        <td id=\"T_07032d74_f3c3_11eb_882a_0242ac1c0002row74_col0\" class=\"data row74 col0\" >Uruguay</td>\n",
              "                        <td id=\"T_07032d74_f3c3_11eb_882a_0242ac1c0002row74_col1\" class=\"data row74 col1\" >648.000000</td>\n",
              "            </tr>\n",
              "            <tr>\n",
              "                        <th id=\"T_07032d74_f3c3_11eb_882a_0242ac1c0002level0_row75\" class=\"row_heading level0 row75\" >115</th>\n",
              "                        <td id=\"T_07032d74_f3c3_11eb_882a_0242ac1c0002row75_col0\" class=\"data row75 col0\" >Morocco</td>\n",
              "                        <td id=\"T_07032d74_f3c3_11eb_882a_0242ac1c0002row75_col1\" class=\"data row75 col1\" >617.000000</td>\n",
              "            </tr>\n",
              "            <tr>\n",
              "                        <th id=\"T_07032d74_f3c3_11eb_882a_0242ac1c0002level0_row76\" class=\"row_heading level0 row76\" >42</th>\n",
              "                        <td id=\"T_07032d74_f3c3_11eb_882a_0242ac1c0002row76_col0\" class=\"data row76 col0\" >Cyprus</td>\n",
              "                        <td id=\"T_07032d74_f3c3_11eb_882a_0242ac1c0002row76_col1\" class=\"data row76 col1\" >611.000000</td>\n",
              "            </tr>\n",
              "            <tr>\n",
              "                        <th id=\"T_07032d74_f3c3_11eb_882a_0242ac1c0002level0_row77\" class=\"row_heading level0 row77\" >124</th>\n",
              "                        <td id=\"T_07032d74_f3c3_11eb_882a_0242ac1c0002row77_col0\" class=\"data row77 col0\" >North Macedonia</td>\n",
              "                        <td id=\"T_07032d74_f3c3_11eb_882a_0242ac1c0002row77_col1\" class=\"data row77 col1\" >578.000000</td>\n",
              "            </tr>\n",
              "            <tr>\n",
              "                        <th id=\"T_07032d74_f3c3_11eb_882a_0242ac1c0002level0_row78\" class=\"row_heading level0 row78\" >90</th>\n",
              "                        <td id=\"T_07032d74_f3c3_11eb_882a_0242ac1c0002row78_col0\" class=\"data row78 col0\" >Jordan</td>\n",
              "                        <td id=\"T_07032d74_f3c3_11eb_882a_0242ac1c0002row78_col1\" class=\"data row78 col1\" >575.000000</td>\n",
              "            </tr>\n",
              "            <tr>\n",
              "                        <th id=\"T_07032d74_f3c3_11eb_882a_0242ac1c0002level0_row79\" class=\"row_heading level0 row79\" >63</th>\n",
              "                        <td id=\"T_07032d74_f3c3_11eb_882a_0242ac1c0002row79_col0\" class=\"data row79 col0\" >Georgia</td>\n",
              "                        <td id=\"T_07032d74_f3c3_11eb_882a_0242ac1c0002row79_col1\" class=\"data row79 col1\" >540.000000</td>\n",
              "            </tr>\n",
              "            <tr>\n",
              "                        <th id=\"T_07032d74_f3c3_11eb_882a_0242ac1c0002level0_row80\" class=\"row_heading level0 row80\" >15</th>\n",
              "                        <td id=\"T_07032d74_f3c3_11eb_882a_0242ac1c0002row80_col0\" class=\"data row80 col0\" >Belarus</td>\n",
              "                        <td id=\"T_07032d74_f3c3_11eb_882a_0242ac1c0002row80_col1\" class=\"data row80 col1\" >538.000000</td>\n",
              "            </tr>\n",
              "            <tr>\n",
              "                        <th id=\"T_07032d74_f3c3_11eb_882a_0242ac1c0002level0_row81\" class=\"row_heading level0 row81\" >105</th>\n",
              "                        <td id=\"T_07032d74_f3c3_11eb_882a_0242ac1c0002row81_col0\" class=\"data row81 col0\" >Malta</td>\n",
              "                        <td id=\"T_07032d74_f3c3_11eb_882a_0242ac1c0002row81_col1\" class=\"data row81 col1\" >534.000000</td>\n",
              "            </tr>\n",
              "            <tr>\n",
              "                        <th id=\"T_07032d74_f3c3_11eb_882a_0242ac1c0002level0_row82\" class=\"row_heading level0 row82\" >100</th>\n",
              "                        <td id=\"T_07032d74_f3c3_11eb_882a_0242ac1c0002row82_col0\" class=\"data row82 col0\" >Lithuania</td>\n",
              "                        <td id=\"T_07032d74_f3c3_11eb_882a_0242ac1c0002row82_col1\" class=\"data row82 col1\" >531.000000</td>\n",
              "            </tr>\n",
              "            <tr>\n",
              "                        <th id=\"T_07032d74_f3c3_11eb_882a_0242ac1c0002level0_row83\" class=\"row_heading level0 row83\" >156</th>\n",
              "                        <td id=\"T_07032d74_f3c3_11eb_882a_0242ac1c0002row83_col0\" class=\"data row83 col0\" >Sri Lanka</td>\n",
              "                        <td id=\"T_07032d74_f3c3_11eb_882a_0242ac1c0002row83_col1\" class=\"data row83 col1\" >526.000000</td>\n",
              "            </tr>\n",
              "            <tr>\n",
              "                        <th id=\"T_07032d74_f3c3_11eb_882a_0242ac1c0002level0_row84\" class=\"row_heading level0 row84\" >3</th>\n",
              "                        <td id=\"T_07032d74_f3c3_11eb_882a_0242ac1c0002row84_col0\" class=\"data row84 col0\" >Andorra</td>\n",
              "                        <td id=\"T_07032d74_f3c3_11eb_882a_0242ac1c0002row84_col1\" class=\"data row84 col1\" >523.000000</td>\n",
              "            </tr>\n",
              "            <tr>\n",
              "                        <th id=\"T_07032d74_f3c3_11eb_882a_0242ac1c0002level0_row85\" class=\"row_heading level0 row85\" >111</th>\n",
              "                        <td id=\"T_07032d74_f3c3_11eb_882a_0242ac1c0002row85_col0\" class=\"data row85 col0\" >Moldova</td>\n",
              "                        <td id=\"T_07032d74_f3c3_11eb_882a_0242ac1c0002row85_col1\" class=\"data row85 col1\" >505.000000</td>\n",
              "            </tr>\n",
              "            <tr>\n",
              "                        <th id=\"T_07032d74_f3c3_11eb_882a_0242ac1c0002level0_row86\" class=\"row_heading level0 row86\" >170</th>\n",
              "                        <td id=\"T_07032d74_f3c3_11eb_882a_0242ac1c0002row86_col0\" class=\"data row86 col0\" >Tunisia</td>\n",
              "                        <td id=\"T_07032d74_f3c3_11eb_882a_0242ac1c0002row86_col1\" class=\"data row86 col1\" >444.000000</td>\n",
              "            </tr>\n",
              "            <tr>\n",
              "                        <th id=\"T_07032d74_f3c3_11eb_882a_0242ac1c0002level0_row87\" class=\"row_heading level0 row87\" >126</th>\n",
              "                        <td id=\"T_07032d74_f3c3_11eb_882a_0242ac1c0002row87_col0\" class=\"data row87 col0\" >Oman</td>\n",
              "                        <td id=\"T_07032d74_f3c3_11eb_882a_0242ac1c0002row87_col1\" class=\"data row87 col1\" >427.000000</td>\n",
              "            </tr>\n",
              "            <tr>\n",
              "                        <th id=\"T_07032d74_f3c3_11eb_882a_0242ac1c0002level0_row88\" class=\"row_heading level0 row88\" >26</th>\n",
              "                        <td id=\"T_07032d74_f3c3_11eb_882a_0242ac1c0002row88_col0\" class=\"data row88 col0\" >Cambodia</td>\n",
              "                        <td id=\"T_07032d74_f3c3_11eb_882a_0242ac1c0002row88_col1\" class=\"data row88 col1\" >415.000000</td>\n",
              "            </tr>\n",
              "            <tr>\n",
              "                        <th id=\"T_07032d74_f3c3_11eb_882a_0242ac1c0002level0_row89\" class=\"row_heading level0 row89\" >10</th>\n",
              "                        <td id=\"T_07032d74_f3c3_11eb_882a_0242ac1c0002row89_col0\" class=\"data row89 col0\" >Azerbaijan</td>\n",
              "                        <td id=\"T_07032d74_f3c3_11eb_882a_0242ac1c0002row89_col1\" class=\"data row89 col1\" >389.000000</td>\n",
              "            </tr>\n",
              "            <tr>\n",
              "                        <th id=\"T_07032d74_f3c3_11eb_882a_0242ac1c0002level0_row90\" class=\"row_heading level0 row90\" >146</th>\n",
              "                        <td id=\"T_07032d74_f3c3_11eb_882a_0242ac1c0002row90_col0\" class=\"data row90 col0\" >Senegal</td>\n",
              "                        <td id=\"T_07032d74_f3c3_11eb_882a_0242ac1c0002row90_col1\" class=\"data row90 col1\" >381.000000</td>\n",
              "            </tr>\n",
              "            <tr>\n",
              "                        <th id=\"T_07032d74_f3c3_11eb_882a_0242ac1c0002level0_row91\" class=\"row_heading level0 row91\" >179</th>\n",
              "                        <td id=\"T_07032d74_f3c3_11eb_882a_0242ac1c0002row91_col0\" class=\"data row91 col0\" >Venezuela</td>\n",
              "                        <td id=\"T_07032d74_f3c3_11eb_882a_0242ac1c0002row91_col1\" class=\"data row91 col1\" >362.000000</td>\n",
              "            </tr>\n",
              "            <tr>\n",
              "                        <th id=\"T_07032d74_f3c3_11eb_882a_0242ac1c0002level0_row92\" class=\"row_heading level0 row92\" >91</th>\n",
              "                        <td id=\"T_07032d74_f3c3_11eb_882a_0242ac1c0002row92_col0\" class=\"data row92 col0\" >Kazakhstan</td>\n",
              "                        <td id=\"T_07032d74_f3c3_11eb_882a_0242ac1c0002row92_col1\" class=\"data row92 col1\" >360.000000</td>\n",
              "            </tr>\n",
              "            <tr>\n",
              "                        <th id=\"T_07032d74_f3c3_11eb_882a_0242ac1c0002level0_row93\" class=\"row_heading level0 row93\" >120</th>\n",
              "                        <td id=\"T_07032d74_f3c3_11eb_882a_0242ac1c0002row93_col0\" class=\"data row93 col0\" >New Zealand</td>\n",
              "                        <td id=\"T_07032d74_f3c3_11eb_882a_0242ac1c0002row93_col1\" class=\"data row93 col1\" >355.000000</td>\n",
              "            </tr>\n",
              "            <tr>\n",
              "                        <th id=\"T_07032d74_f3c3_11eb_882a_0242ac1c0002level0_row94\" class=\"row_heading level0 row94\" >24</th>\n",
              "                        <td id=\"T_07032d74_f3c3_11eb_882a_0242ac1c0002row94_col0\" class=\"data row94 col0\" >Burkina Faso</td>\n",
              "                        <td id=\"T_07032d74_f3c3_11eb_882a_0242ac1c0002row94_col1\" class=\"data row94 col1\" >321.000000</td>\n",
              "            </tr>\n",
              "            <tr>\n",
              "                        <th id=\"T_07032d74_f3c3_11eb_882a_0242ac1c0002level0_row95\" class=\"row_heading level0 row95\" >0</th>\n",
              "                        <td id=\"T_07032d74_f3c3_11eb_882a_0242ac1c0002row95_col0\" class=\"data row95 col0\" >Afghanistan</td>\n",
              "                        <td id=\"T_07032d74_f3c3_11eb_882a_0242ac1c0002row95_col1\" class=\"data row95 col1\" >279.000000</td>\n",
              "            </tr>\n",
              "            <tr>\n",
              "                        <th id=\"T_07032d74_f3c3_11eb_882a_0242ac1c0002level0_row96\" class=\"row_heading level0 row96\" >174</th>\n",
              "                        <td id=\"T_07032d74_f3c3_11eb_882a_0242ac1c0002row96_col0\" class=\"data row96 col0\" >Ukraine</td>\n",
              "                        <td id=\"T_07032d74_f3c3_11eb_882a_0242ac1c0002row96_col1\" class=\"data row96 col1\" >267.000000</td>\n",
              "            </tr>\n",
              "            <tr>\n",
              "                        <th id=\"T_07032d74_f3c3_11eb_882a_0242ac1c0002level0_row97\" class=\"row_heading level0 row97\" >106</th>\n",
              "                        <td id=\"T_07032d74_f3c3_11eb_882a_0242ac1c0002row97_col0\" class=\"data row97 col0\" >Martinique</td>\n",
              "                        <td id=\"T_07032d74_f3c3_11eb_882a_0242ac1c0002row97_col1\" class=\"data row97 col1\" >238.000000</td>\n",
              "            </tr>\n",
              "            <tr>\n",
              "                        <th id=\"T_07032d74_f3c3_11eb_882a_0242ac1c0002level0_row98\" class=\"row_heading level0 row98\" >99</th>\n",
              "                        <td id=\"T_07032d74_f3c3_11eb_882a_0242ac1c0002row98_col0\" class=\"data row98 col0\" >Liechtenstein</td>\n",
              "                        <td id=\"T_07032d74_f3c3_11eb_882a_0242ac1c0002row98_col1\" class=\"data row98 col1\" >224.000000</td>\n",
              "            </tr>\n",
              "            <tr>\n",
              "                        <th id=\"T_07032d74_f3c3_11eb_882a_0242ac1c0002level0_row99\" class=\"row_heading level0 row99\" >178</th>\n",
              "                        <td id=\"T_07032d74_f3c3_11eb_882a_0242ac1c0002row99_col0\" class=\"data row99 col0\" >Uzbekistan</td>\n",
              "                        <td id=\"T_07032d74_f3c3_11eb_882a_0242ac1c0002row99_col1\" class=\"data row99 col1\" >217.000000</td>\n",
              "            </tr>\n",
              "            <tr>\n",
              "                        <th id=\"T_07032d74_f3c3_11eb_882a_0242ac1c0002level0_row100\" class=\"row_heading level0 row100\" >169</th>\n",
              "                        <td id=\"T_07032d74_f3c3_11eb_882a_0242ac1c0002row100_col0\" class=\"data row100 col0\" >Trinidad and Tobago</td>\n",
              "                        <td id=\"T_07032d74_f3c3_11eb_882a_0242ac1c0002row100_col1\" class=\"data row100 col1\" >184.000000</td>\n",
              "            </tr>\n",
              "            <tr>\n",
              "                        <th id=\"T_07032d74_f3c3_11eb_882a_0242ac1c0002level0_row101\" class=\"row_heading level0 row101\" >27</th>\n",
              "                        <td id=\"T_07032d74_f3c3_11eb_882a_0242ac1c0002row101_col0\" class=\"data row101 col0\" >Cameroon</td>\n",
              "                        <td id=\"T_07032d74_f3c3_11eb_882a_0242ac1c0002row101_col1\" class=\"data row101 col1\" >182.000000</td>\n",
              "            </tr>\n",
              "            <tr>\n",
              "                        <th id=\"T_07032d74_f3c3_11eb_882a_0242ac1c0002level0_row102\" class=\"row_heading level0 row102\" >104</th>\n",
              "                        <td id=\"T_07032d74_f3c3_11eb_882a_0242ac1c0002row102_col0\" class=\"data row102 col0\" >Maldives</td>\n",
              "                        <td id=\"T_07032d74_f3c3_11eb_882a_0242ac1c0002row102_col1\" class=\"data row102 col1\" >166.000000</td>\n",
              "            </tr>\n",
              "            <tr>\n",
              "                        <th id=\"T_07032d74_f3c3_11eb_882a_0242ac1c0002level0_row103\" class=\"row_heading level0 row103\" >19</th>\n",
              "                        <td id=\"T_07032d74_f3c3_11eb_882a_0242ac1c0002row103_col0\" class=\"data row103 col0\" >Bolivia</td>\n",
              "                        <td id=\"T_07032d74_f3c3_11eb_882a_0242ac1c0002row103_col1\" class=\"data row103 col1\" >155.000000</td>\n",
              "            </tr>\n",
              "            <tr>\n",
              "                        <th id=\"T_07032d74_f3c3_11eb_882a_0242ac1c0002level0_row104\" class=\"row_heading level0 row104\" >77</th>\n",
              "                        <td id=\"T_07032d74_f3c3_11eb_882a_0242ac1c0002row104_col0\" class=\"data row104 col0\" >Honduras</td>\n",
              "                        <td id=\"T_07032d74_f3c3_11eb_882a_0242ac1c0002row104_col1\" class=\"data row104 col1\" >146.000000</td>\n",
              "            </tr>\n",
              "            <tr>\n",
              "                        <th id=\"T_07032d74_f3c3_11eb_882a_0242ac1c0002level0_row105\" class=\"row_heading level0 row105\" >41</th>\n",
              "                        <td id=\"T_07032d74_f3c3_11eb_882a_0242ac1c0002row105_col0\" class=\"data row105 col0\" >Cuba</td>\n",
              "                        <td id=\"T_07032d74_f3c3_11eb_882a_0242ac1c0002row105_col1\" class=\"data row105 col1\" >143.000000</td>\n",
              "            </tr>\n",
              "            <tr>\n",
              "                        <th id=\"T_07032d74_f3c3_11eb_882a_0242ac1c0002level0_row106\" class=\"row_heading level0 row106\" >13</th>\n",
              "                        <td id=\"T_07032d74_f3c3_11eb_882a_0242ac1c0002row106_col0\" class=\"data row106 col0\" >Bangladesh</td>\n",
              "                        <td id=\"T_07032d74_f3c3_11eb_882a_0242ac1c0002row106_col1\" class=\"data row106 col1\" >142.000000</td>\n",
              "            </tr>\n",
              "            <tr>\n",
              "                        <th id=\"T_07032d74_f3c3_11eb_882a_0242ac1c0002level0_row107\" class=\"row_heading level0 row107\" >130</th>\n",
              "                        <td id=\"T_07032d74_f3c3_11eb_882a_0242ac1c0002row107_col0\" class=\"data row107 col0\" >Paraguay</td>\n",
              "                        <td id=\"T_07032d74_f3c3_11eb_882a_0242ac1c0002row107_col1\" class=\"data row107 col1\" >142.000000</td>\n",
              "            </tr>\n",
              "            <tr>\n",
              "                        <th id=\"T_07032d74_f3c3_11eb_882a_0242ac1c0002level0_row108\" class=\"row_heading level0 row108\" >123</th>\n",
              "                        <td id=\"T_07032d74_f3c3_11eb_882a_0242ac1c0002row108_col0\" class=\"data row108 col0\" >Nigeria</td>\n",
              "                        <td id=\"T_07032d74_f3c3_11eb_882a_0242ac1c0002row108_col1\" class=\"data row108 col1\" >131.000000</td>\n",
              "            </tr>\n",
              "            <tr>\n",
              "                        <th id=\"T_07032d74_f3c3_11eb_882a_0242ac1c0002level0_row109\" class=\"row_heading level0 row109\" >36</th>\n",
              "                        <td id=\"T_07032d74_f3c3_11eb_882a_0242ac1c0002row109_col0\" class=\"data row109 col0\" >Congo (Kinshasa)</td>\n",
              "                        <td id=\"T_07032d74_f3c3_11eb_882a_0242ac1c0002row109_col1\" class=\"data row109 col1\" >129.000000</td>\n",
              "            </tr>\n",
              "            <tr>\n",
              "                        <th id=\"T_07032d74_f3c3_11eb_882a_0242ac1c0002level0_row110\" class=\"row_heading level0 row110\" >87</th>\n",
              "                        <td id=\"T_07032d74_f3c3_11eb_882a_0242ac1c0002row110_col0\" class=\"data row110 col0\" >Jamaica</td>\n",
              "                        <td id=\"T_07032d74_f3c3_11eb_882a_0242ac1c0002row110_col1\" class=\"data row110 col1\" >122.000000</td>\n",
              "            </tr>\n",
              "            <tr>\n",
              "                        <th id=\"T_07032d74_f3c3_11eb_882a_0242ac1c0002level0_row111\" class=\"row_heading level0 row111\" >65</th>\n",
              "                        <td id=\"T_07032d74_f3c3_11eb_882a_0242ac1c0002row111_col0\" class=\"data row111 col0\" >Ghana</td>\n",
              "                        <td id=\"T_07032d74_f3c3_11eb_882a_0242ac1c0002row111_col1\" class=\"data row111 col1\" >120.000000</td>\n",
              "            </tr>\n",
              "            <tr>\n",
              "                        <th id=\"T_07032d74_f3c3_11eb_882a_0242ac1c0002level0_row112\" class=\"row_heading level0 row112\" >112</th>\n",
              "                        <td id=\"T_07032d74_f3c3_11eb_882a_0242ac1c0002row112_col0\" class=\"data row112 col0\" >Monaco</td>\n",
              "                        <td id=\"T_07032d74_f3c3_11eb_882a_0242ac1c0002row112_col1\" class=\"data row112 col1\" >114.000000</td>\n",
              "            </tr>\n",
              "            <tr>\n",
              "                        <th id=\"T_07032d74_f3c3_11eb_882a_0242ac1c0002level0_row113\" class=\"row_heading level0 row113\" >141</th>\n",
              "                        <td id=\"T_07032d74_f3c3_11eb_882a_0242ac1c0002row113_col0\" class=\"data row113 col0\" >Rwanda</td>\n",
              "                        <td id=\"T_07032d74_f3c3_11eb_882a_0242ac1c0002row113_col1\" class=\"data row113 col1\" >102.000000</td>\n",
              "            </tr>\n",
              "            <tr>\n",
              "                        <th id=\"T_07032d74_f3c3_11eb_882a_0242ac1c0002level0_row114\" class=\"row_heading level0 row114\" >71</th>\n",
              "                        <td id=\"T_07032d74_f3c3_11eb_882a_0242ac1c0002row114_col0\" class=\"data row114 col0\" >Guatemala</td>\n",
              "                        <td id=\"T_07032d74_f3c3_11eb_882a_0242ac1c0002row114_col1\" class=\"data row114 col1\" >84.000000</td>\n",
              "            </tr>\n",
              "            <tr>\n",
              "                        <th id=\"T_07032d74_f3c3_11eb_882a_0242ac1c0002level0_row115\" class=\"row_heading level0 row115\" >114</th>\n",
              "                        <td id=\"T_07032d74_f3c3_11eb_882a_0242ac1c0002row115_col0\" class=\"data row115 col0\" >Montenegro</td>\n",
              "                        <td id=\"T_07032d74_f3c3_11eb_882a_0242ac1c0002row115_col1\" class=\"data row115 col1\" >76.000000</td>\n",
              "            </tr>\n",
              "            <tr>\n",
              "                        <th id=\"T_07032d74_f3c3_11eb_882a_0242ac1c0002level0_row116\" class=\"row_heading level0 row116\" >38</th>\n",
              "                        <td id=\"T_07032d74_f3c3_11eb_882a_0242ac1c0002row116_col0\" class=\"data row116 col0\" >Cote d'Ivoire</td>\n",
              "                        <td id=\"T_07032d74_f3c3_11eb_882a_0242ac1c0002row116_col1\" class=\"data row116 col1\" >70.000000</td>\n",
              "            </tr>\n",
              "            <tr>\n",
              "                        <th id=\"T_07032d74_f3c3_11eb_882a_0242ac1c0002level0_row117\" class=\"row_heading level0 row117\" >168</th>\n",
              "                        <td id=\"T_07032d74_f3c3_11eb_882a_0242ac1c0002row117_col0\" class=\"data row117 col0\" >Togo</td>\n",
              "                        <td id=\"T_07032d74_f3c3_11eb_882a_0242ac1c0002row117_col1\" class=\"data row117 col1\" >67.000000</td>\n",
              "            </tr>\n",
              "            <tr>\n",
              "                        <th id=\"T_07032d74_f3c3_11eb_882a_0242ac1c0002level0_row118\" class=\"row_heading level0 row118\" >108</th>\n",
              "                        <td id=\"T_07032d74_f3c3_11eb_882a_0242ac1c0002row118_col0\" class=\"data row118 col0\" >Mauritius</td>\n",
              "                        <td id=\"T_07032d74_f3c3_11eb_882a_0242ac1c0002row118_col1\" class=\"data row118 col1\" >65.000000</td>\n",
              "            </tr>\n",
              "            <tr>\n",
              "                        <th id=\"T_07032d74_f3c3_11eb_882a_0242ac1c0002level0_row119\" class=\"row_heading level0 row119\" >92</th>\n",
              "                        <td id=\"T_07032d74_f3c3_11eb_882a_0242ac1c0002row119_col0\" class=\"data row119 col0\" >Kenya</td>\n",
              "                        <td id=\"T_07032d74_f3c3_11eb_882a_0242ac1c0002row119_col1\" class=\"data row119 col1\" >65.000000</td>\n",
              "            </tr>\n",
              "            <tr>\n",
              "                        <th id=\"T_07032d74_f3c3_11eb_882a_0242ac1c0002level0_row120\" class=\"row_heading level0 row120\" >113</th>\n",
              "                        <td id=\"T_07032d74_f3c3_11eb_882a_0242ac1c0002row120_col0\" class=\"data row120 col0\" >Mongolia</td>\n",
              "                        <td id=\"T_07032d74_f3c3_11eb_882a_0242ac1c0002row120_col1\" class=\"data row120 col1\" >60.000000</td>\n",
              "            </tr>\n",
              "            <tr>\n",
              "                        <th id=\"T_07032d74_f3c3_11eb_882a_0242ac1c0002level0_row121\" class=\"row_heading level0 row121\" >56</th>\n",
              "                        <td id=\"T_07032d74_f3c3_11eb_882a_0242ac1c0002row121_col0\" class=\"data row121 col0\" >Ethiopia</td>\n",
              "                        <td id=\"T_07032d74_f3c3_11eb_882a_0242ac1c0002row121_col1\" class=\"data row121 col1\" >57.000000</td>\n",
              "            </tr>\n",
              "            <tr>\n",
              "                        <th id=\"T_07032d74_f3c3_11eb_882a_0242ac1c0002level0_row122\" class=\"row_heading level0 row122\" >69</th>\n",
              "                        <td id=\"T_07032d74_f3c3_11eb_882a_0242ac1c0002row122_col0\" class=\"data row122 col0\" >Guadeloupe</td>\n",
              "                        <td id=\"T_07032d74_f3c3_11eb_882a_0242ac1c0002row122_col1\" class=\"data row122 col1\" >56.000000</td>\n",
              "            </tr>\n",
              "            <tr>\n",
              "                        <th id=\"T_07032d74_f3c3_11eb_882a_0242ac1c0002level0_row123\" class=\"row_heading level0 row123\" >95</th>\n",
              "                        <td id=\"T_07032d74_f3c3_11eb_882a_0242ac1c0002row123_col0\" class=\"data row123 col0\" >Kyrgyzstan</td>\n",
              "                        <td id=\"T_07032d74_f3c3_11eb_882a_0242ac1c0002row123_col1\" class=\"data row123 col1\" >54.000000</td>\n",
              "            </tr>\n",
              "            <tr>\n",
              "                        <th id=\"T_07032d74_f3c3_11eb_882a_0242ac1c0002level0_row124\" class=\"row_heading level0 row124\" >148</th>\n",
              "                        <td id=\"T_07032d74_f3c3_11eb_882a_0242ac1c0002row124_col0\" class=\"data row124 col0\" >Seychelles</td>\n",
              "                        <td id=\"T_07032d74_f3c3_11eb_882a_0242ac1c0002row124_col1\" class=\"data row124 col1\" >49.000000</td>\n",
              "            </tr>\n",
              "            <tr>\n",
              "                        <th id=\"T_07032d74_f3c3_11eb_882a_0242ac1c0002level0_row125\" class=\"row_heading level0 row125\" >14</th>\n",
              "                        <td id=\"T_07032d74_f3c3_11eb_882a_0242ac1c0002row125_col0\" class=\"data row125 col0\" >Barbados</td>\n",
              "                        <td id=\"T_07032d74_f3c3_11eb_882a_0242ac1c0002row125_col1\" class=\"data row125 col1\" >48.000000</td>\n",
              "            </tr>\n",
              "            <tr>\n",
              "                        <th id=\"T_07032d74_f3c3_11eb_882a_0242ac1c0002level0_row126\" class=\"row_heading level0 row126\" >74</th>\n",
              "                        <td id=\"T_07032d74_f3c3_11eb_882a_0242ac1c0002row126_col0\" class=\"data row126 col0\" >Guyana</td>\n",
              "                        <td id=\"T_07032d74_f3c3_11eb_882a_0242ac1c0002row126_col1\" class=\"data row126 col1\" >48.000000</td>\n",
              "            </tr>\n",
              "            <tr>\n",
              "                        <th id=\"T_07032d74_f3c3_11eb_882a_0242ac1c0002level0_row127\" class=\"row_heading level0 row127\" >163</th>\n",
              "                        <td id=\"T_07032d74_f3c3_11eb_882a_0242ac1c0002row127_col0\" class=\"data row127 col0\" >Tanzania</td>\n",
              "                        <td id=\"T_07032d74_f3c3_11eb_882a_0242ac1c0002row127_col1\" class=\"data row127 col1\" >47.000000</td>\n",
              "            </tr>\n",
              "            <tr>\n",
              "                        <th id=\"T_07032d74_f3c3_11eb_882a_0242ac1c0002level0_row128\" class=\"row_heading level0 row128\" >138</th>\n",
              "                        <td id=\"T_07032d74_f3c3_11eb_882a_0242ac1c0002row128_col0\" class=\"data row128 col0\" >Reunion</td>\n",
              "                        <td id=\"T_07032d74_f3c3_11eb_882a_0242ac1c0002row128_col1\" class=\"data row128 col1\" >47.000000</td>\n",
              "            </tr>\n",
              "            <tr>\n",
              "                        <th id=\"T_07032d74_f3c3_11eb_882a_0242ac1c0002level0_row129\" class=\"row_heading level0 row129\" >52</th>\n",
              "                        <td id=\"T_07032d74_f3c3_11eb_882a_0242ac1c0002row129_col0\" class=\"data row129 col0\" >Equatorial Guinea</td>\n",
              "                        <td id=\"T_07032d74_f3c3_11eb_882a_0242ac1c0002row129_col1\" class=\"data row129 col1\" >37.000000</td>\n",
              "            </tr>\n",
              "            <tr>\n",
              "                        <th id=\"T_07032d74_f3c3_11eb_882a_0242ac1c0002level0_row130\" class=\"row_heading level0 row130\" >117</th>\n",
              "                        <td id=\"T_07032d74_f3c3_11eb_882a_0242ac1c0002row130_col0\" class=\"data row130 col0\" >Namibia</td>\n",
              "                        <td id=\"T_07032d74_f3c3_11eb_882a_0242ac1c0002row130_col1\" class=\"data row130 col1\" >25.000000</td>\n",
              "            </tr>\n",
              "            <tr>\n",
              "                        <th id=\"T_07032d74_f3c3_11eb_882a_0242ac1c0002level0_row131\" class=\"row_heading level0 row131\" >158</th>\n",
              "                        <td id=\"T_07032d74_f3c3_11eb_882a_0242ac1c0002row131_col0\" class=\"data row131 col0\" >Suriname</td>\n",
              "                        <td id=\"T_07032d74_f3c3_11eb_882a_0242ac1c0002row131_col1\" class=\"data row131 col1\" >24.000000</td>\n",
              "            </tr>\n",
              "            <tr>\n",
              "                        <th id=\"T_07032d74_f3c3_11eb_882a_0242ac1c0002level0_row132\" class=\"row_heading level0 row132\" >18</th>\n",
              "                        <td id=\"T_07032d74_f3c3_11eb_882a_0242ac1c0002row132_col0\" class=\"data row132 col0\" >Bhutan</td>\n",
              "                        <td id=\"T_07032d74_f3c3_11eb_882a_0242ac1c0002row132_col1\" class=\"data row132 col1\" >22.000000</td>\n",
              "            </tr>\n",
              "            <tr>\n",
              "                        <th id=\"T_07032d74_f3c3_11eb_882a_0242ac1c0002level0_row133\" class=\"row_heading level0 row133\" >11</th>\n",
              "                        <td id=\"T_07032d74_f3c3_11eb_882a_0242ac1c0002row133_col0\" class=\"data row133 col0\" >Bahamas, The</td>\n",
              "                        <td id=\"T_07032d74_f3c3_11eb_882a_0242ac1c0002row133_col1\" class=\"data row133 col1\" >21.000000</td>\n",
              "            </tr>\n",
              "            <tr>\n",
              "                        <th id=\"T_07032d74_f3c3_11eb_882a_0242ac1c0002level0_row134\" class=\"row_heading level0 row134\" >118</th>\n",
              "                        <td id=\"T_07032d74_f3c3_11eb_882a_0242ac1c0002row134_col0\" class=\"data row134 col0\" >Nepal</td>\n",
              "                        <td id=\"T_07032d74_f3c3_11eb_882a_0242ac1c0002row134_col1\" class=\"data row134 col1\" >20.000000</td>\n",
              "            </tr>\n",
              "            <tr>\n",
              "                        <th id=\"T_07032d74_f3c3_11eb_882a_0242ac1c0002level0_row135\" class=\"row_heading level0 row135\" >35</th>\n",
              "                        <td id=\"T_07032d74_f3c3_11eb_882a_0242ac1c0002row135_col0\" class=\"data row135 col0\" >Congo (Brazzaville)</td>\n",
              "                        <td id=\"T_07032d74_f3c3_11eb_882a_0242ac1c0002row135_col1\" class=\"data row135 col1\" >19.000000</td>\n",
              "            </tr>\n",
              "            <tr>\n",
              "                        <th id=\"T_07032d74_f3c3_11eb_882a_0242ac1c0002level0_row136\" class=\"row_heading level0 row136\" >142</th>\n",
              "                        <td id=\"T_07032d74_f3c3_11eb_882a_0242ac1c0002row136_col0\" class=\"data row136 col0\" >Saint Lucia</td>\n",
              "                        <td id=\"T_07032d74_f3c3_11eb_882a_0242ac1c0002row136_col1\" class=\"data row136 col1\" >19.000000</td>\n",
              "            </tr>\n",
              "            <tr>\n",
              "                        <th id=\"T_07032d74_f3c3_11eb_882a_0242ac1c0002level0_row137\" class=\"row_heading level0 row137\" >61</th>\n",
              "                        <td id=\"T_07032d74_f3c3_11eb_882a_0242ac1c0002row137_col0\" class=\"data row137 col0\" >Gabon</td>\n",
              "                        <td id=\"T_07032d74_f3c3_11eb_882a_0242ac1c0002row137_col1\" class=\"data row137 col1\" >19.000000</td>\n",
              "            </tr>\n",
              "            <tr>\n",
              "                        <th id=\"T_07032d74_f3c3_11eb_882a_0242ac1c0002level0_row138\" class=\"row_heading level0 row138\" >93</th>\n",
              "                        <td id=\"T_07032d74_f3c3_11eb_882a_0242ac1c0002row138_col0\" class=\"data row138 col0\" >Kosovo</td>\n",
              "                        <td id=\"T_07032d74_f3c3_11eb_882a_0242ac1c0002row138_col1\" class=\"data row138 col1\" >18.000000</td>\n",
              "            </tr>\n",
              "            <tr>\n",
              "                        <th id=\"T_07032d74_f3c3_11eb_882a_0242ac1c0002level0_row139\" class=\"row_heading level0 row139\" >76</th>\n",
              "                        <td id=\"T_07032d74_f3c3_11eb_882a_0242ac1c0002row139_col0\" class=\"data row139 col0\" >Holy See</td>\n",
              "                        <td id=\"T_07032d74_f3c3_11eb_882a_0242ac1c0002row139_col1\" class=\"data row139 col1\" >18.000000</td>\n",
              "            </tr>\n",
              "            <tr>\n",
              "                        <th id=\"T_07032d74_f3c3_11eb_882a_0242ac1c0002level0_row140\" class=\"row_heading level0 row140\" >98</th>\n",
              "                        <td id=\"T_07032d74_f3c3_11eb_882a_0242ac1c0002row140_col0\" class=\"data row140 col0\" >Liberia</td>\n",
              "                        <td id=\"T_07032d74_f3c3_11eb_882a_0242ac1c0002row140_col1\" class=\"data row140 col1\" >17.000000</td>\n",
              "            </tr>\n",
              "            <tr>\n",
              "                        <th id=\"T_07032d74_f3c3_11eb_882a_0242ac1c0002level0_row141\" class=\"row_heading level0 row141\" >30</th>\n",
              "                        <td id=\"T_07032d74_f3c3_11eb_882a_0242ac1c0002row141_col0\" class=\"data row141 col0\" >Central African Republic</td>\n",
              "                        <td id=\"T_07032d74_f3c3_11eb_882a_0242ac1c0002row141_col1\" class=\"data row141 col1\" >17.000000</td>\n",
              "            </tr>\n",
              "            <tr>\n",
              "                        <th id=\"T_07032d74_f3c3_11eb_882a_0242ac1c0002level0_row142\" class=\"row_heading level0 row142\" >55</th>\n",
              "                        <td id=\"T_07032d74_f3c3_11eb_882a_0242ac1c0002row142_col0\" class=\"data row142 col0\" >Eswatini</td>\n",
              "                        <td id=\"T_07032d74_f3c3_11eb_882a_0242ac1c0002row142_col1\" class=\"data row142 col1\" >16.000000</td>\n",
              "            </tr>\n",
              "            <tr>\n",
              "                        <th id=\"T_07032d74_f3c3_11eb_882a_0242ac1c0002level0_row143\" class=\"row_heading level0 row143\" >107</th>\n",
              "                        <td id=\"T_07032d74_f3c3_11eb_882a_0242ac1c0002row143_col0\" class=\"data row143 col0\" >Mauritania</td>\n",
              "                        <td id=\"T_07032d74_f3c3_11eb_882a_0242ac1c0002row143_col1\" class=\"data row143 col1\" >15.000000</td>\n",
              "            </tr>\n",
              "            <tr>\n",
              "                        <th id=\"T_07032d74_f3c3_11eb_882a_0242ac1c0002level0_row144\" class=\"row_heading level0 row144\" >17</th>\n",
              "                        <td id=\"T_07032d74_f3c3_11eb_882a_0242ac1c0002row144_col0\" class=\"data row144 col0\" >Benin</td>\n",
              "                        <td id=\"T_07032d74_f3c3_11eb_882a_0242ac1c0002row144_col1\" class=\"data row144 col1\" >14.000000</td>\n",
              "            </tr>\n",
              "            <tr>\n",
              "                        <th id=\"T_07032d74_f3c3_11eb_882a_0242ac1c0002level0_row145\" class=\"row_heading level0 row145\" >73</th>\n",
              "                        <td id=\"T_07032d74_f3c3_11eb_882a_0242ac1c0002row145_col0\" class=\"data row145 col0\" >Guinea</td>\n",
              "                        <td id=\"T_07032d74_f3c3_11eb_882a_0242ac1c0002row145_col1\" class=\"data row145 col1\" >14.000000</td>\n",
              "            </tr>\n",
              "            <tr>\n",
              "                        <th id=\"T_07032d74_f3c3_11eb_882a_0242ac1c0002level0_row146\" class=\"row_heading level0 row146\" >181</th>\n",
              "                        <td id=\"T_07032d74_f3c3_11eb_882a_0242ac1c0002row146_col0\" class=\"data row146 col0\" >Zambia</td>\n",
              "                        <td id=\"T_07032d74_f3c3_11eb_882a_0242ac1c0002row146_col1\" class=\"data row146 col1\" >14.000000</td>\n",
              "            </tr>\n",
              "            <tr>\n",
              "                        <th id=\"T_07032d74_f3c3_11eb_882a_0242ac1c0002level0_row147\" class=\"row_heading level0 row147\" >102</th>\n",
              "                        <td id=\"T_07032d74_f3c3_11eb_882a_0242ac1c0002row147_col0\" class=\"data row147 col0\" >Madagascar</td>\n",
              "                        <td id=\"T_07032d74_f3c3_11eb_882a_0242ac1c0002row147_col1\" class=\"data row147 col1\" >12.000000</td>\n",
              "            </tr>\n",
              "            <tr>\n",
              "                        <th id=\"T_07032d74_f3c3_11eb_882a_0242ac1c0002level0_row148\" class=\"row_heading level0 row148\" >60</th>\n",
              "                        <td id=\"T_07032d74_f3c3_11eb_882a_0242ac1c0002row148_col0\" class=\"data row148 col0\" >French Guiana</td>\n",
              "                        <td id=\"T_07032d74_f3c3_11eb_882a_0242ac1c0002row148_col1\" class=\"data row148 col1\" >12.000000</td>\n",
              "            </tr>\n",
              "            <tr>\n",
              "                        <th id=\"T_07032d74_f3c3_11eb_882a_0242ac1c0002level0_row149\" class=\"row_heading level0 row149\" >109</th>\n",
              "                        <td id=\"T_07032d74_f3c3_11eb_882a_0242ac1c0002row149_col0\" class=\"data row149 col0\" >Mayotte</td>\n",
              "                        <td id=\"T_07032d74_f3c3_11eb_882a_0242ac1c0002row149_col1\" class=\"data row149 col1\" >11.000000</td>\n",
              "            </tr>\n",
              "            <tr>\n",
              "                        <th id=\"T_07032d74_f3c3_11eb_882a_0242ac1c0002level0_row150\" class=\"row_heading level0 row150\" >51</th>\n",
              "                        <td id=\"T_07032d74_f3c3_11eb_882a_0242ac1c0002row150_col0\" class=\"data row150 col0\" >El Salvador</td>\n",
              "                        <td id=\"T_07032d74_f3c3_11eb_882a_0242ac1c0002row150_col1\" class=\"data row150 col1\" >11.000000</td>\n",
              "            </tr>\n",
              "            <tr>\n",
              "                        <th id=\"T_07032d74_f3c3_11eb_882a_0242ac1c0002level0_row151\" class=\"row_heading level0 row151\" >5</th>\n",
              "                        <td id=\"T_07032d74_f3c3_11eb_882a_0242ac1c0002row151_col0\" class=\"data row151 col0\" >Antigua and Barbuda</td>\n",
              "                        <td id=\"T_07032d74_f3c3_11eb_882a_0242ac1c0002row151_col1\" class=\"data row151 col1\" >11.000000</td>\n",
              "            </tr>\n",
              "            <tr>\n",
              "                        <th id=\"T_07032d74_f3c3_11eb_882a_0242ac1c0002level0_row152\" class=\"row_heading level0 row152\" >25</th>\n",
              "                        <td id=\"T_07032d74_f3c3_11eb_882a_0242ac1c0002row152_col0\" class=\"data row152 col0\" >Cabo Verde</td>\n",
              "                        <td id=\"T_07032d74_f3c3_11eb_882a_0242ac1c0002row152_col1\" class=\"data row152 col1\" >10.000000</td>\n",
              "            </tr>\n",
              "            <tr>\n",
              "                        <th id=\"T_07032d74_f3c3_11eb_882a_0242ac1c0002level0_row153\" class=\"row_heading level0 row153\" >182</th>\n",
              "                        <td id=\"T_07032d74_f3c3_11eb_882a_0242ac1c0002row153_col0\" class=\"data row153 col0\" >Zimbabwe</td>\n",
              "                        <td id=\"T_07032d74_f3c3_11eb_882a_0242ac1c0002row153_col1\" class=\"data row153 col1\" >10.000000</td>\n",
              "            </tr>\n",
              "            <tr>\n",
              "                        <th id=\"T_07032d74_f3c3_11eb_882a_0242ac1c0002level0_row154\" class=\"row_heading level0 row154\" >143</th>\n",
              "                        <td id=\"T_07032d74_f3c3_11eb_882a_0242ac1c0002row154_col0\" class=\"data row154 col0\" >Saint Vincent and the Grenadines</td>\n",
              "                        <td id=\"T_07032d74_f3c3_11eb_882a_0242ac1c0002row154_col1\" class=\"data row154 col1\" >10.000000</td>\n",
              "            </tr>\n",
              "            <tr>\n",
              "                        <th id=\"T_07032d74_f3c3_11eb_882a_0242ac1c0002level0_row155\" class=\"row_heading level0 row155\" >152</th>\n",
              "                        <td id=\"T_07032d74_f3c3_11eb_882a_0242ac1c0002row155_col0\" class=\"data row155 col0\" >Somalia</td>\n",
              "                        <td id=\"T_07032d74_f3c3_11eb_882a_0242ac1c0002row155_col1\" class=\"data row155 col1\" >8.000000</td>\n",
              "            </tr>\n",
              "            <tr>\n",
              "                        <th id=\"T_07032d74_f3c3_11eb_882a_0242ac1c0002level0_row156\" class=\"row_heading level0 row156\" >121</th>\n",
              "                        <td id=\"T_07032d74_f3c3_11eb_882a_0242ac1c0002row156_col0\" class=\"data row156 col0\" >Nicaragua</td>\n",
              "                        <td id=\"T_07032d74_f3c3_11eb_882a_0242ac1c0002row156_col1\" class=\"data row156 col1\" >8.000000</td>\n",
              "            </tr>\n",
              "            <tr>\n",
              "                        <th id=\"T_07032d74_f3c3_11eb_882a_0242ac1c0002level0_row157\" class=\"row_heading level0 row157\" >75</th>\n",
              "                        <td id=\"T_07032d74_f3c3_11eb_882a_0242ac1c0002row157_col0\" class=\"data row157 col0\" >Haiti</td>\n",
              "                        <td id=\"T_07032d74_f3c3_11eb_882a_0242ac1c0002row157_col1\" class=\"data row157 col1\" >8.000000</td>\n",
              "            </tr>\n",
              "            <tr>\n",
              "                        <th id=\"T_07032d74_f3c3_11eb_882a_0242ac1c0002level0_row158\" class=\"row_heading level0 row158\" >4</th>\n",
              "                        <td id=\"T_07032d74_f3c3_11eb_882a_0242ac1c0002row158_col0\" class=\"data row158 col0\" >Angola</td>\n",
              "                        <td id=\"T_07032d74_f3c3_11eb_882a_0242ac1c0002row158_col1\" class=\"data row158 col1\" >7.000000</td>\n",
              "            </tr>\n",
              "            <tr>\n",
              "                        <th id=\"T_07032d74_f3c3_11eb_882a_0242ac1c0002level0_row159\" class=\"row_heading level0 row159\" >62</th>\n",
              "                        <td id=\"T_07032d74_f3c3_11eb_882a_0242ac1c0002row159_col0\" class=\"data row159 col0\" >Gambia, The</td>\n",
              "                        <td id=\"T_07032d74_f3c3_11eb_882a_0242ac1c0002row159_col1\" class=\"data row159 col1\" >7.000000</td>\n",
              "            </tr>\n",
              "            <tr>\n",
              "                        <th id=\"T_07032d74_f3c3_11eb_882a_0242ac1c0002level0_row160\" class=\"row_heading level0 row160\" >57</th>\n",
              "                        <td id=\"T_07032d74_f3c3_11eb_882a_0242ac1c0002row160_col0\" class=\"data row160 col0\" >Fiji</td>\n",
              "                        <td id=\"T_07032d74_f3c3_11eb_882a_0242ac1c0002row160_col1\" class=\"data row160 col1\" >7.000000</td>\n",
              "            </tr>\n",
              "            <tr>\n",
              "                        <th id=\"T_07032d74_f3c3_11eb_882a_0242ac1c0002level0_row161\" class=\"row_heading level0 row161\" >122</th>\n",
              "                        <td id=\"T_07032d74_f3c3_11eb_882a_0242ac1c0002row161_col0\" class=\"data row161 col0\" >Niger</td>\n",
              "                        <td id=\"T_07032d74_f3c3_11eb_882a_0242ac1c0002row161_col1\" class=\"data row161 col1\" >6.000000</td>\n",
              "            </tr>\n",
              "            <tr>\n",
              "                        <th id=\"T_07032d74_f3c3_11eb_882a_0242ac1c0002level0_row162\" class=\"row_heading level0 row162\" >157</th>\n",
              "                        <td id=\"T_07032d74_f3c3_11eb_882a_0242ac1c0002row162_col0\" class=\"data row162 col0\" >Sudan</td>\n",
              "                        <td id=\"T_07032d74_f3c3_11eb_882a_0242ac1c0002row162_col1\" class=\"data row162 col1\" >6.000000</td>\n",
              "            </tr>\n",
              "            <tr>\n",
              "                        <th id=\"T_07032d74_f3c3_11eb_882a_0242ac1c0002level0_row163\" class=\"row_heading level0 row163\" >45</th>\n",
              "                        <td id=\"T_07032d74_f3c3_11eb_882a_0242ac1c0002row163_col0\" class=\"data row163 col0\" >Djibouti</td>\n",
              "                        <td id=\"T_07032d74_f3c3_11eb_882a_0242ac1c0002row163_col1\" class=\"data row163 col1\" >6.000000</td>\n",
              "            </tr>\n",
              "            <tr>\n",
              "                        <th id=\"T_07032d74_f3c3_11eb_882a_0242ac1c0002level0_row164\" class=\"row_heading level0 row164\" >31</th>\n",
              "                        <td id=\"T_07032d74_f3c3_11eb_882a_0242ac1c0002row164_col0\" class=\"data row164 col0\" >Chad</td>\n",
              "                        <td id=\"T_07032d74_f3c3_11eb_882a_0242ac1c0002row164_col1\" class=\"data row164 col1\" >5.000000</td>\n",
              "            </tr>\n",
              "            <tr>\n",
              "                        <th id=\"T_07032d74_f3c3_11eb_882a_0242ac1c0002level0_row165\" class=\"row_heading level0 row165\" >129</th>\n",
              "                        <td id=\"T_07032d74_f3c3_11eb_882a_0242ac1c0002row165_col0\" class=\"data row165 col0\" >Papua New Guinea</td>\n",
              "                        <td id=\"T_07032d74_f3c3_11eb_882a_0242ac1c0002row165_col1\" class=\"data row165 col1\" >4.000000</td>\n",
              "            </tr>\n",
              "            <tr>\n",
              "                        <th id=\"T_07032d74_f3c3_11eb_882a_0242ac1c0002level0_row166\" class=\"row_heading level0 row166\" >53</th>\n",
              "                        <td id=\"T_07032d74_f3c3_11eb_882a_0242ac1c0002row166_col0\" class=\"data row166 col0\" >Eritrea</td>\n",
              "                        <td id=\"T_07032d74_f3c3_11eb_882a_0242ac1c0002row166_col1\" class=\"data row166 col1\" >3.000000</td>\n",
              "            </tr>\n",
              "            <tr>\n",
              "                        <th id=\"T_07032d74_f3c3_11eb_882a_0242ac1c0002level0_row167\" class=\"row_heading level0 row167\" >173</th>\n",
              "                        <td id=\"T_07032d74_f3c3_11eb_882a_0242ac1c0002row167_col0\" class=\"data row167 col0\" >Uganda</td>\n",
              "                        <td id=\"T_07032d74_f3c3_11eb_882a_0242ac1c0002row167_col1\" class=\"data row167 col1\" >3.000000</td>\n",
              "            </tr>\n",
              "            <tr>\n",
              "                        <th id=\"T_07032d74_f3c3_11eb_882a_0242ac1c0002level0_row168\" class=\"row_heading level0 row168\" >161</th>\n",
              "                        <td id=\"T_07032d74_f3c3_11eb_882a_0242ac1c0002row168_col0\" class=\"data row168 col0\" >Syria</td>\n",
              "                        <td id=\"T_07032d74_f3c3_11eb_882a_0242ac1c0002row168_col1\" class=\"data row168 col1\" >2.000000</td>\n",
              "            </tr>\n",
              "            <tr>\n",
              "                        <th id=\"T_07032d74_f3c3_11eb_882a_0242ac1c0002level0_row169\" class=\"row_heading level0 row169\" >29</th>\n",
              "                        <td id=\"T_07032d74_f3c3_11eb_882a_0242ac1c0002row169_col0\" class=\"data row169 col0\" >Cape Verde</td>\n",
              "                        <td id=\"T_07032d74_f3c3_11eb_882a_0242ac1c0002row169_col1\" class=\"data row169 col1\" >2.000000</td>\n",
              "            </tr>\n",
              "            <tr>\n",
              "                        <th id=\"T_07032d74_f3c3_11eb_882a_0242ac1c0002level0_row170\" class=\"row_heading level0 row170\" >68</th>\n",
              "                        <td id=\"T_07032d74_f3c3_11eb_882a_0242ac1c0002row170_col0\" class=\"data row170 col0\" >Grenada</td>\n",
              "                        <td id=\"T_07032d74_f3c3_11eb_882a_0242ac1c0002row170_col1\" class=\"data row170 col1\" >2.000000</td>\n",
              "            </tr>\n",
              "            <tr>\n",
              "                        <th id=\"T_07032d74_f3c3_11eb_882a_0242ac1c0002level0_row171\" class=\"row_heading level0 row171\" >48</th>\n",
              "                        <td id=\"T_07032d74_f3c3_11eb_882a_0242ac1c0002row171_col0\" class=\"data row171 col0\" >East Timor</td>\n",
              "                        <td id=\"T_07032d74_f3c3_11eb_882a_0242ac1c0002row171_col1\" class=\"data row171 col1\" >2.000000</td>\n",
              "            </tr>\n",
              "            <tr>\n",
              "                        <th id=\"T_07032d74_f3c3_11eb_882a_0242ac1c0002level0_row172\" class=\"row_heading level0 row172\" >46</th>\n",
              "                        <td id=\"T_07032d74_f3c3_11eb_882a_0242ac1c0002row172_col0\" class=\"data row172 col0\" >Dominica</td>\n",
              "                        <td id=\"T_07032d74_f3c3_11eb_882a_0242ac1c0002row172_col1\" class=\"data row172 col1\" >2.000000</td>\n",
              "            </tr>\n",
              "            <tr>\n",
              "                        <th id=\"T_07032d74_f3c3_11eb_882a_0242ac1c0002level0_row173\" class=\"row_heading level0 row173\" >167</th>\n",
              "                        <td id=\"T_07032d74_f3c3_11eb_882a_0242ac1c0002row173_col0\" class=\"data row173 col0\" >Timor-Leste</td>\n",
              "                        <td id=\"T_07032d74_f3c3_11eb_882a_0242ac1c0002row173_col1\" class=\"data row173 col1\" >2.000000</td>\n",
              "            </tr>\n",
              "            <tr>\n",
              "                        <th id=\"T_07032d74_f3c3_11eb_882a_0242ac1c0002level0_row174\" class=\"row_heading level0 row174\" >116</th>\n",
              "                        <td id=\"T_07032d74_f3c3_11eb_882a_0242ac1c0002row174_col0\" class=\"data row174 col0\" >Mozambique</td>\n",
              "                        <td id=\"T_07032d74_f3c3_11eb_882a_0242ac1c0002row174_col1\" class=\"data row174 col1\" >2.000000</td>\n",
              "            </tr>\n",
              "            <tr>\n",
              "                        <th id=\"T_07032d74_f3c3_11eb_882a_0242ac1c0002level0_row175\" class=\"row_heading level0 row175\" >137</th>\n",
              "                        <td id=\"T_07032d74_f3c3_11eb_882a_0242ac1c0002row175_col0\" class=\"data row175 col0\" >Republic of the Congo</td>\n",
              "                        <td id=\"T_07032d74_f3c3_11eb_882a_0242ac1c0002row175_col1\" class=\"data row175 col1\" >0.000000</td>\n",
              "            </tr>\n",
              "            <tr>\n",
              "                        <th id=\"T_07032d74_f3c3_11eb_882a_0242ac1c0002level0_row176\" class=\"row_heading level0 row176\" >89</th>\n",
              "                        <td id=\"T_07032d74_f3c3_11eb_882a_0242ac1c0002row176_col0\" class=\"data row176 col0\" >Jersey</td>\n",
              "                        <td id=\"T_07032d74_f3c3_11eb_882a_0242ac1c0002row176_col1\" class=\"data row176 col1\" >0.000000</td>\n",
              "            </tr>\n",
              "            <tr>\n",
              "                        <th id=\"T_07032d74_f3c3_11eb_882a_0242ac1c0002level0_row177\" class=\"row_heading level0 row177\" >72</th>\n",
              "                        <td id=\"T_07032d74_f3c3_11eb_882a_0242ac1c0002row177_col0\" class=\"data row177 col0\" >Guernsey</td>\n",
              "                        <td id=\"T_07032d74_f3c3_11eb_882a_0242ac1c0002row177_col1\" class=\"data row177 col1\" >0.000000</td>\n",
              "            </tr>\n",
              "            <tr>\n",
              "                        <th id=\"T_07032d74_f3c3_11eb_882a_0242ac1c0002level0_row178\" class=\"row_heading level0 row178\" >166</th>\n",
              "                        <td id=\"T_07032d74_f3c3_11eb_882a_0242ac1c0002row178_col0\" class=\"data row178 col0\" >The Gambia</td>\n",
              "                        <td id=\"T_07032d74_f3c3_11eb_882a_0242ac1c0002row178_col1\" class=\"data row178 col1\" >0.000000</td>\n",
              "            </tr>\n",
              "            <tr>\n",
              "                        <th id=\"T_07032d74_f3c3_11eb_882a_0242ac1c0002level0_row179\" class=\"row_heading level0 row179\" >67</th>\n",
              "                        <td id=\"T_07032d74_f3c3_11eb_882a_0242ac1c0002row179_col0\" class=\"data row179 col0\" >Greenland</td>\n",
              "                        <td id=\"T_07032d74_f3c3_11eb_882a_0242ac1c0002row179_col1\" class=\"data row179 col1\" >0.000000</td>\n",
              "            </tr>\n",
              "            <tr>\n",
              "                        <th id=\"T_07032d74_f3c3_11eb_882a_0242ac1c0002level0_row180\" class=\"row_heading level0 row180\" >165</th>\n",
              "                        <td id=\"T_07032d74_f3c3_11eb_882a_0242ac1c0002row180_col0\" class=\"data row180 col0\" >The Bahamas</td>\n",
              "                        <td id=\"T_07032d74_f3c3_11eb_882a_0242ac1c0002row180_col1\" class=\"data row180 col1\" >0.000000</td>\n",
              "            </tr>\n",
              "            <tr>\n",
              "                        <th id=\"T_07032d74_f3c3_11eb_882a_0242ac1c0002level0_row181\" class=\"row_heading level0 row181\" >70</th>\n",
              "                        <td id=\"T_07032d74_f3c3_11eb_882a_0242ac1c0002row181_col0\" class=\"data row181 col0\" >Guam</td>\n",
              "                        <td id=\"T_07032d74_f3c3_11eb_882a_0242ac1c0002row181_col1\" class=\"data row181 col1\" >-1.000000</td>\n",
              "            </tr>\n",
              "            <tr>\n",
              "                        <th id=\"T_07032d74_f3c3_11eb_882a_0242ac1c0002level0_row182\" class=\"row_heading level0 row182\" >135</th>\n",
              "                        <td id=\"T_07032d74_f3c3_11eb_882a_0242ac1c0002row182_col0\" class=\"data row182 col0\" >Puerto Rico</td>\n",
              "                        <td id=\"T_07032d74_f3c3_11eb_882a_0242ac1c0002row182_col1\" class=\"data row182 col1\" >-1.000000</td>\n",
              "            </tr>\n",
              "    </tbody></table>"
            ],
            "text/plain": [
              "<pandas.io.formats.style.Styler at 0x7f1d582a7890>"
            ]
          },
          "metadata": {
            "tags": []
          },
          "execution_count": 31
        }
      ]
    },
    {
      "cell_type": "code",
      "metadata": {
        "colab": {
          "base_uri": "https://localhost:8080/"
        },
        "id": "c6b9368a",
        "outputId": "6dffb113-1869-4c97-c0c9-900ab549bb6e"
      },
      "source": [
        "total_active = covid['active'].sum()\n",
        "total_active"
      ],
      "id": "c6b9368a",
      "execution_count": 32,
      "outputs": [
        {
          "output_type": "execute_result",
          "data": {
            "text/plain": [
              "3352375.0"
            ]
          },
          "metadata": {
            "tags": []
          },
          "execution_count": 32
        }
      ]
    },
    {
      "cell_type": "code",
      "metadata": {
        "id": "g9xO4UmXN35f"
      },
      "source": [
        "from fbprophet import Prophet"
      ],
      "id": "g9xO4UmXN35f",
      "execution_count": 35,
      "outputs": []
    },
    {
      "cell_type": "code",
      "metadata": {
        "id": "xRY32LkYN98y"
      },
      "source": [
        "confirmed = covid.groupby('Date').sum()['Confirmed'].reset_index()\n",
        "deaths = covid.groupby('Date').sum()['Deaths'].reset_index()\n",
        "recovered = covid.groupby('Date').sum()['Recovered'].reset_index()"
      ],
      "id": "xRY32LkYN98y",
      "execution_count": 37,
      "outputs": []
    },
    {
      "cell_type": "code",
      "metadata": {
        "colab": {
          "base_uri": "https://localhost:8080/",
          "height": 204
        },
        "id": "bifMBldkOakR",
        "outputId": "78429f30-14d9-4b7a-cb57-4ecb0556e47d"
      },
      "source": [
        "confirmed.head()"
      ],
      "id": "bifMBldkOakR",
      "execution_count": 38,
      "outputs": [
        {
          "output_type": "execute_result",
          "data": {
            "text/html": [
              "<div>\n",
              "<style scoped>\n",
              "    .dataframe tbody tr th:only-of-type {\n",
              "        vertical-align: middle;\n",
              "    }\n",
              "\n",
              "    .dataframe tbody tr th {\n",
              "        vertical-align: top;\n",
              "    }\n",
              "\n",
              "    .dataframe thead th {\n",
              "        text-align: right;\n",
              "    }\n",
              "</style>\n",
              "<table border=\"1\" class=\"dataframe\">\n",
              "  <thead>\n",
              "    <tr style=\"text-align: right;\">\n",
              "      <th></th>\n",
              "      <th>Date</th>\n",
              "      <th>Confirmed</th>\n",
              "    </tr>\n",
              "  </thead>\n",
              "  <tbody>\n",
              "    <tr>\n",
              "      <th>0</th>\n",
              "      <td>2020-01-22</td>\n",
              "      <td>554.0</td>\n",
              "    </tr>\n",
              "    <tr>\n",
              "      <th>1</th>\n",
              "      <td>2020-01-23</td>\n",
              "      <td>652.0</td>\n",
              "    </tr>\n",
              "    <tr>\n",
              "      <th>2</th>\n",
              "      <td>2020-01-24</td>\n",
              "      <td>939.0</td>\n",
              "    </tr>\n",
              "    <tr>\n",
              "      <th>3</th>\n",
              "      <td>2020-01-25</td>\n",
              "      <td>1432.0</td>\n",
              "    </tr>\n",
              "    <tr>\n",
              "      <th>4</th>\n",
              "      <td>2020-01-26</td>\n",
              "      <td>2113.0</td>\n",
              "    </tr>\n",
              "  </tbody>\n",
              "</table>\n",
              "</div>"
            ],
            "text/plain": [
              "        Date  Confirmed\n",
              "0 2020-01-22      554.0\n",
              "1 2020-01-23      652.0\n",
              "2 2020-01-24      939.0\n",
              "3 2020-01-25     1432.0\n",
              "4 2020-01-26     2113.0"
            ]
          },
          "metadata": {
            "tags": []
          },
          "execution_count": 38
        }
      ]
    },
    {
      "cell_type": "code",
      "metadata": {
        "colab": {
          "base_uri": "https://localhost:8080/",
          "height": 204
        },
        "id": "b-ZsGURdOc0F",
        "outputId": "709a03c9-db9a-46f7-ec12-aab96a0e7fb4"
      },
      "source": [
        "deaths.head()"
      ],
      "id": "b-ZsGURdOc0F",
      "execution_count": 39,
      "outputs": [
        {
          "output_type": "execute_result",
          "data": {
            "text/html": [
              "<div>\n",
              "<style scoped>\n",
              "    .dataframe tbody tr th:only-of-type {\n",
              "        vertical-align: middle;\n",
              "    }\n",
              "\n",
              "    .dataframe tbody tr th {\n",
              "        vertical-align: top;\n",
              "    }\n",
              "\n",
              "    .dataframe thead th {\n",
              "        text-align: right;\n",
              "    }\n",
              "</style>\n",
              "<table border=\"1\" class=\"dataframe\">\n",
              "  <thead>\n",
              "    <tr style=\"text-align: right;\">\n",
              "      <th></th>\n",
              "      <th>Date</th>\n",
              "      <th>Deaths</th>\n",
              "    </tr>\n",
              "  </thead>\n",
              "  <tbody>\n",
              "    <tr>\n",
              "      <th>0</th>\n",
              "      <td>2020-01-22</td>\n",
              "      <td>17.0</td>\n",
              "    </tr>\n",
              "    <tr>\n",
              "      <th>1</th>\n",
              "      <td>2020-01-23</td>\n",
              "      <td>18.0</td>\n",
              "    </tr>\n",
              "    <tr>\n",
              "      <th>2</th>\n",
              "      <td>2020-01-24</td>\n",
              "      <td>26.0</td>\n",
              "    </tr>\n",
              "    <tr>\n",
              "      <th>3</th>\n",
              "      <td>2020-01-25</td>\n",
              "      <td>42.0</td>\n",
              "    </tr>\n",
              "    <tr>\n",
              "      <th>4</th>\n",
              "      <td>2020-01-26</td>\n",
              "      <td>56.0</td>\n",
              "    </tr>\n",
              "  </tbody>\n",
              "</table>\n",
              "</div>"
            ],
            "text/plain": [
              "        Date  Deaths\n",
              "0 2020-01-22    17.0\n",
              "1 2020-01-23    18.0\n",
              "2 2020-01-24    26.0\n",
              "3 2020-01-25    42.0\n",
              "4 2020-01-26    56.0"
            ]
          },
          "metadata": {
            "tags": []
          },
          "execution_count": 39
        }
      ]
    },
    {
      "cell_type": "code",
      "metadata": {
        "colab": {
          "base_uri": "https://localhost:8080/",
          "height": 204
        },
        "id": "rgeR3M64Oey4",
        "outputId": "fea30635-3c57-464c-b006-9b7cc5d15caa"
      },
      "source": [
        "recovered.head()"
      ],
      "id": "rgeR3M64Oey4",
      "execution_count": 40,
      "outputs": [
        {
          "output_type": "execute_result",
          "data": {
            "text/html": [
              "<div>\n",
              "<style scoped>\n",
              "    .dataframe tbody tr th:only-of-type {\n",
              "        vertical-align: middle;\n",
              "    }\n",
              "\n",
              "    .dataframe tbody tr th {\n",
              "        vertical-align: top;\n",
              "    }\n",
              "\n",
              "    .dataframe thead th {\n",
              "        text-align: right;\n",
              "    }\n",
              "</style>\n",
              "<table border=\"1\" class=\"dataframe\">\n",
              "  <thead>\n",
              "    <tr style=\"text-align: right;\">\n",
              "      <th></th>\n",
              "      <th>Date</th>\n",
              "      <th>Recovered</th>\n",
              "    </tr>\n",
              "  </thead>\n",
              "  <tbody>\n",
              "    <tr>\n",
              "      <th>0</th>\n",
              "      <td>2020-01-22</td>\n",
              "      <td>28.0</td>\n",
              "    </tr>\n",
              "    <tr>\n",
              "      <th>1</th>\n",
              "      <td>2020-01-23</td>\n",
              "      <td>30.0</td>\n",
              "    </tr>\n",
              "    <tr>\n",
              "      <th>2</th>\n",
              "      <td>2020-01-24</td>\n",
              "      <td>36.0</td>\n",
              "    </tr>\n",
              "    <tr>\n",
              "      <th>3</th>\n",
              "      <td>2020-01-25</td>\n",
              "      <td>39.0</td>\n",
              "    </tr>\n",
              "    <tr>\n",
              "      <th>4</th>\n",
              "      <td>2020-01-26</td>\n",
              "      <td>52.0</td>\n",
              "    </tr>\n",
              "  </tbody>\n",
              "</table>\n",
              "</div>"
            ],
            "text/plain": [
              "        Date  Recovered\n",
              "0 2020-01-22       28.0\n",
              "1 2020-01-23       30.0\n",
              "2 2020-01-24       36.0\n",
              "3 2020-01-25       39.0\n",
              "4 2020-01-26       52.0"
            ]
          },
          "metadata": {
            "tags": []
          },
          "execution_count": 40
        }
      ]
    },
    {
      "cell_type": "code",
      "metadata": {
        "id": "GabEEahpOhpn"
      },
      "source": [
        "confirmed.columns = ['ds','y']\n",
        "confirmed['ds'] = pd.to_datetime(confirmed['ds'])"
      ],
      "id": "GabEEahpOhpn",
      "execution_count": 43,
      "outputs": []
    },
    {
      "cell_type": "code",
      "metadata": {
        "colab": {
          "base_uri": "https://localhost:8080/"
        },
        "id": "fsCcPEoFOzf1",
        "outputId": "b9b94a9a-0717-4291-f20c-50c9fd4762a9"
      },
      "source": [
        "m = Prophet(interval_width=0.95)\n",
        "m.fit(confirmed)"
      ],
      "id": "fsCcPEoFOzf1",
      "execution_count": 44,
      "outputs": [
        {
          "output_type": "stream",
          "text": [
            "INFO:fbprophet:Disabling yearly seasonality. Run prophet with yearly_seasonality=True to override this.\n",
            "INFO:fbprophet:Disabling daily seasonality. Run prophet with daily_seasonality=True to override this.\n"
          ],
          "name": "stderr"
        },
        {
          "output_type": "execute_result",
          "data": {
            "text/plain": [
              "<fbprophet.forecaster.Prophet at 0x7f1d517eb650>"
            ]
          },
          "metadata": {
            "tags": []
          },
          "execution_count": 44
        }
      ]
    },
    {
      "cell_type": "code",
      "metadata": {
        "id": "0lefG96BO-Cv"
      },
      "source": [
        "future = m.make_future_dataframe(periods=10)"
      ],
      "id": "0lefG96BO-Cv",
      "execution_count": 45,
      "outputs": []
    },
    {
      "cell_type": "code",
      "metadata": {
        "colab": {
          "base_uri": "https://localhost:8080/",
          "height": 204
        },
        "id": "HMDdLAGsPUK3",
        "outputId": "eb36de27-4b53-4399-d5d9-af4a4279f925"
      },
      "source": [
        "future.tail()"
      ],
      "id": "HMDdLAGsPUK3",
      "execution_count": 46,
      "outputs": [
        {
          "output_type": "execute_result",
          "data": {
            "text/html": [
              "<div>\n",
              "<style scoped>\n",
              "    .dataframe tbody tr th:only-of-type {\n",
              "        vertical-align: middle;\n",
              "    }\n",
              "\n",
              "    .dataframe tbody tr th {\n",
              "        vertical-align: top;\n",
              "    }\n",
              "\n",
              "    .dataframe thead th {\n",
              "        text-align: right;\n",
              "    }\n",
              "</style>\n",
              "<table border=\"1\" class=\"dataframe\">\n",
              "  <thead>\n",
              "    <tr style=\"text-align: right;\">\n",
              "      <th></th>\n",
              "      <th>ds</th>\n",
              "    </tr>\n",
              "  </thead>\n",
              "  <tbody>\n",
              "    <tr>\n",
              "      <th>67</th>\n",
              "      <td>2020-03-29</td>\n",
              "    </tr>\n",
              "    <tr>\n",
              "      <th>68</th>\n",
              "      <td>2020-03-30</td>\n",
              "    </tr>\n",
              "    <tr>\n",
              "      <th>69</th>\n",
              "      <td>2020-03-31</td>\n",
              "    </tr>\n",
              "    <tr>\n",
              "      <th>70</th>\n",
              "      <td>2020-04-01</td>\n",
              "    </tr>\n",
              "    <tr>\n",
              "      <th>71</th>\n",
              "      <td>2020-04-02</td>\n",
              "    </tr>\n",
              "  </tbody>\n",
              "</table>\n",
              "</div>"
            ],
            "text/plain": [
              "           ds\n",
              "67 2020-03-29\n",
              "68 2020-03-30\n",
              "69 2020-03-31\n",
              "70 2020-04-01\n",
              "71 2020-04-02"
            ]
          },
          "metadata": {
            "tags": []
          },
          "execution_count": 46
        }
      ]
    },
    {
      "cell_type": "code",
      "metadata": {
        "id": "BudNjXVrPWno"
      },
      "source": [
        "forecast = m.predict(future)"
      ],
      "id": "BudNjXVrPWno",
      "execution_count": 47,
      "outputs": []
    },
    {
      "cell_type": "code",
      "metadata": {
        "colab": {
          "base_uri": "https://localhost:8080/",
          "height": 309
        },
        "id": "DXWYRF-uPi3P",
        "outputId": "0c2f41d9-be7d-473d-fb2d-18fcef4343ce"
      },
      "source": [
        "forecast.head()"
      ],
      "id": "DXWYRF-uPi3P",
      "execution_count": 48,
      "outputs": [
        {
          "output_type": "execute_result",
          "data": {
            "text/html": [
              "<div>\n",
              "<style scoped>\n",
              "    .dataframe tbody tr th:only-of-type {\n",
              "        vertical-align: middle;\n",
              "    }\n",
              "\n",
              "    .dataframe tbody tr th {\n",
              "        vertical-align: top;\n",
              "    }\n",
              "\n",
              "    .dataframe thead th {\n",
              "        text-align: right;\n",
              "    }\n",
              "</style>\n",
              "<table border=\"1\" class=\"dataframe\">\n",
              "  <thead>\n",
              "    <tr style=\"text-align: right;\">\n",
              "      <th></th>\n",
              "      <th>ds</th>\n",
              "      <th>trend</th>\n",
              "      <th>yhat_lower</th>\n",
              "      <th>yhat_upper</th>\n",
              "      <th>trend_lower</th>\n",
              "      <th>trend_upper</th>\n",
              "      <th>additive_terms</th>\n",
              "      <th>additive_terms_lower</th>\n",
              "      <th>additive_terms_upper</th>\n",
              "      <th>weekly</th>\n",
              "      <th>weekly_lower</th>\n",
              "      <th>weekly_upper</th>\n",
              "      <th>multiplicative_terms</th>\n",
              "      <th>multiplicative_terms_lower</th>\n",
              "      <th>multiplicative_terms_upper</th>\n",
              "      <th>yhat</th>\n",
              "    </tr>\n",
              "  </thead>\n",
              "  <tbody>\n",
              "    <tr>\n",
              "      <th>0</th>\n",
              "      <td>2020-01-22</td>\n",
              "      <td>-7287.611732</td>\n",
              "      <td>-30191.675123</td>\n",
              "      <td>9119.664987</td>\n",
              "      <td>-7287.611732</td>\n",
              "      <td>-7287.611732</td>\n",
              "      <td>-2198.640357</td>\n",
              "      <td>-2198.640357</td>\n",
              "      <td>-2198.640357</td>\n",
              "      <td>-2198.640357</td>\n",
              "      <td>-2198.640357</td>\n",
              "      <td>-2198.640357</td>\n",
              "      <td>0.0</td>\n",
              "      <td>0.0</td>\n",
              "      <td>0.0</td>\n",
              "      <td>-9486.252089</td>\n",
              "    </tr>\n",
              "    <tr>\n",
              "      <th>1</th>\n",
              "      <td>2020-01-23</td>\n",
              "      <td>-4596.749352</td>\n",
              "      <td>-25478.407808</td>\n",
              "      <td>15301.681040</td>\n",
              "      <td>-4596.749352</td>\n",
              "      <td>-4596.749352</td>\n",
              "      <td>-1391.184356</td>\n",
              "      <td>-1391.184356</td>\n",
              "      <td>-1391.184356</td>\n",
              "      <td>-1391.184356</td>\n",
              "      <td>-1391.184356</td>\n",
              "      <td>-1391.184356</td>\n",
              "      <td>0.0</td>\n",
              "      <td>0.0</td>\n",
              "      <td>0.0</td>\n",
              "      <td>-5987.933708</td>\n",
              "    </tr>\n",
              "    <tr>\n",
              "      <th>2</th>\n",
              "      <td>2020-01-24</td>\n",
              "      <td>-1905.886972</td>\n",
              "      <td>-22438.977046</td>\n",
              "      <td>20080.350992</td>\n",
              "      <td>-1905.886972</td>\n",
              "      <td>-1905.886972</td>\n",
              "      <td>399.348017</td>\n",
              "      <td>399.348017</td>\n",
              "      <td>399.348017</td>\n",
              "      <td>399.348017</td>\n",
              "      <td>399.348017</td>\n",
              "      <td>399.348017</td>\n",
              "      <td>0.0</td>\n",
              "      <td>0.0</td>\n",
              "      <td>0.0</td>\n",
              "      <td>-1506.538955</td>\n",
              "    </tr>\n",
              "    <tr>\n",
              "      <th>3</th>\n",
              "      <td>2020-01-25</td>\n",
              "      <td>784.975415</td>\n",
              "      <td>-17020.818385</td>\n",
              "      <td>21651.363942</td>\n",
              "      <td>784.975415</td>\n",
              "      <td>784.975415</td>\n",
              "      <td>1531.063631</td>\n",
              "      <td>1531.063631</td>\n",
              "      <td>1531.063631</td>\n",
              "      <td>1531.063631</td>\n",
              "      <td>1531.063631</td>\n",
              "      <td>1531.063631</td>\n",
              "      <td>0.0</td>\n",
              "      <td>0.0</td>\n",
              "      <td>0.0</td>\n",
              "      <td>2316.039046</td>\n",
              "    </tr>\n",
              "    <tr>\n",
              "      <th>4</th>\n",
              "      <td>2020-01-26</td>\n",
              "      <td>3475.837802</td>\n",
              "      <td>-12475.051228</td>\n",
              "      <td>26471.430257</td>\n",
              "      <td>3475.837802</td>\n",
              "      <td>3475.837802</td>\n",
              "      <td>2856.132573</td>\n",
              "      <td>2856.132573</td>\n",
              "      <td>2856.132573</td>\n",
              "      <td>2856.132573</td>\n",
              "      <td>2856.132573</td>\n",
              "      <td>2856.132573</td>\n",
              "      <td>0.0</td>\n",
              "      <td>0.0</td>\n",
              "      <td>0.0</td>\n",
              "      <td>6331.970375</td>\n",
              "    </tr>\n",
              "  </tbody>\n",
              "</table>\n",
              "</div>"
            ],
            "text/plain": [
              "          ds        trend  ...  multiplicative_terms_upper         yhat\n",
              "0 2020-01-22 -7287.611732  ...                         0.0 -9486.252089\n",
              "1 2020-01-23 -4596.749352  ...                         0.0 -5987.933708\n",
              "2 2020-01-24 -1905.886972  ...                         0.0 -1506.538955\n",
              "3 2020-01-25   784.975415  ...                         0.0  2316.039046\n",
              "4 2020-01-26  3475.837802  ...                         0.0  6331.970375\n",
              "\n",
              "[5 rows x 16 columns]"
            ]
          },
          "metadata": {
            "tags": []
          },
          "execution_count": 48
        }
      ]
    },
    {
      "cell_type": "code",
      "metadata": {
        "colab": {
          "base_uri": "https://localhost:8080/",
          "height": 204
        },
        "id": "GQupiw4TPpMq",
        "outputId": "e0af7956-a1b5-49a3-febc-5b21fab0f778"
      },
      "source": [
        "forecast[['ds','yhat','yhat_lower','yhat_upper']].tail()"
      ],
      "id": "GQupiw4TPpMq",
      "execution_count": 49,
      "outputs": [
        {
          "output_type": "execute_result",
          "data": {
            "text/html": [
              "<div>\n",
              "<style scoped>\n",
              "    .dataframe tbody tr th:only-of-type {\n",
              "        vertical-align: middle;\n",
              "    }\n",
              "\n",
              "    .dataframe tbody tr th {\n",
              "        vertical-align: top;\n",
              "    }\n",
              "\n",
              "    .dataframe thead th {\n",
              "        text-align: right;\n",
              "    }\n",
              "</style>\n",
              "<table border=\"1\" class=\"dataframe\">\n",
              "  <thead>\n",
              "    <tr style=\"text-align: right;\">\n",
              "      <th></th>\n",
              "      <th>ds</th>\n",
              "      <th>yhat</th>\n",
              "      <th>yhat_lower</th>\n",
              "      <th>yhat_upper</th>\n",
              "    </tr>\n",
              "  </thead>\n",
              "  <tbody>\n",
              "    <tr>\n",
              "      <th>67</th>\n",
              "      <td>2020-03-29</td>\n",
              "      <td>405307.954675</td>\n",
              "      <td>384115.878679</td>\n",
              "      <td>427717.681271</td>\n",
              "    </tr>\n",
              "    <tr>\n",
              "      <th>68</th>\n",
              "      <td>2020-03-30</td>\n",
              "      <td>418529.648466</td>\n",
              "      <td>396874.098046</td>\n",
              "      <td>440190.859963</td>\n",
              "    </tr>\n",
              "    <tr>\n",
              "      <th>69</th>\n",
              "      <td>2020-03-31</td>\n",
              "      <td>431101.041003</td>\n",
              "      <td>409024.107862</td>\n",
              "      <td>456040.962056</td>\n",
              "    </tr>\n",
              "    <tr>\n",
              "      <th>70</th>\n",
              "      <td>2020-04-01</td>\n",
              "      <td>446176.946518</td>\n",
              "      <td>422369.364121</td>\n",
              "      <td>471829.354907</td>\n",
              "    </tr>\n",
              "    <tr>\n",
              "      <th>71</th>\n",
              "      <td>2020-04-02</td>\n",
              "      <td>462292.324110</td>\n",
              "      <td>433139.673381</td>\n",
              "      <td>489881.459756</td>\n",
              "    </tr>\n",
              "  </tbody>\n",
              "</table>\n",
              "</div>"
            ],
            "text/plain": [
              "           ds           yhat     yhat_lower     yhat_upper\n",
              "67 2020-03-29  405307.954675  384115.878679  427717.681271\n",
              "68 2020-03-30  418529.648466  396874.098046  440190.859963\n",
              "69 2020-03-31  431101.041003  409024.107862  456040.962056\n",
              "70 2020-04-01  446176.946518  422369.364121  471829.354907\n",
              "71 2020-04-02  462292.324110  433139.673381  489881.459756"
            ]
          },
          "metadata": {
            "tags": []
          },
          "execution_count": 49
        }
      ]
    },
    {
      "cell_type": "code",
      "metadata": {
        "colab": {
          "base_uri": "https://localhost:8080/",
          "height": 441
        },
        "id": "4JXI9G2_P1uR",
        "outputId": "999c22af-7a5d-4421-9be2-4691dac5f4f4"
      },
      "source": [
        "plot = m.plot(forecast)"
      ],
      "id": "4JXI9G2_P1uR",
      "execution_count": 50,
      "outputs": [
        {
          "output_type": "display_data",
          "data": {
            "image/png": "[encoded data removed]",
            "text/plain": [
              "<Figure size 720x432 with 1 Axes>"
            ]
          },
          "metadata": {
            "tags": []
          }
        }
      ]
    },
    {
      "cell_type": "code",
      "metadata": {
        "colab": {
          "base_uri": "https://localhost:8080/",
          "height": 441
        },
        "id": "JdS5Vw7WP9na",
        "outputId": "c2af3098-35ef-4f9f-cc7b-eb58b27f1cd6"
      },
      "source": [
        "plot1 = m.plot_components(forecast)"
      ],
      "id": "JdS5Vw7WP9na",
      "execution_count": 51,
      "outputs": [
        {
          "output_type": "display_data",
          "data": {
            "image/png": "[encoded data removed]",
            "text/plain": [
              "<Figure size 648x432 with 2 Axes>"
            ]
          },
          "metadata": {
            "tags": []
          }
        }
      ]
    },
    {
      "cell_type": "code",
      "metadata": {
        "colab": {
          "base_uri": "https://localhost:8080/"
        },
        "id": "oeD4dq5OQJHv",
        "outputId": "1eb3f4ac-b262-4eb7-cea3-2067e65b0b26"
      },
      "source": [
        "deaths.columns = ['ds','y']\n",
        "deaths['ds'] = pd.to_datetime(deaths['ds'])\n",
        "m = Prophet(interval_width=0.95)\n",
        "m.fit(deaths)"
      ],
      "id": "oeD4dq5OQJHv",
      "execution_count": 52,
      "outputs": [
        {
          "output_type": "stream",
          "text": [
            "INFO:fbprophet:Disabling yearly seasonality. Run prophet with yearly_seasonality=True to override this.\n",
            "INFO:fbprophet:Disabling daily seasonality. Run prophet with daily_seasonality=True to override this.\n"
          ],
          "name": "stderr"
        },
        {
          "output_type": "execute_result",
          "data": {
            "text/plain": [
              "<fbprophet.forecaster.Prophet at 0x7f1d574627d0>"
            ]
          },
          "metadata": {
            "tags": []
          },
          "execution_count": 52
        }
      ]
    },
    {
      "cell_type": "code",
      "metadata": {
        "id": "cZRtnABxQjOe"
      },
      "source": [
        "future = m.make_future_dataframe(periods=10)\n",
        "forecast = m.predict(future)"
      ],
      "id": "cZRtnABxQjOe",
      "execution_count": 53,
      "outputs": []
    },
    {
      "cell_type": "code",
      "metadata": {
        "colab": {
          "base_uri": "https://localhost:8080/",
          "height": 441
        },
        "id": "3xqn-dxbQ4Cz",
        "outputId": "231735f6-69f6-47d7-d58e-4405f04e681d"
      },
      "source": [
        "plot = m.plot(forecast)"
      ],
      "id": "3xqn-dxbQ4Cz",
      "execution_count": 54,
      "outputs": [
        {
          "output_type": "display_data",
          "data": {
            "image/png": "[encoded data removed]",
            "text/plain": [
              "<Figure size 720x432 with 1 Axes>"
            ]
          },
          "metadata": {
            "tags": []
          }
        }
      ]
    },
    {
      "cell_type": "code",
      "metadata": {
        "colab": {
          "base_uri": "https://localhost:8080/",
          "height": 441
        },
        "id": "BQqkOtkoQ98Z",
        "outputId": "8a72e1ac-5fa4-4a73-c949-900d91bb4186"
      },
      "source": [
        "plot1 = m.plot_components(forecast)"
      ],
      "id": "BQqkOtkoQ98Z",
      "execution_count": 55,
      "outputs": [
        {
          "output_type": "display_data",
          "data": {
            "image/png": "[encoded data removed]",
            "text/plain": [
              "<Figure size 648x432 with 2 Axes>"
            ]
          },
          "metadata": {
            "tags": []
          }
        }
      ]
    },
    {
      "cell_type": "code",
      "metadata": {
        "colab": {
          "base_uri": "https://localhost:8080/"
        },
        "id": "lOEnbEjiRVt2",
        "outputId": "32d06f7c-0ec3-47b7-843d-937b21a7e037"
      },
      "source": [
        "recovered.columns = ['ds','y']\n",
        "recovered['ds'] = pd.to_datetime(recovered['ds'])\n",
        "m = Prophet(interval_width=0.95)\n",
        "m.fit(recovered)"
      ],
      "id": "lOEnbEjiRVt2",
      "execution_count": 56,
      "outputs": [
        {
          "output_type": "stream",
          "text": [
            "INFO:fbprophet:Disabling yearly seasonality. Run prophet with yearly_seasonality=True to override this.\n",
            "INFO:fbprophet:Disabling daily seasonality. Run prophet with daily_seasonality=True to override this.\n"
          ],
          "name": "stderr"
        },
        {
          "output_type": "execute_result",
          "data": {
            "text/plain": [
              "<fbprophet.forecaster.Prophet at 0x7f1d53c19990>"
            ]
          },
          "metadata": {
            "tags": []
          },
          "execution_count": 56
        }
      ]
    },
    {
      "cell_type": "code",
      "metadata": {
        "id": "wqvFeX9YRWd8"
      },
      "source": [
        "future = m.make_future_dataframe(periods=10)\n",
        "forecast = m.predict(future)"
      ],
      "id": "wqvFeX9YRWd8",
      "execution_count": 57,
      "outputs": []
    },
    {
      "cell_type": "code",
      "metadata": {
        "colab": {
          "base_uri": "https://localhost:8080/",
          "height": 441
        },
        "id": "pCXofhfRRYyS",
        "outputId": "2be4a139-3b7b-49b7-8e15-87888d4d2a21"
      },
      "source": [
        "plot = m.plot(forecast)"
      ],
      "id": "pCXofhfRRYyS",
      "execution_count": 58,
      "outputs": [
        {
          "output_type": "display_data",
          "data": {
            "image/png": "[encoded data removed]",
            "text/plain": [
              "<Figure size 720x432 with 1 Axes>"
            ]
          },
          "metadata": {
            "tags": []
          }
        }
      ]
    },
    {
      "cell_type": "code",
      "metadata": {
        "colab": {
          "base_uri": "https://localhost:8080/",
          "height": 441
        },
        "id": "jy3fvnQfRcCt",
        "outputId": "b0d64c5a-714b-459b-8bdd-c1b9c1b55e1c"
      },
      "source": [
        "plot1 = m.plot_components(forecast)"
      ],
      "id": "jy3fvnQfRcCt",
      "execution_count": 59,
      "outputs": [
        {
          "output_type": "display_data",
          "data": {
            "image/png": "[encoded data removed]",
            "text/plain": [
              "<Figure size 648x432 with 2 Axes>"
            ]
          },
          "metadata": {
            "tags": []
          }
        }
      ]
    }
  ]
}